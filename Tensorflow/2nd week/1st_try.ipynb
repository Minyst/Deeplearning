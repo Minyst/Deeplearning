{
 "cells": [
  {
   "cell_type": "code",
   "execution_count": 1,
   "id": "72749e24",
   "metadata": {},
   "outputs": [
    {
     "data": {
      "text/html": [
       "<div>\n",
       "<style scoped>\n",
       "    .dataframe tbody tr th:only-of-type {\n",
       "        vertical-align: middle;\n",
       "    }\n",
       "\n",
       "    .dataframe tbody tr th {\n",
       "        vertical-align: top;\n",
       "    }\n",
       "\n",
       "    .dataframe thead th {\n",
       "        text-align: right;\n",
       "    }\n",
       "</style>\n",
       "<table border=\"1\" class=\"dataframe\">\n",
       "  <thead>\n",
       "    <tr style=\"text-align: right;\">\n",
       "      <th></th>\n",
       "      <th>ID</th>\n",
       "      <th>TARGET</th>\n",
       "      <th>성별</th>\n",
       "      <th>차량 소유 여부</th>\n",
       "      <th>부동산 소유 여부</th>\n",
       "      <th>자녀 수</th>\n",
       "      <th>연간 수입</th>\n",
       "      <th>수입 유형</th>\n",
       "      <th>최종 학력</th>\n",
       "      <th>결혼 여부</th>\n",
       "      <th>...</th>\n",
       "      <th>거주지 인구 비율</th>\n",
       "      <th>휴대전화 소유 여부</th>\n",
       "      <th>업무용 휴대전화 소유 여부</th>\n",
       "      <th>이메일 소유 여부</th>\n",
       "      <th>직업</th>\n",
       "      <th>가족 구성원 수</th>\n",
       "      <th>산업군</th>\n",
       "      <th>나이</th>\n",
       "      <th>근속연수</th>\n",
       "      <th>가입연수</th>\n",
       "    </tr>\n",
       "  </thead>\n",
       "  <tbody>\n",
       "    <tr>\n",
       "      <th>0</th>\n",
       "      <td>TRAIN_00000</td>\n",
       "      <td>0</td>\n",
       "      <td>여성</td>\n",
       "      <td>1</td>\n",
       "      <td>1</td>\n",
       "      <td>2</td>\n",
       "      <td>18054000.0</td>\n",
       "      <td>연금수령자</td>\n",
       "      <td>고등학교 졸업</td>\n",
       "      <td>기혼</td>\n",
       "      <td>...</td>\n",
       "      <td>0.004960</td>\n",
       "      <td>1</td>\n",
       "      <td>0</td>\n",
       "      <td>0</td>\n",
       "      <td>Unknown</td>\n",
       "      <td>4.0</td>\n",
       "      <td>기타 1</td>\n",
       "      <td>39</td>\n",
       "      <td>1000</td>\n",
       "      <td>23.0</td>\n",
       "    </tr>\n",
       "    <tr>\n",
       "      <th>1</th>\n",
       "      <td>TRAIN_00001</td>\n",
       "      <td>0</td>\n",
       "      <td>남성</td>\n",
       "      <td>1</td>\n",
       "      <td>0</td>\n",
       "      <td>0</td>\n",
       "      <td>59472000.0</td>\n",
       "      <td>근로자</td>\n",
       "      <td>대학교 졸업 이상</td>\n",
       "      <td>기혼</td>\n",
       "      <td>...</td>\n",
       "      <td>0.018029</td>\n",
       "      <td>1</td>\n",
       "      <td>1</td>\n",
       "      <td>0</td>\n",
       "      <td>기술직</td>\n",
       "      <td>2.0</td>\n",
       "      <td>사업 1</td>\n",
       "      <td>45</td>\n",
       "      <td>4</td>\n",
       "      <td>16.0</td>\n",
       "    </tr>\n",
       "    <tr>\n",
       "      <th>2</th>\n",
       "      <td>TRAIN_00002</td>\n",
       "      <td>0</td>\n",
       "      <td>여성</td>\n",
       "      <td>0</td>\n",
       "      <td>1</td>\n",
       "      <td>0</td>\n",
       "      <td>29736000.0</td>\n",
       "      <td>근로자</td>\n",
       "      <td>고등학교 졸업</td>\n",
       "      <td>기혼</td>\n",
       "      <td>...</td>\n",
       "      <td>0.010500</td>\n",
       "      <td>1</td>\n",
       "      <td>1</td>\n",
       "      <td>0</td>\n",
       "      <td>단순 노동자</td>\n",
       "      <td>2.0</td>\n",
       "      <td>사업 0</td>\n",
       "      <td>32</td>\n",
       "      <td>3</td>\n",
       "      <td>9.0</td>\n",
       "    </tr>\n",
       "    <tr>\n",
       "      <th>3</th>\n",
       "      <td>TRAIN_00003</td>\n",
       "      <td>0</td>\n",
       "      <td>여성</td>\n",
       "      <td>1</td>\n",
       "      <td>0</td>\n",
       "      <td>1</td>\n",
       "      <td>38232000.0</td>\n",
       "      <td>기타</td>\n",
       "      <td>고등학교 졸업</td>\n",
       "      <td>기혼</td>\n",
       "      <td>...</td>\n",
       "      <td>0.004849</td>\n",
       "      <td>1</td>\n",
       "      <td>1</td>\n",
       "      <td>0</td>\n",
       "      <td>Unknown</td>\n",
       "      <td>3.0</td>\n",
       "      <td>산업 4</td>\n",
       "      <td>34</td>\n",
       "      <td>6</td>\n",
       "      <td>12.0</td>\n",
       "    </tr>\n",
       "    <tr>\n",
       "      <th>4</th>\n",
       "      <td>TRAIN_00004</td>\n",
       "      <td>0</td>\n",
       "      <td>여성</td>\n",
       "      <td>0</td>\n",
       "      <td>1</td>\n",
       "      <td>0</td>\n",
       "      <td>26550000.0</td>\n",
       "      <td>근로자</td>\n",
       "      <td>고등학교 졸업</td>\n",
       "      <td>기혼</td>\n",
       "      <td>...</td>\n",
       "      <td>0.025164</td>\n",
       "      <td>1</td>\n",
       "      <td>1</td>\n",
       "      <td>0</td>\n",
       "      <td>Unknown</td>\n",
       "      <td>2.0</td>\n",
       "      <td>사업 2</td>\n",
       "      <td>38</td>\n",
       "      <td>0</td>\n",
       "      <td>4.0</td>\n",
       "    </tr>\n",
       "  </tbody>\n",
       "</table>\n",
       "<p>5 rows × 21 columns</p>\n",
       "</div>"
      ],
      "text/plain": [
       "            ID  TARGET  성별  차량 소유 여부  부동산 소유 여부  자녀 수       연간 수입  수입 유형  \\\n",
       "0  TRAIN_00000       0  여성         1          1     2  18054000.0  연금수령자   \n",
       "1  TRAIN_00001       0  남성         1          0     0  59472000.0    근로자   \n",
       "2  TRAIN_00002       0  여성         0          1     0  29736000.0    근로자   \n",
       "3  TRAIN_00003       0  여성         1          0     1  38232000.0     기타   \n",
       "4  TRAIN_00004       0  여성         0          1     0  26550000.0    근로자   \n",
       "\n",
       "       최종 학력 결혼 여부  ... 거주지 인구 비율  휴대전화 소유 여부  업무용 휴대전화 소유 여부  이메일 소유 여부  \\\n",
       "0    고등학교 졸업    기혼  ...  0.004960           1               0          0   \n",
       "1  대학교 졸업 이상    기혼  ...  0.018029           1               1          0   \n",
       "2    고등학교 졸업    기혼  ...  0.010500           1               1          0   \n",
       "3    고등학교 졸업    기혼  ...  0.004849           1               1          0   \n",
       "4    고등학교 졸업    기혼  ...  0.025164           1               1          0   \n",
       "\n",
       "        직업 가족 구성원 수   산업군  나이  근속연수  가입연수  \n",
       "0  Unknown      4.0  기타 1  39  1000  23.0  \n",
       "1      기술직      2.0  사업 1  45     4  16.0  \n",
       "2   단순 노동자      2.0  사업 0  32     3   9.0  \n",
       "3  Unknown      3.0  산업 4  34     6  12.0  \n",
       "4  Unknown      2.0  사업 2  38     0   4.0  \n",
       "\n",
       "[5 rows x 21 columns]"
      ]
     },
     "execution_count": 1,
     "metadata": {},
     "output_type": "execute_result"
    }
   ],
   "source": [
    "import pandas as pd\n",
    "import numpy as np\n",
    "\n",
    "train_df = pd.read_csv('train.csv')\n",
    "test_df = pd.read_csv('test.csv')\n",
    "sub = pd.read_csv('sample_submission.csv')\n",
    "\n",
    "train_df.head()"
   ]
  },
  {
   "cell_type": "code",
   "execution_count": 2,
   "id": "4bec89d0",
   "metadata": {},
   "outputs": [
    {
     "data": {
      "text/html": [
       "<div>\n",
       "<style scoped>\n",
       "    .dataframe tbody tr th:only-of-type {\n",
       "        vertical-align: middle;\n",
       "    }\n",
       "\n",
       "    .dataframe tbody tr th {\n",
       "        vertical-align: top;\n",
       "    }\n",
       "\n",
       "    .dataframe thead th {\n",
       "        text-align: right;\n",
       "    }\n",
       "</style>\n",
       "<table border=\"1\" class=\"dataframe\">\n",
       "  <thead>\n",
       "    <tr style=\"text-align: right;\">\n",
       "      <th></th>\n",
       "      <th>ID</th>\n",
       "      <th>성별</th>\n",
       "      <th>차량 소유 여부</th>\n",
       "      <th>부동산 소유 여부</th>\n",
       "      <th>자녀 수</th>\n",
       "      <th>연간 수입</th>\n",
       "      <th>수입 유형</th>\n",
       "      <th>최종 학력</th>\n",
       "      <th>결혼 여부</th>\n",
       "      <th>주거 형태</th>\n",
       "      <th>거주지 인구 비율</th>\n",
       "      <th>휴대전화 소유 여부</th>\n",
       "      <th>업무용 휴대전화 소유 여부</th>\n",
       "      <th>이메일 소유 여부</th>\n",
       "      <th>직업</th>\n",
       "      <th>가족 구성원 수</th>\n",
       "      <th>산업군</th>\n",
       "      <th>나이</th>\n",
       "      <th>근속연수</th>\n",
       "      <th>가입연수</th>\n",
       "    </tr>\n",
       "  </thead>\n",
       "  <tbody>\n",
       "    <tr>\n",
       "      <th>0</th>\n",
       "      <td>TEST_00000</td>\n",
       "      <td>남성</td>\n",
       "      <td>0</td>\n",
       "      <td>0</td>\n",
       "      <td>2</td>\n",
       "      <td>37170000.0</td>\n",
       "      <td>근로자</td>\n",
       "      <td>대학교 중퇴</td>\n",
       "      <td>기혼</td>\n",
       "      <td>주택 / 아파트</td>\n",
       "      <td>0.006296</td>\n",
       "      <td>1</td>\n",
       "      <td>1</td>\n",
       "      <td>0</td>\n",
       "      <td>핵심 노동자</td>\n",
       "      <td>4.0</td>\n",
       "      <td>기타 0</td>\n",
       "      <td>27</td>\n",
       "      <td>2</td>\n",
       "      <td>8.0</td>\n",
       "    </tr>\n",
       "    <tr>\n",
       "      <th>1</th>\n",
       "      <td>TEST_00001</td>\n",
       "      <td>남성</td>\n",
       "      <td>0</td>\n",
       "      <td>0</td>\n",
       "      <td>0</td>\n",
       "      <td>47790000.0</td>\n",
       "      <td>근로자</td>\n",
       "      <td>대학교 졸업 이상</td>\n",
       "      <td>기혼</td>\n",
       "      <td>주택 / 아파트</td>\n",
       "      <td>0.004960</td>\n",
       "      <td>1</td>\n",
       "      <td>1</td>\n",
       "      <td>0</td>\n",
       "      <td>관리직</td>\n",
       "      <td>2.0</td>\n",
       "      <td>정부</td>\n",
       "      <td>40</td>\n",
       "      <td>8</td>\n",
       "      <td>11.0</td>\n",
       "    </tr>\n",
       "    <tr>\n",
       "      <th>2</th>\n",
       "      <td>TEST_00002</td>\n",
       "      <td>남성</td>\n",
       "      <td>1</td>\n",
       "      <td>1</td>\n",
       "      <td>1</td>\n",
       "      <td>37170000.0</td>\n",
       "      <td>공무원</td>\n",
       "      <td>고등학교 졸업</td>\n",
       "      <td>기혼</td>\n",
       "      <td>주택 / 아파트</td>\n",
       "      <td>0.026392</td>\n",
       "      <td>1</td>\n",
       "      <td>1</td>\n",
       "      <td>0</td>\n",
       "      <td>관리직</td>\n",
       "      <td>3.0</td>\n",
       "      <td>국가 안보</td>\n",
       "      <td>43</td>\n",
       "      <td>15</td>\n",
       "      <td>14.0</td>\n",
       "    </tr>\n",
       "    <tr>\n",
       "      <th>3</th>\n",
       "      <td>TEST_00003</td>\n",
       "      <td>여성</td>\n",
       "      <td>0</td>\n",
       "      <td>1</td>\n",
       "      <td>0</td>\n",
       "      <td>31860000.0</td>\n",
       "      <td>연금수령자</td>\n",
       "      <td>고등학교 졸업</td>\n",
       "      <td>기혼</td>\n",
       "      <td>주택 / 아파트</td>\n",
       "      <td>0.014464</td>\n",
       "      <td>1</td>\n",
       "      <td>0</td>\n",
       "      <td>0</td>\n",
       "      <td>Unknown</td>\n",
       "      <td>2.0</td>\n",
       "      <td>기타 1</td>\n",
       "      <td>51</td>\n",
       "      <td>1000</td>\n",
       "      <td>7.0</td>\n",
       "    </tr>\n",
       "    <tr>\n",
       "      <th>4</th>\n",
       "      <td>TEST_00004</td>\n",
       "      <td>여성</td>\n",
       "      <td>0</td>\n",
       "      <td>1</td>\n",
       "      <td>2</td>\n",
       "      <td>19116000.0</td>\n",
       "      <td>근로자</td>\n",
       "      <td>고등학교 졸업</td>\n",
       "      <td>기혼</td>\n",
       "      <td>공공분양</td>\n",
       "      <td>0.031329</td>\n",
       "      <td>1</td>\n",
       "      <td>1</td>\n",
       "      <td>0</td>\n",
       "      <td>의료 업계 종사자</td>\n",
       "      <td>4.0</td>\n",
       "      <td>의학</td>\n",
       "      <td>31</td>\n",
       "      <td>10</td>\n",
       "      <td>2.0</td>\n",
       "    </tr>\n",
       "  </tbody>\n",
       "</table>\n",
       "</div>"
      ],
      "text/plain": [
       "           ID  성별  차량 소유 여부  부동산 소유 여부  자녀 수       연간 수입  수입 유형      최종 학력  \\\n",
       "0  TEST_00000  남성         0          0     2  37170000.0    근로자     대학교 중퇴   \n",
       "1  TEST_00001  남성         0          0     0  47790000.0    근로자  대학교 졸업 이상   \n",
       "2  TEST_00002  남성         1          1     1  37170000.0    공무원    고등학교 졸업   \n",
       "3  TEST_00003  여성         0          1     0  31860000.0  연금수령자    고등학교 졸업   \n",
       "4  TEST_00004  여성         0          1     2  19116000.0    근로자    고등학교 졸업   \n",
       "\n",
       "  결혼 여부     주거 형태  거주지 인구 비율  휴대전화 소유 여부  업무용 휴대전화 소유 여부  이메일 소유 여부  \\\n",
       "0    기혼  주택 / 아파트   0.006296           1               1          0   \n",
       "1    기혼  주택 / 아파트   0.004960           1               1          0   \n",
       "2    기혼  주택 / 아파트   0.026392           1               1          0   \n",
       "3    기혼  주택 / 아파트   0.014464           1               0          0   \n",
       "4    기혼      공공분양   0.031329           1               1          0   \n",
       "\n",
       "          직업  가족 구성원 수    산업군  나이  근속연수  가입연수  \n",
       "0     핵심 노동자       4.0   기타 0  27     2   8.0  \n",
       "1        관리직       2.0     정부  40     8  11.0  \n",
       "2        관리직       3.0  국가 안보  43    15  14.0  \n",
       "3    Unknown       2.0   기타 1  51  1000   7.0  \n",
       "4  의료 업계 종사자       4.0     의학  31    10   2.0  "
      ]
     },
     "execution_count": 2,
     "metadata": {},
     "output_type": "execute_result"
    }
   ],
   "source": [
    "test_df.head()"
   ]
  },
  {
   "cell_type": "code",
   "execution_count": 3,
   "id": "4bdde7a8",
   "metadata": {},
   "outputs": [
    {
     "name": "stdout",
     "output_type": "stream",
     "text": [
      "<class 'pandas.core.frame.DataFrame'>\n",
      "RangeIndex: 60000 entries, 0 to 59999\n",
      "Data columns (total 21 columns):\n",
      " #   Column          Non-Null Count  Dtype  \n",
      "---  ------          --------------  -----  \n",
      " 0   ID              60000 non-null  object \n",
      " 1   TARGET          60000 non-null  int64  \n",
      " 2   성별              60000 non-null  object \n",
      " 3   차량 소유 여부        60000 non-null  int64  \n",
      " 4   부동산 소유 여부       60000 non-null  int64  \n",
      " 5   자녀 수            60000 non-null  int64  \n",
      " 6   연간 수입           60000 non-null  float64\n",
      " 7   수입 유형           60000 non-null  object \n",
      " 8   최종 학력           60000 non-null  object \n",
      " 9   결혼 여부           60000 non-null  object \n",
      " 10  주거 형태           60000 non-null  object \n",
      " 11  거주지 인구 비율       60000 non-null  float64\n",
      " 12  휴대전화 소유 여부      60000 non-null  int64  \n",
      " 13  업무용 휴대전화 소유 여부  60000 non-null  int64  \n",
      " 14  이메일 소유 여부       60000 non-null  int64  \n",
      " 15  직업              60000 non-null  object \n",
      " 16  가족 구성원 수        60000 non-null  float64\n",
      " 17  산업군             60000 non-null  object \n",
      " 18  나이              60000 non-null  int64  \n",
      " 19  근속연수            60000 non-null  int64  \n",
      " 20  가입연수            60000 non-null  float64\n",
      "dtypes: float64(4), int64(9), object(8)\n",
      "memory usage: 9.6+ MB\n"
     ]
    }
   ],
   "source": [
    "train_df.info()"
   ]
  },
  {
   "cell_type": "code",
   "execution_count": 4,
   "id": "b935ec6e",
   "metadata": {},
   "outputs": [
    {
     "name": "stdout",
     "output_type": "stream",
     "text": [
      "<class 'pandas.core.frame.DataFrame'>\n",
      "RangeIndex: 40000 entries, 0 to 39999\n",
      "Data columns (total 20 columns):\n",
      " #   Column          Non-Null Count  Dtype  \n",
      "---  ------          --------------  -----  \n",
      " 0   ID              40000 non-null  object \n",
      " 1   성별              40000 non-null  object \n",
      " 2   차량 소유 여부        40000 non-null  int64  \n",
      " 3   부동산 소유 여부       40000 non-null  int64  \n",
      " 4   자녀 수            40000 non-null  int64  \n",
      " 5   연간 수입           40000 non-null  float64\n",
      " 6   수입 유형           40000 non-null  object \n",
      " 7   최종 학력           40000 non-null  object \n",
      " 8   결혼 여부           40000 non-null  object \n",
      " 9   주거 형태           40000 non-null  object \n",
      " 10  거주지 인구 비율       40000 non-null  float64\n",
      " 11  휴대전화 소유 여부      40000 non-null  int64  \n",
      " 12  업무용 휴대전화 소유 여부  40000 non-null  int64  \n",
      " 13  이메일 소유 여부       40000 non-null  int64  \n",
      " 14  직업              40000 non-null  object \n",
      " 15  가족 구성원 수        40000 non-null  float64\n",
      " 16  산업군             40000 non-null  object \n",
      " 17  나이              40000 non-null  int64  \n",
      " 18  근속연수            40000 non-null  int64  \n",
      " 19  가입연수            40000 non-null  float64\n",
      "dtypes: float64(4), int64(8), object(8)\n",
      "memory usage: 6.1+ MB\n"
     ]
    }
   ],
   "source": [
    "test_df.info()"
   ]
  },
  {
   "cell_type": "code",
   "execution_count": 5,
   "id": "68d3d21b",
   "metadata": {},
   "outputs": [
    {
     "data": {
      "text/plain": [
       "ID                0\n",
       "TARGET            0\n",
       "성별                0\n",
       "차량 소유 여부          0\n",
       "부동산 소유 여부         0\n",
       "자녀 수              0\n",
       "연간 수입             0\n",
       "수입 유형             0\n",
       "최종 학력             0\n",
       "결혼 여부             0\n",
       "주거 형태             0\n",
       "거주지 인구 비율         0\n",
       "휴대전화 소유 여부        0\n",
       "업무용 휴대전화 소유 여부    0\n",
       "이메일 소유 여부         0\n",
       "직업                0\n",
       "가족 구성원 수          0\n",
       "산업군               0\n",
       "나이                0\n",
       "근속연수              0\n",
       "가입연수              0\n",
       "dtype: int64"
      ]
     },
     "execution_count": 5,
     "metadata": {},
     "output_type": "execute_result"
    }
   ],
   "source": [
    "train_df.isnull().sum()"
   ]
  },
  {
   "cell_type": "code",
   "execution_count": 6,
   "id": "947ee182",
   "metadata": {},
   "outputs": [
    {
     "data": {
      "text/plain": [
       "ID                0\n",
       "성별                0\n",
       "차량 소유 여부          0\n",
       "부동산 소유 여부         0\n",
       "자녀 수              0\n",
       "연간 수입             0\n",
       "수입 유형             0\n",
       "최종 학력             0\n",
       "결혼 여부             0\n",
       "주거 형태             0\n",
       "거주지 인구 비율         0\n",
       "휴대전화 소유 여부        0\n",
       "업무용 휴대전화 소유 여부    0\n",
       "이메일 소유 여부         0\n",
       "직업                0\n",
       "가족 구성원 수          0\n",
       "산업군               0\n",
       "나이                0\n",
       "근속연수              0\n",
       "가입연수              0\n",
       "dtype: int64"
      ]
     },
     "execution_count": 6,
     "metadata": {},
     "output_type": "execute_result"
    }
   ],
   "source": [
    "test_df.isnull().sum()"
   ]
  },
  {
   "cell_type": "code",
   "execution_count": 7,
   "id": "f9854ebf",
   "metadata": {},
   "outputs": [
    {
     "data": {
      "text/plain": [
       "Index(['TARGET', '차량 소유 여부', '부동산 소유 여부', '자녀 수', '연간 수입', '거주지 인구 비율',\n",
       "       '휴대전화 소유 여부', '업무용 휴대전화 소유 여부', '이메일 소유 여부', '가족 구성원 수', '나이', '근속연수',\n",
       "       '가입연수'],\n",
       "      dtype='object')"
      ]
     },
     "execution_count": 7,
     "metadata": {},
     "output_type": "execute_result"
    }
   ],
   "source": [
    "train_df.select_dtypes('number').columns"
   ]
  },
  {
   "cell_type": "code",
   "execution_count": 8,
   "id": "b2ccb3ea",
   "metadata": {},
   "outputs": [
    {
     "data": {
      "text/plain": [
       "Index(['ID', '성별', '수입 유형', '최종 학력', '결혼 여부', '주거 형태', '직업', '산업군'], dtype='object')"
      ]
     },
     "execution_count": 8,
     "metadata": {},
     "output_type": "execute_result"
    }
   ],
   "source": [
    "train_df.select_dtypes('object').columns"
   ]
  },
  {
   "cell_type": "code",
   "execution_count": 9,
   "id": "176caa93",
   "metadata": {},
   "outputs": [],
   "source": [
    "num_cols = ['차량 소유 여부', '부동산 소유 여부', '자녀 수', '연간 수입', '거주지 인구 비율',\n",
    "       '휴대전화 소유 여부', '업무용 휴대전화 소유 여부', '이메일 소유 여부', '가족 구성원 수', '나이', '근속연수',\n",
    "       '가입연수']\n",
    "\n",
    "cat_cols = ['성별', '수입 유형', '최종 학력', '결혼 여부', '주거 형태', '직업', '산업군']"
   ]
  },
  {
   "cell_type": "code",
   "execution_count": 10,
   "id": "91176dd2",
   "metadata": {},
   "outputs": [
    {
     "name": "stdout",
     "output_type": "stream",
     "text": [
      "(42000, 21)\n",
      "(18000, 21)\n"
     ]
    }
   ],
   "source": [
    "from sklearn.model_selection import train_test_split\n",
    "train,valid = train_test_split(train_df,test_size=0.3,random_state=1000,stratify=train_df['TARGET'])\n",
    "print(train.shape)\n",
    "print(valid.shape)"
   ]
  },
  {
   "cell_type": "code",
   "execution_count": 11,
   "id": "fb82284e",
   "metadata": {},
   "outputs": [
    {
     "name": "stdout",
     "output_type": "stream",
     "text": [
      "(42000, 12)\n",
      "(18000, 12)\n",
      "(40000, 12)\n"
     ]
    }
   ],
   "source": [
    "from sklearn.preprocessing import StandardScaler\n",
    "scaler = StandardScaler()\n",
    "scaler.fit(train[num_cols])\n",
    "\n",
    "train_scaled = scaler.transform(train[num_cols])\n",
    "valid_scaled = scaler.transform(valid[num_cols])\n",
    "test_scaled = scaler.transform(test_df[num_cols])\n",
    "\n",
    "train_scaled_df = pd.DataFrame(train_scaled,columns=train[num_cols].columns)\n",
    "valid_scaled_df = pd.DataFrame(valid_scaled,columns=valid[num_cols].columns)\n",
    "test_scaled_df = pd.DataFrame(test_scaled,columns=test_df[num_cols].columns)\n",
    "\n",
    "print(train_scaled_df.shape)\n",
    "print(valid_scaled_df.shape)\n",
    "print(test_scaled_df.shape)"
   ]
  },
  {
   "cell_type": "code",
   "execution_count": 12,
   "id": "2a5fcbd0",
   "metadata": {},
   "outputs": [
    {
     "name": "stdout",
     "output_type": "stream",
     "text": [
      "(42000, 98)\n",
      "(18000, 98)\n",
      "(40000, 98)\n"
     ]
    },
    {
     "name": "stderr",
     "output_type": "stream",
     "text": [
      "C:\\Users\\Owner\\anaconda3\\lib\\site-packages\\sklearn\\preprocessing\\_encoders.py:828: FutureWarning: `sparse` was renamed to `sparse_output` in version 1.2 and will be removed in 1.4. `sparse_output` is ignored unless you leave `sparse` to its default value.\n",
      "  warnings.warn(\n"
     ]
    }
   ],
   "source": [
    "from sklearn.preprocessing import OneHotEncoder\n",
    "encoder = OneHotEncoder(sparse=False,handle_unknown='ignore')\n",
    "encoder.fit(train[cat_cols])\n",
    "\n",
    "train_encoded = encoder.transform(train[cat_cols])\n",
    "valid_encoded = encoder.transform(valid[cat_cols])\n",
    "test_encoded = encoder.transform(test_df[cat_cols])\n",
    "\n",
    "train_encoded_df = pd.DataFrame(train_encoded,columns=encoder.get_feature_names_out())\n",
    "valid_encoded_df = pd.DataFrame(valid_encoded,columns=encoder.get_feature_names_out())\n",
    "test_encoded_df = pd.DataFrame(test_encoded,columns=encoder.get_feature_names_out())\n",
    "\n",
    "print(train_encoded_df.shape)\n",
    "print(valid_encoded_df.shape)\n",
    "print(test_encoded_df.shape)"
   ]
  },
  {
   "cell_type": "code",
   "execution_count": 13,
   "id": "c73943ad",
   "metadata": {},
   "outputs": [
    {
     "name": "stdout",
     "output_type": "stream",
     "text": [
      "(42000, 110)\n",
      "(18000, 110)\n",
      "(40000, 110)\n"
     ]
    }
   ],
   "source": [
    "x_train = np.concatenate([train_scaled,train_encoded],axis=1)\n",
    "x_valid = np.concatenate([valid_scaled,valid_encoded],axis=1)\n",
    "x_test = np.concatenate([test_scaled,test_encoded],axis=1)\n",
    "\n",
    "print(x_train.shape)\n",
    "print(x_valid.shape)\n",
    "print(x_test.shape)"
   ]
  },
  {
   "cell_type": "code",
   "execution_count": 14,
   "id": "70323d7f",
   "metadata": {},
   "outputs": [
    {
     "name": "stdout",
     "output_type": "stream",
     "text": [
      "(42000, 1)\n",
      "(18000, 1)\n"
     ]
    }
   ],
   "source": [
    "y_train = np.array(train['TARGET']).reshape(-1,1)\n",
    "y_valid = np.array(valid['TARGET']).reshape(-1,1)\n",
    "print(y_train.shape)\n",
    "print(y_valid.shape)"
   ]
  },
  {
   "cell_type": "code",
   "execution_count": 15,
   "id": "a22eb2b5",
   "metadata": {},
   "outputs": [
    {
     "name": "stdout",
     "output_type": "stream",
     "text": [
      "WARNING:tensorflow:From C:\\Users\\Owner\\anaconda3\\lib\\site-packages\\keras\\src\\losses.py:2976: The name tf.losses.sparse_softmax_cross_entropy is deprecated. Please use tf.compat.v1.losses.sparse_softmax_cross_entropy instead.\n",
      "\n"
     ]
    }
   ],
   "source": [
    "import tensorflow as tf"
   ]
  },
  {
   "cell_type": "code",
   "execution_count": 16,
   "id": "0fe60ded",
   "metadata": {},
   "outputs": [],
   "source": [
    "from sklearn.metrics import roc_auc_score\n",
    "num_classes = 2\n",
    "def auc_score(y_true,y_pred):\n",
    "    y_pred = np.argmax(y_pred,1)\n",
    "    auc_scores = []\n",
    "    for k in range(num_classes):\n",
    "        y_tr_k = (y_true==k)\n",
    "        y_pr_k = (y_pred==k)\n",
    "        auc_k = roc_auc_score(y_pr_k,y_tr_k)\n",
    "        auc_scores.append(auc_k)\n",
    "    return np.mean(auc_scores)    "
   ]
  },
  {
   "cell_type": "code",
   "execution_count": 17,
   "id": "f14d1c91",
   "metadata": {},
   "outputs": [],
   "source": [
    "def custom_metric(y_true,y_pred):\n",
    "    auc = tf.py_function(func=auc_score,inp=[y_true,y_pred],Tout=tf.float32)\n",
    "    return auc"
   ]
  },
  {
   "cell_type": "code",
   "execution_count": 18,
   "id": "4639b79e",
   "metadata": {},
   "outputs": [
    {
     "name": "stdout",
     "output_type": "stream",
     "text": [
      "WARNING:tensorflow:From C:\\Users\\Owner\\anaconda3\\lib\\site-packages\\keras\\src\\backend.py:873: The name tf.get_default_graph is deprecated. Please use tf.compat.v1.get_default_graph instead.\n",
      "\n"
     ]
    }
   ],
   "source": [
    "from tensorflow.keras.models import Sequential\n",
    "from tensorflow.keras.layers import Dense,Dropout\n",
    "\n",
    "model = Sequential()\n",
    "model.add(Dense(1024,activation='relu',input_shape=(110,)))\n",
    "model.add(Dropout(0.5))\n",
    "model.add(Dense(512,activation='relu'))\n",
    "model.add(Dropout(0.5))\n",
    "model.add(Dense(256,activation='relu'))\n",
    "model.add(Dropout(0.5))\n",
    "model.add(Dense(1,activation='sigmoid'))"
   ]
  },
  {
   "cell_type": "code",
   "execution_count": 19,
   "id": "f632590b",
   "metadata": {},
   "outputs": [],
   "source": [
    "model.compile(\n",
    "    optimizer = tf.keras.optimizers.Adam(learning_rate=0.001),\n",
    "    loss = tf.keras.losses.BinaryCrossentropy(from_logits=False),\n",
    "    metrics = [tf.keras.metrics.BinaryAccuracy(),\n",
    "             custom_metric]\n",
    ")"
   ]
  },
  {
   "cell_type": "code",
   "execution_count": 20,
   "id": "c2e879a8",
   "metadata": {},
   "outputs": [
    {
     "name": "stdout",
     "output_type": "stream",
     "text": [
      "Epoch 1/10\n",
      "WARNING:tensorflow:From C:\\Users\\Owner\\anaconda3\\lib\\site-packages\\keras\\src\\utils\\tf_utils.py:492: The name tf.ragged.RaggedTensorValue is deprecated. Please use tf.compat.v1.ragged.RaggedTensorValue instead.\n",
      "\n",
      "WARNING:tensorflow:From C:\\Users\\Owner\\anaconda3\\lib\\site-packages\\keras\\src\\engine\\base_layer_utils.py:384: The name tf.executing_eagerly_outside_functions is deprecated. Please use tf.compat.v1.executing_eagerly_outside_functions instead.\n",
      "\n"
     ]
    },
    {
     "ename": "InvalidArgumentError",
     "evalue": "Graph execution error:\n\nDetected at node EagerPyFunc defined at (most recent call last):\n  File \"C:\\Users\\Owner\\anaconda3\\lib\\runpy.py\", line 196, in _run_module_as_main\n\n  File \"C:\\Users\\Owner\\anaconda3\\lib\\runpy.py\", line 86, in _run_code\n\n  File \"C:\\Users\\Owner\\anaconda3\\lib\\site-packages\\ipykernel_launcher.py\", line 17, in <module>\n\n  File \"C:\\Users\\Owner\\anaconda3\\lib\\site-packages\\traitlets\\config\\application.py\", line 992, in launch_instance\n\n  File \"C:\\Users\\Owner\\anaconda3\\lib\\site-packages\\ipykernel\\kernelapp.py\", line 711, in start\n\n  File \"C:\\Users\\Owner\\anaconda3\\lib\\site-packages\\tornado\\platform\\asyncio.py\", line 199, in start\n\n  File \"C:\\Users\\Owner\\anaconda3\\lib\\asyncio\\base_events.py\", line 603, in run_forever\n\n  File \"C:\\Users\\Owner\\anaconda3\\lib\\asyncio\\base_events.py\", line 1906, in _run_once\n\n  File \"C:\\Users\\Owner\\anaconda3\\lib\\asyncio\\events.py\", line 80, in _run\n\n  File \"C:\\Users\\Owner\\anaconda3\\lib\\site-packages\\ipykernel\\kernelbase.py\", line 510, in dispatch_queue\n\n  File \"C:\\Users\\Owner\\anaconda3\\lib\\site-packages\\ipykernel\\kernelbase.py\", line 499, in process_one\n\n  File \"C:\\Users\\Owner\\anaconda3\\lib\\site-packages\\ipykernel\\kernelbase.py\", line 406, in dispatch_shell\n\n  File \"C:\\Users\\Owner\\anaconda3\\lib\\site-packages\\ipykernel\\kernelbase.py\", line 729, in execute_request\n\n  File \"C:\\Users\\Owner\\anaconda3\\lib\\site-packages\\ipykernel\\ipkernel.py\", line 411, in do_execute\n\n  File \"C:\\Users\\Owner\\anaconda3\\lib\\site-packages\\ipykernel\\zmqshell.py\", line 531, in run_cell\n\n  File \"C:\\Users\\Owner\\anaconda3\\lib\\site-packages\\IPython\\core\\interactiveshell.py\", line 2961, in run_cell\n\n  File \"C:\\Users\\Owner\\anaconda3\\lib\\site-packages\\IPython\\core\\interactiveshell.py\", line 3016, in _run_cell\n\n  File \"C:\\Users\\Owner\\anaconda3\\lib\\site-packages\\IPython\\core\\async_helpers.py\", line 129, in _pseudo_sync_runner\n\n  File \"C:\\Users\\Owner\\anaconda3\\lib\\site-packages\\IPython\\core\\interactiveshell.py\", line 3221, in run_cell_async\n\n  File \"C:\\Users\\Owner\\anaconda3\\lib\\site-packages\\IPython\\core\\interactiveshell.py\", line 3400, in run_ast_nodes\n\n  File \"C:\\Users\\Owner\\anaconda3\\lib\\site-packages\\IPython\\core\\interactiveshell.py\", line 3460, in run_code\n\n  File \"C:\\Users\\Owner\\AppData\\Local\\Temp\\ipykernel_4204\\781930785.py\", line 1, in <module>\n\n  File \"C:\\Users\\Owner\\anaconda3\\lib\\site-packages\\keras\\src\\utils\\traceback_utils.py\", line 65, in error_handler\n\n  File \"C:\\Users\\Owner\\anaconda3\\lib\\site-packages\\keras\\src\\engine\\training.py\", line 1807, in fit\n\n  File \"C:\\Users\\Owner\\anaconda3\\lib\\site-packages\\keras\\src\\engine\\training.py\", line 1401, in train_function\n\n  File \"C:\\Users\\Owner\\anaconda3\\lib\\site-packages\\keras\\src\\engine\\training.py\", line 1384, in step_function\n\n  File \"C:\\Users\\Owner\\anaconda3\\lib\\site-packages\\keras\\src\\engine\\training.py\", line 1373, in run_step\n\n  File \"C:\\Users\\Owner\\anaconda3\\lib\\site-packages\\keras\\src\\engine\\training.py\", line 1155, in train_step\n\n  File \"C:\\Users\\Owner\\anaconda3\\lib\\site-packages\\keras\\src\\engine\\training.py\", line 1249, in compute_metrics\n\n  File \"C:\\Users\\Owner\\anaconda3\\lib\\site-packages\\keras\\src\\engine\\compile_utils.py\", line 620, in update_state\n\n  File \"C:\\Users\\Owner\\anaconda3\\lib\\site-packages\\keras\\src\\utils\\metrics_utils.py\", line 77, in decorated\n\n  File \"C:\\Users\\Owner\\anaconda3\\lib\\site-packages\\keras\\src\\metrics\\base_metric.py\", line 140, in update_state_fn\n\n  File \"C:\\Users\\Owner\\anaconda3\\lib\\site-packages\\keras\\src\\metrics\\base_metric.py\", line 723, in update_state\n\n  File \"C:\\Users\\Owner\\AppData\\Local\\Temp\\ipykernel_4204\\4156133269.py\", line 2, in custom_metric\n\nValueError: Only one class present in y_true. ROC AUC score is not defined in that case.\nTraceback (most recent call last):\n\n  File \"C:\\Users\\Owner\\anaconda3\\lib\\site-packages\\tensorflow\\python\\ops\\script_ops.py\", line 268, in __call__\n    return func(device, token, args)\n\n  File \"C:\\Users\\Owner\\anaconda3\\lib\\site-packages\\tensorflow\\python\\ops\\script_ops.py\", line 146, in __call__\n    outputs = self._call(device, args)\n\n  File \"C:\\Users\\Owner\\anaconda3\\lib\\site-packages\\tensorflow\\python\\ops\\script_ops.py\", line 153, in _call\n    ret = self._func(*args)\n\n  File \"C:\\Users\\Owner\\anaconda3\\lib\\site-packages\\tensorflow\\python\\autograph\\impl\\api.py\", line 643, in wrapper\n    return func(*args, **kwargs)\n\n  File \"C:\\Users\\Owner\\AppData\\Local\\Temp\\ipykernel_4204\\1533556632.py\", line 9, in auc_score\n    auc_k = roc_auc_score(y_pr_k,y_tr_k)\n\n  File \"C:\\Users\\Owner\\anaconda3\\lib\\site-packages\\sklearn\\metrics\\_ranking.py\", line 572, in roc_auc_score\n    return _average_binary_score(\n\n  File \"C:\\Users\\Owner\\anaconda3\\lib\\site-packages\\sklearn\\metrics\\_base.py\", line 75, in _average_binary_score\n    return binary_metric(y_true, y_score, sample_weight=sample_weight)\n\n  File \"C:\\Users\\Owner\\anaconda3\\lib\\site-packages\\sklearn\\metrics\\_ranking.py\", line 339, in _binary_roc_auc_score\n    raise ValueError(\n\nValueError: Only one class present in y_true. ROC AUC score is not defined in that case.\n\n\n\t [[{{node EagerPyFunc}}]] [Op:__inference_train_function_1380]",
     "output_type": "error",
     "traceback": [
      "\u001b[1;31m---------------------------------------------------------------------------\u001b[0m",
      "\u001b[1;31mInvalidArgumentError\u001b[0m                      Traceback (most recent call last)",
      "Cell \u001b[1;32mIn[20], line 1\u001b[0m\n\u001b[1;32m----> 1\u001b[0m \u001b[43mmodel\u001b[49m\u001b[38;5;241;43m.\u001b[39;49m\u001b[43mfit\u001b[49m\u001b[43m(\u001b[49m\u001b[43mx\u001b[49m\u001b[38;5;241;43m=\u001b[39;49m\u001b[43mx_train\u001b[49m\u001b[43m,\u001b[49m\n\u001b[0;32m      2\u001b[0m \u001b[43m          \u001b[49m\u001b[43my\u001b[49m\u001b[38;5;241;43m=\u001b[39;49m\u001b[43my_train\u001b[49m\u001b[43m,\u001b[49m\n\u001b[0;32m      3\u001b[0m \u001b[43m          \u001b[49m\u001b[43mbatch_size\u001b[49m\u001b[38;5;241;43m=\u001b[39;49m\u001b[38;5;241;43m100\u001b[39;49m\u001b[43m,\u001b[49m\n\u001b[0;32m      4\u001b[0m \u001b[43m          \u001b[49m\u001b[43mepochs\u001b[49m\u001b[38;5;241;43m=\u001b[39;49m\u001b[38;5;241;43m10\u001b[39;49m\u001b[43m,\u001b[49m\n\u001b[0;32m      5\u001b[0m \u001b[43m          \u001b[49m\u001b[43mvalidation_data\u001b[49m\u001b[38;5;241;43m=\u001b[39;49m\u001b[43m(\u001b[49m\u001b[43mx_valid\u001b[49m\u001b[43m,\u001b[49m\u001b[43my_valid\u001b[49m\u001b[43m)\u001b[49m\u001b[43m)\u001b[49m\n",
      "File \u001b[1;32m~\\anaconda3\\lib\\site-packages\\keras\\src\\utils\\traceback_utils.py:70\u001b[0m, in \u001b[0;36mfilter_traceback.<locals>.error_handler\u001b[1;34m(*args, **kwargs)\u001b[0m\n\u001b[0;32m     67\u001b[0m     filtered_tb \u001b[38;5;241m=\u001b[39m _process_traceback_frames(e\u001b[38;5;241m.\u001b[39m__traceback__)\n\u001b[0;32m     68\u001b[0m     \u001b[38;5;66;03m# To get the full stack trace, call:\u001b[39;00m\n\u001b[0;32m     69\u001b[0m     \u001b[38;5;66;03m# `tf.debugging.disable_traceback_filtering()`\u001b[39;00m\n\u001b[1;32m---> 70\u001b[0m     \u001b[38;5;28;01mraise\u001b[39;00m e\u001b[38;5;241m.\u001b[39mwith_traceback(filtered_tb) \u001b[38;5;28;01mfrom\u001b[39;00m \u001b[38;5;28mNone\u001b[39m\n\u001b[0;32m     71\u001b[0m \u001b[38;5;28;01mfinally\u001b[39;00m:\n\u001b[0;32m     72\u001b[0m     \u001b[38;5;28;01mdel\u001b[39;00m filtered_tb\n",
      "File \u001b[1;32m~\\anaconda3\\lib\\site-packages\\tensorflow\\python\\eager\\execute.py:53\u001b[0m, in \u001b[0;36mquick_execute\u001b[1;34m(op_name, num_outputs, inputs, attrs, ctx, name)\u001b[0m\n\u001b[0;32m     51\u001b[0m \u001b[38;5;28;01mtry\u001b[39;00m:\n\u001b[0;32m     52\u001b[0m   ctx\u001b[38;5;241m.\u001b[39mensure_initialized()\n\u001b[1;32m---> 53\u001b[0m   tensors \u001b[38;5;241m=\u001b[39m pywrap_tfe\u001b[38;5;241m.\u001b[39mTFE_Py_Execute(ctx\u001b[38;5;241m.\u001b[39m_handle, device_name, op_name,\n\u001b[0;32m     54\u001b[0m                                       inputs, attrs, num_outputs)\n\u001b[0;32m     55\u001b[0m \u001b[38;5;28;01mexcept\u001b[39;00m core\u001b[38;5;241m.\u001b[39m_NotOkStatusException \u001b[38;5;28;01mas\u001b[39;00m e:\n\u001b[0;32m     56\u001b[0m   \u001b[38;5;28;01mif\u001b[39;00m name \u001b[38;5;129;01mis\u001b[39;00m \u001b[38;5;129;01mnot\u001b[39;00m \u001b[38;5;28;01mNone\u001b[39;00m:\n",
      "\u001b[1;31mInvalidArgumentError\u001b[0m: Graph execution error:\n\nDetected at node EagerPyFunc defined at (most recent call last):\n  File \"C:\\Users\\Owner\\anaconda3\\lib\\runpy.py\", line 196, in _run_module_as_main\n\n  File \"C:\\Users\\Owner\\anaconda3\\lib\\runpy.py\", line 86, in _run_code\n\n  File \"C:\\Users\\Owner\\anaconda3\\lib\\site-packages\\ipykernel_launcher.py\", line 17, in <module>\n\n  File \"C:\\Users\\Owner\\anaconda3\\lib\\site-packages\\traitlets\\config\\application.py\", line 992, in launch_instance\n\n  File \"C:\\Users\\Owner\\anaconda3\\lib\\site-packages\\ipykernel\\kernelapp.py\", line 711, in start\n\n  File \"C:\\Users\\Owner\\anaconda3\\lib\\site-packages\\tornado\\platform\\asyncio.py\", line 199, in start\n\n  File \"C:\\Users\\Owner\\anaconda3\\lib\\asyncio\\base_events.py\", line 603, in run_forever\n\n  File \"C:\\Users\\Owner\\anaconda3\\lib\\asyncio\\base_events.py\", line 1906, in _run_once\n\n  File \"C:\\Users\\Owner\\anaconda3\\lib\\asyncio\\events.py\", line 80, in _run\n\n  File \"C:\\Users\\Owner\\anaconda3\\lib\\site-packages\\ipykernel\\kernelbase.py\", line 510, in dispatch_queue\n\n  File \"C:\\Users\\Owner\\anaconda3\\lib\\site-packages\\ipykernel\\kernelbase.py\", line 499, in process_one\n\n  File \"C:\\Users\\Owner\\anaconda3\\lib\\site-packages\\ipykernel\\kernelbase.py\", line 406, in dispatch_shell\n\n  File \"C:\\Users\\Owner\\anaconda3\\lib\\site-packages\\ipykernel\\kernelbase.py\", line 729, in execute_request\n\n  File \"C:\\Users\\Owner\\anaconda3\\lib\\site-packages\\ipykernel\\ipkernel.py\", line 411, in do_execute\n\n  File \"C:\\Users\\Owner\\anaconda3\\lib\\site-packages\\ipykernel\\zmqshell.py\", line 531, in run_cell\n\n  File \"C:\\Users\\Owner\\anaconda3\\lib\\site-packages\\IPython\\core\\interactiveshell.py\", line 2961, in run_cell\n\n  File \"C:\\Users\\Owner\\anaconda3\\lib\\site-packages\\IPython\\core\\interactiveshell.py\", line 3016, in _run_cell\n\n  File \"C:\\Users\\Owner\\anaconda3\\lib\\site-packages\\IPython\\core\\async_helpers.py\", line 129, in _pseudo_sync_runner\n\n  File \"C:\\Users\\Owner\\anaconda3\\lib\\site-packages\\IPython\\core\\interactiveshell.py\", line 3221, in run_cell_async\n\n  File \"C:\\Users\\Owner\\anaconda3\\lib\\site-packages\\IPython\\core\\interactiveshell.py\", line 3400, in run_ast_nodes\n\n  File \"C:\\Users\\Owner\\anaconda3\\lib\\site-packages\\IPython\\core\\interactiveshell.py\", line 3460, in run_code\n\n  File \"C:\\Users\\Owner\\AppData\\Local\\Temp\\ipykernel_4204\\781930785.py\", line 1, in <module>\n\n  File \"C:\\Users\\Owner\\anaconda3\\lib\\site-packages\\keras\\src\\utils\\traceback_utils.py\", line 65, in error_handler\n\n  File \"C:\\Users\\Owner\\anaconda3\\lib\\site-packages\\keras\\src\\engine\\training.py\", line 1807, in fit\n\n  File \"C:\\Users\\Owner\\anaconda3\\lib\\site-packages\\keras\\src\\engine\\training.py\", line 1401, in train_function\n\n  File \"C:\\Users\\Owner\\anaconda3\\lib\\site-packages\\keras\\src\\engine\\training.py\", line 1384, in step_function\n\n  File \"C:\\Users\\Owner\\anaconda3\\lib\\site-packages\\keras\\src\\engine\\training.py\", line 1373, in run_step\n\n  File \"C:\\Users\\Owner\\anaconda3\\lib\\site-packages\\keras\\src\\engine\\training.py\", line 1155, in train_step\n\n  File \"C:\\Users\\Owner\\anaconda3\\lib\\site-packages\\keras\\src\\engine\\training.py\", line 1249, in compute_metrics\n\n  File \"C:\\Users\\Owner\\anaconda3\\lib\\site-packages\\keras\\src\\engine\\compile_utils.py\", line 620, in update_state\n\n  File \"C:\\Users\\Owner\\anaconda3\\lib\\site-packages\\keras\\src\\utils\\metrics_utils.py\", line 77, in decorated\n\n  File \"C:\\Users\\Owner\\anaconda3\\lib\\site-packages\\keras\\src\\metrics\\base_metric.py\", line 140, in update_state_fn\n\n  File \"C:\\Users\\Owner\\anaconda3\\lib\\site-packages\\keras\\src\\metrics\\base_metric.py\", line 723, in update_state\n\n  File \"C:\\Users\\Owner\\AppData\\Local\\Temp\\ipykernel_4204\\4156133269.py\", line 2, in custom_metric\n\nValueError: Only one class present in y_true. ROC AUC score is not defined in that case.\nTraceback (most recent call last):\n\n  File \"C:\\Users\\Owner\\anaconda3\\lib\\site-packages\\tensorflow\\python\\ops\\script_ops.py\", line 268, in __call__\n    return func(device, token, args)\n\n  File \"C:\\Users\\Owner\\anaconda3\\lib\\site-packages\\tensorflow\\python\\ops\\script_ops.py\", line 146, in __call__\n    outputs = self._call(device, args)\n\n  File \"C:\\Users\\Owner\\anaconda3\\lib\\site-packages\\tensorflow\\python\\ops\\script_ops.py\", line 153, in _call\n    ret = self._func(*args)\n\n  File \"C:\\Users\\Owner\\anaconda3\\lib\\site-packages\\tensorflow\\python\\autograph\\impl\\api.py\", line 643, in wrapper\n    return func(*args, **kwargs)\n\n  File \"C:\\Users\\Owner\\AppData\\Local\\Temp\\ipykernel_4204\\1533556632.py\", line 9, in auc_score\n    auc_k = roc_auc_score(y_pr_k,y_tr_k)\n\n  File \"C:\\Users\\Owner\\anaconda3\\lib\\site-packages\\sklearn\\metrics\\_ranking.py\", line 572, in roc_auc_score\n    return _average_binary_score(\n\n  File \"C:\\Users\\Owner\\anaconda3\\lib\\site-packages\\sklearn\\metrics\\_base.py\", line 75, in _average_binary_score\n    return binary_metric(y_true, y_score, sample_weight=sample_weight)\n\n  File \"C:\\Users\\Owner\\anaconda3\\lib\\site-packages\\sklearn\\metrics\\_ranking.py\", line 339, in _binary_roc_auc_score\n    raise ValueError(\n\nValueError: Only one class present in y_true. ROC AUC score is not defined in that case.\n\n\n\t [[{{node EagerPyFunc}}]] [Op:__inference_train_function_1380]"
     ]
    }
   ],
   "source": [
    "model.fit(x=x_train,\n",
    "          y=y_train,\n",
    "          batch_size=100,\n",
    "          epochs=10,\n",
    "          validation_data=(x_valid,y_valid))"
   ]
  },
  {
   "cell_type": "code",
   "execution_count": null,
   "id": "03ac463e",
   "metadata": {},
   "outputs": [],
   "source": [
    "val_pred = model.predict(x_valid)\n",
    "y_true = np.array(y_valid)\n",
    "y_pred = np.argmax(val_pred,1)"
   ]
  },
  {
   "cell_type": "code",
   "execution_count": null,
   "id": "ce92d915",
   "metadata": {},
   "outputs": [],
   "source": [
    "from sklearn.metrics import roc_auc_score\n",
    "num_classes = 2\n",
    "def auc_score(y_true,y_pred,num_classes):\n",
    "    auc_scores = []\n",
    "    for k in range(num_classes):\n",
    "        y_tr_k = (y_true==k)\n",
    "        y_pr_k = (y_pred==k)\n",
    "        auc_k = roc_auc_score(y_pr_k,y_tr_k)\n",
    "        auc_scores.append(auc_k)\n",
    "    return np.mean(auc_scores)\n",
    "print(f'AUC 점수는 {auc_score(y_true,y_pred,num_classes)}이다.')"
   ]
  },
  {
   "cell_type": "code",
   "execution_count": null,
   "id": "d3c9d11a",
   "metadata": {},
   "outputs": [],
   "source": [
    "pred = model.predict(x_test)\n",
    "pred = np.argmax(pred,1)\n",
    "sub['TARGET'] = pred\n",
    "sub.to_csv('1st_try.csv',index=False)\n",
    "a = pd.read_csv('1st_try.csv')\n",
    "print(a)"
   ]
  }
 ],
 "metadata": {
  "kernelspec": {
   "display_name": "Python 3 (ipykernel)",
   "language": "python",
   "name": "python3"
  },
  "language_info": {
   "codemirror_mode": {
    "name": "ipython",
    "version": 3
   },
   "file_extension": ".py",
   "mimetype": "text/x-python",
   "name": "python",
   "nbconvert_exporter": "python",
   "pygments_lexer": "ipython3",
   "version": "3.10.9"
  }
 },
 "nbformat": 4,
 "nbformat_minor": 5
}
