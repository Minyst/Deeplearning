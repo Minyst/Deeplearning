{
 "cells": [
  {
   "cell_type": "code",
   "execution_count": 1,
   "id": "beff72ee",
   "metadata": {},
   "outputs": [],
   "source": [
    "import pandas as pd\n",
    "import numpy as np\n",
    "\n",
    "train_df = pd.read_csv('train.csv')\n",
    "test_df = pd.read_csv('test.csv')\n",
    "sub = pd.read_csv('sample_submission.csv')"
   ]
  },
  {
   "cell_type": "code",
   "execution_count": null,
   "id": "e1ab8348",
   "metadata": {},
   "outputs": [],
   "source": [
    "train_df"
   ]
  },
  {
   "cell_type": "code",
   "execution_count": null,
   "id": "31270e09",
   "metadata": {},
   "outputs": [],
   "source": [
    "test_df"
   ]
  },
  {
   "cell_type": "code",
   "execution_count": null,
   "id": "446b60ee",
   "metadata": {},
   "outputs": [],
   "source": [
    "print(train_df.info())\n",
    "print(test_df.info())"
   ]
  },
  {
   "cell_type": "code",
   "execution_count": null,
   "id": "8a7be274",
   "metadata": {},
   "outputs": [],
   "source": [
    "print(train_df.isnull().sum())\n",
    "print(test_df.isnull().sum())"
   ]
  },
  {
   "cell_type": "code",
   "execution_count": null,
   "id": "8962f109",
   "metadata": {},
   "outputs": [],
   "source": [
    "num_cols = train_df.select_dtypes('number').columns\n",
    "num_cols"
   ]
  },
  {
   "cell_type": "code",
   "execution_count": null,
   "id": "cf0a74e6",
   "metadata": {},
   "outputs": [],
   "source": [
    "cat_cols = train_df.select_dtypes('object').columns\n",
    "cat_cols"
   ]
  },
  {
   "cell_type": "code",
   "execution_count": 2,
   "id": "e9762cb6",
   "metadata": {},
   "outputs": [],
   "source": [
    "num_cols = ['대출금액', '연간소득', '부채_대비_소득_비율', '총계좌수', '최근_2년간_연체_횟수', '총상환원금', '총상환이자',\n",
    "       '총연체금액', '연체계좌수']"
   ]
  },
  {
   "cell_type": "code",
   "execution_count": 3,
   "id": "1276600c",
   "metadata": {},
   "outputs": [],
   "source": [
    "cat_cols = ['대출기간', '근로기간', '주택소유상태', '대출목적']"
   ]
  },
  {
   "cell_type": "markdown",
   "id": "e30fb309",
   "metadata": {},
   "source": [
    "## 순서를 정렬해주는게 좋습니다"
   ]
  },
  {
   "cell_type": "code",
   "execution_count": 4,
   "id": "9831ba35",
   "metadata": {},
   "outputs": [
    {
     "data": {
      "text/plain": [
       "{'A': 0, 'B': 1, 'C': 2, 'D': 3, 'E': 4, 'F': 5, 'G': 6}"
      ]
     },
     "execution_count": 4,
     "metadata": {},
     "output_type": "execute_result"
    }
   ],
   "source": [
    "lton = {val:idx for idx,val in enumerate(sorted(train_df['대출등급'].unique()))}\n",
    "lton"
   ]
  },
  {
   "cell_type": "markdown",
   "id": "3605fb6a",
   "metadata": {},
   "source": [
    "## 순서가 바뀔 위험성이 있으므로 lton 를 이용해서 바꾸는게 좋습니다\n"
   ]
  },
  {
   "cell_type": "code",
   "execution_count": 5,
   "id": "5c7ebcfc",
   "metadata": {},
   "outputs": [
    {
     "data": {
      "text/plain": [
       "{0: 'A', 1: 'B', 2: 'C', 3: 'D', 4: 'E', 5: 'F', 6: 'G'}"
      ]
     },
     "execution_count": 5,
     "metadata": {},
     "output_type": "execute_result"
    }
   ],
   "source": [
    "ntol = {v : k for k, v in lton.items()}\n",
    "ntol"
   ]
  },
  {
   "cell_type": "code",
   "execution_count": null,
   "id": "9f810df8",
   "metadata": {},
   "outputs": [],
   "source": [
    "# ntol = {idx:val for idx,val in enumerate(train_df['대출등급'].unique())}\n",
    "# ntol"
   ]
  },
  {
   "cell_type": "code",
   "execution_count": null,
   "id": "04fc0f4a",
   "metadata": {},
   "outputs": [],
   "source": [
    "train_df['대출등급'] = train_df['대출등급'].apply(lambda x: lton[x])"
   ]
  },
  {
   "cell_type": "code",
   "execution_count": null,
   "id": "2b5c395b",
   "metadata": {},
   "outputs": [],
   "source": [
    "train_df['대출금액'] = np.log(train_df['대출금액'] + 1)\n",
    "train_df['연간소득'] = np.log(train_df['연간소득'] + 1)\n",
    "train_df['총상환원금'] = np.log(train_df['총상환원금'] + 1)\n",
    "train_df['총상환이자'] = np.log(train_df['총상환이자'] + 1)"
   ]
  },
  {
   "cell_type": "code",
   "execution_count": null,
   "id": "4361299e",
   "metadata": {},
   "outputs": [],
   "source": [
    "test_df['대출금액'] = np.log(test_df['대출금액'] + 1)\n",
    "test_df['연간소득'] = np.log(test_df['연간소득'] + 1)\n",
    "test_df['총상환원금'] = np.log(test_df['총상환원금'] + 1)\n",
    "test_df['총상환이자'] = np.log(test_df['총상환이자'] + 1)"
   ]
  },
  {
   "cell_type": "code",
   "execution_count": null,
   "id": "9605e3e4",
   "metadata": {},
   "outputs": [],
   "source": [
    "from sklearn.metrics import f1_score"
   ]
  },
  {
   "cell_type": "code",
   "execution_count": null,
   "id": "931b5b15",
   "metadata": {},
   "outputs": [],
   "source": [
    "from sklearn.model_selection import train_test_split\n",
    "train, valid = train_test_split(train_df,test_size=0.3,random_state=1000,stratify=train_df['대출등급'])"
   ]
  },
  {
   "cell_type": "code",
   "execution_count": null,
   "id": "d4d5556b",
   "metadata": {},
   "outputs": [],
   "source": [
    "from sklearn.preprocessing import StandardScaler\n",
    "scaler = StandardScaler()\n",
    "scaler.fit(train[num_cols])\n",
    "train_scaled = scaler.transform(train[num_cols])\n",
    "valid_scaled = scaler.transform(valid[num_cols])\n",
    "test_scaled = scaler.transform(test_df[num_cols])\n",
    "\n",
    "print(train_scaled.shape)\n",
    "print(test_scaled.shape)\n",
    "print(valid_scaled.shape)\n",
    "\n",
    "train_scaled_df = pd.DataFrame(train_scaled,columns=train[num_cols].columns)\n",
    "valid_scaled_df = pd.DataFrame(valid_scaled,columns=train[num_cols].columns)\n",
    "test_scaled_df = pd.DataFrame(test_scaled,columns=test_df[num_cols].columns)\n",
    "train_scaled_df"
   ]
  },
  {
   "cell_type": "code",
   "execution_count": null,
   "id": "362dcd7a",
   "metadata": {},
   "outputs": [],
   "source": [
    "test_scaled_df"
   ]
  },
  {
   "cell_type": "code",
   "execution_count": null,
   "id": "ac326019",
   "metadata": {},
   "outputs": [],
   "source": [
    "valid_scaled_df"
   ]
  },
  {
   "cell_type": "code",
   "execution_count": null,
   "id": "057eab0d",
   "metadata": {},
   "outputs": [],
   "source": [
    "from sklearn.preprocessing import OneHotEncoder\n",
    "encoder = OneHotEncoder(sparse=False, handle_unknown='ignore')\n",
    "encoder.fit(train[cat_cols])\n",
    "train_encoded = encoder.transform(train[cat_cols])\n",
    "test_encoded = encoder.transform(test_df[cat_cols])\n",
    "valid_encoded = encoder.transform(valid[cat_cols])\n",
    "print(train_encoded.shape)\n",
    "print(test_encoded.shape)\n",
    "print(valid_encoded.shape)"
   ]
  },
  {
   "cell_type": "code",
   "execution_count": null,
   "id": "38656697",
   "metadata": {},
   "outputs": [],
   "source": [
    "train_encoded_df = pd.DataFrame(train_encoded,columns=encoder.get_feature_names_out())\n",
    "test_encoded_df = pd.DataFrame(test_encoded,columns=encoder.get_feature_names_out())\n",
    "valid_encoded_df = pd.DataFrame(valid_encoded,columns=encoder.get_feature_names_out())\n",
    "train_encoded_df"
   ]
  },
  {
   "cell_type": "code",
   "execution_count": null,
   "id": "9ef02e9e",
   "metadata": {},
   "outputs": [],
   "source": [
    "train_encoded_df.reset_index(drop=True)\n",
    "train_scaled_df.reset_index(drop=True)\n",
    "test_encoded_df.reset_index(drop=True)\n",
    "test_scaled_df.reset_index(drop=True)\n",
    "valid_encoded_df.reset_index(drop=True)\n",
    "valid_scaled_df.reset_index(drop=True)"
   ]
  },
  {
   "cell_type": "code",
   "execution_count": null,
   "id": "3b00a626",
   "metadata": {},
   "outputs": [],
   "source": [
    "x_train = np.concatenate([train_encoded_df,train_scaled_df],axis=1)\n",
    "x_test = np.concatenate([test_encoded_df,test_scaled_df],axis=1)\n",
    "x_valid = np.concatenate([valid_encoded_df,valid_scaled_df],axis=1)\n",
    "print(x_train.shape)\n",
    "print(x_test.shape)\n",
    "print(x_valid.shape)"
   ]
  },
  {
   "cell_type": "code",
   "execution_count": null,
   "id": "0bb8c659",
   "metadata": {},
   "outputs": [],
   "source": [
    "y_train = np.array(train['대출등급']).reshape(-1,1)\n",
    "y_valid = np.array(valid['대출등급']).reshape(-1,1)"
   ]
  },
  {
   "cell_type": "code",
   "execution_count": null,
   "id": "a1c460fd",
   "metadata": {},
   "outputs": [],
   "source": [
    "import tensorflow as tf\n",
    "from tensorflow.keras.layers import Dense,Dropout\n",
    "from tensorflow.keras.models import Sequential"
   ]
  },
  {
   "cell_type": "markdown",
   "id": "456bfcdc",
   "metadata": {},
   "source": [
    "## input_shape 은 첫번째 레이어에서만 선언해주시면 됩니다"
   ]
  },
  {
   "cell_type": "markdown",
   "id": "d897a18f",
   "metadata": {},
   "source": [
    "## 입력 레이어의 모양이 42가 아니라 43입니다. "
   ]
  },
  {
   "cell_type": "code",
   "execution_count": null,
   "id": "90dfa2d2",
   "metadata": {},
   "outputs": [],
   "source": [
    "num_classes = len(ntol)\n",
    "\n",
    "model = Sequential()\n",
    "model.add(Dense(1024, activation='relu',input_shape=(43,)))\n",
    "model.add(Dropout(0.5))\n",
    "model.add(Dense(512, activation='relu'))\n",
    "model.add(Dropout(0.5))\n",
    "model.add(Dense(256,activation='relu'))\n",
    "model.add(Dropout(0.5))\n",
    "model.add(Dense(num_classes,activation='softmax'))"
   ]
  },
  {
   "cell_type": "markdown",
   "id": "c6fd8779",
   "metadata": {},
   "source": [
    "## y_pred 모양이  (None, 7) 이므로  argmax로 (None, 1)로 바꿔줘야 합니다."
   ]
  },
  {
   "cell_type": "code",
   "execution_count": null,
   "id": "34d45ffa",
   "metadata": {},
   "outputs": [],
   "source": [
    "def macro_f1_score(y_true, y_pred):\n",
    "    y_pred = np.argmax(y_pred, 1)\n",
    "    f1_scores = []\n",
    "    for i in range(num_classes):\n",
    "        y_t = (y_true == i)\n",
    "        y_p = (y_pred == i)\n",
    "        k = f1_score(y_t,y_p, zero_division=0)\n",
    "        f1_scores.append(k)\n",
    "    return np.mean(f1_scores)\n",
    "        \n",
    "def custom_metric(y_true,y_pred):\n",
    "    f1 = tf.py_function(func = macro_f1_score,inp=[y_true,y_pred],Tout=tf.float32)\n",
    "    return f1"
   ]
  },
  {
   "cell_type": "code",
   "execution_count": null,
   "id": "187f577d",
   "metadata": {},
   "outputs": [],
   "source": [
    "model.compile(optimizer=tf.keras.optimizers.Adam(learning_rate=0.001),\n",
    "             loss = tf.keras.losses.SparseCategoricalCrossentropy(from_logits=False),\n",
    "             metrics=[tf.keras.metrics.SparseCategoricalAccuracy(),\n",
    "             custom_metric])"
   ]
  },
  {
   "cell_type": "code",
   "execution_count": null,
   "id": "3d53db4b",
   "metadata": {},
   "outputs": [],
   "source": [
    "history = model.fit(x = x_train, y = y_train, validation_data=(x_valid,y_valid), batch_size=128, epochs=10)"
   ]
  },
  {
   "cell_type": "markdown",
   "id": "7f8c999a",
   "metadata": {},
   "source": [
    "## predict 할때는 y값을 넣지 않습니다"
   ]
  },
  {
   "cell_type": "code",
   "execution_count": null,
   "id": "b969177a",
   "metadata": {},
   "outputs": [],
   "source": [
    "y_pred_val = model.predict(x_valid)"
   ]
  },
  {
   "cell_type": "code",
   "execution_count": null,
   "id": "b2a3a151",
   "metadata": {},
   "outputs": [],
   "source": [
    "def macro_f1_score(y_true, y_pred, num_classes):\n",
    "    y_pred = np.argmax(y_pred, 1)\n",
    "    f1_scores = []\n",
    "    for i in range(num_classes):\n",
    "        y_t = (y_true == i)\n",
    "        y_p = (y_pred == i)\n",
    "        k = f1_score(y_t,y_p)\n",
    "        f1_scores.append(k)\n",
    "    return np.mean(f1_scores)"
   ]
  },
  {
   "cell_type": "code",
   "execution_count": null,
   "id": "581c3ff5",
   "metadata": {},
   "outputs": [],
   "source": [
    "macro_f1 = macro_f1_score(y_true, y_pred, num_classes)\n",
    "print(\"Macro F1 Score:\", macro_f1)"
   ]
  },
  {
   "cell_type": "code",
   "execution_count": null,
   "id": "f279df93",
   "metadata": {},
   "outputs": [],
   "source": [
    "pred = model.predict(test_x)\n",
    "\n",
    "pred = np.argmax(pred, 1)\n",
    "\n",
    "sample_submission[\"대출등급\"] = [ntol[i] for i in pred]\n",
    "\n",
    "sample_submission\n",
    "\n",
    "sample_submission.to_csv('3rd_try', index=False)"
   ]
  }
 ],
 "metadata": {
  "kernelspec": {
   "display_name": "Python 3 (ipykernel)",
   "language": "python",
   "name": "python3"
  },
  "language_info": {
   "codemirror_mode": {
    "name": "ipython",
    "version": 3
   },
   "file_extension": ".py",
   "mimetype": "text/x-python",
   "name": "python",
   "nbconvert_exporter": "python",
   "pygments_lexer": "ipython3",
   "version": "3.10.9"
  },
  "toc": {
   "base_numbering": 1,
   "nav_menu": {},
   "number_sections": true,
   "sideBar": true,
   "skip_h1_title": false,
   "title_cell": "Table of Contents",
   "title_sidebar": "Contents",
   "toc_cell": false,
   "toc_position": {},
   "toc_section_display": true,
   "toc_window_display": false
  }
 },
 "nbformat": 4,
 "nbformat_minor": 5
}
