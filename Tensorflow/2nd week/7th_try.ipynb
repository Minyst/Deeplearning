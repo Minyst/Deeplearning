{
 "cells": [
  {
   "cell_type": "code",
   "execution_count": 1,
   "id": "c093967e",
   "metadata": {},
   "outputs": [
    {
     "name": "stdout",
     "output_type": "stream",
     "text": [
      "(96294, 15)\n",
      "(64197, 14)\n"
     ]
    }
   ],
   "source": [
    "import pandas as pd\n",
    "import numpy as np\n",
    "\n",
    "train_df = pd.read_csv('train.csv')\n",
    "test_df = pd.read_csv('test.csv')\n",
    "sub = pd.read_csv('sample_submission.csv')\n",
    "\n",
    "print(train_df.shape)\n",
    "print(test_df.shape)"
   ]
  },
  {
   "cell_type": "code",
   "execution_count": 2,
   "id": "54a2a054",
   "metadata": {},
   "outputs": [
    {
     "data": {
      "text/html": [
       "<div>\n",
       "<style scoped>\n",
       "    .dataframe tbody tr th:only-of-type {\n",
       "        vertical-align: middle;\n",
       "    }\n",
       "\n",
       "    .dataframe tbody tr th {\n",
       "        vertical-align: top;\n",
       "    }\n",
       "\n",
       "    .dataframe thead th {\n",
       "        text-align: right;\n",
       "    }\n",
       "</style>\n",
       "<table border=\"1\" class=\"dataframe\">\n",
       "  <thead>\n",
       "    <tr style=\"text-align: right;\">\n",
       "      <th></th>\n",
       "      <th>ID</th>\n",
       "      <th>대출금액</th>\n",
       "      <th>대출기간</th>\n",
       "      <th>근로기간</th>\n",
       "      <th>주택소유상태</th>\n",
       "      <th>연간소득</th>\n",
       "      <th>부채_대비_소득_비율</th>\n",
       "      <th>총계좌수</th>\n",
       "      <th>대출목적</th>\n",
       "      <th>최근_2년간_연체_횟수</th>\n",
       "      <th>총상환원금</th>\n",
       "      <th>총상환이자</th>\n",
       "      <th>총연체금액</th>\n",
       "      <th>연체계좌수</th>\n",
       "      <th>대출등급</th>\n",
       "    </tr>\n",
       "  </thead>\n",
       "  <tbody>\n",
       "    <tr>\n",
       "      <th>0</th>\n",
       "      <td>TRAIN_00000</td>\n",
       "      <td>12480000</td>\n",
       "      <td>36 months</td>\n",
       "      <td>6 years</td>\n",
       "      <td>RENT</td>\n",
       "      <td>72000000</td>\n",
       "      <td>18.90</td>\n",
       "      <td>15</td>\n",
       "      <td>부채 통합</td>\n",
       "      <td>0</td>\n",
       "      <td>0</td>\n",
       "      <td>0.0</td>\n",
       "      <td>0.0</td>\n",
       "      <td>0.0</td>\n",
       "      <td>C</td>\n",
       "    </tr>\n",
       "    <tr>\n",
       "      <th>1</th>\n",
       "      <td>TRAIN_00001</td>\n",
       "      <td>14400000</td>\n",
       "      <td>60 months</td>\n",
       "      <td>10+ years</td>\n",
       "      <td>MORTGAGE</td>\n",
       "      <td>130800000</td>\n",
       "      <td>22.33</td>\n",
       "      <td>21</td>\n",
       "      <td>주택 개선</td>\n",
       "      <td>0</td>\n",
       "      <td>373572</td>\n",
       "      <td>234060.0</td>\n",
       "      <td>0.0</td>\n",
       "      <td>0.0</td>\n",
       "      <td>B</td>\n",
       "    </tr>\n",
       "    <tr>\n",
       "      <th>2</th>\n",
       "      <td>TRAIN_00002</td>\n",
       "      <td>12000000</td>\n",
       "      <td>36 months</td>\n",
       "      <td>5 years</td>\n",
       "      <td>MORTGAGE</td>\n",
       "      <td>96000000</td>\n",
       "      <td>8.60</td>\n",
       "      <td>14</td>\n",
       "      <td>부채 통합</td>\n",
       "      <td>0</td>\n",
       "      <td>928644</td>\n",
       "      <td>151944.0</td>\n",
       "      <td>0.0</td>\n",
       "      <td>0.0</td>\n",
       "      <td>A</td>\n",
       "    </tr>\n",
       "    <tr>\n",
       "      <th>3</th>\n",
       "      <td>TRAIN_00003</td>\n",
       "      <td>14400000</td>\n",
       "      <td>36 months</td>\n",
       "      <td>8 years</td>\n",
       "      <td>MORTGAGE</td>\n",
       "      <td>132000000</td>\n",
       "      <td>15.09</td>\n",
       "      <td>15</td>\n",
       "      <td>부채 통합</td>\n",
       "      <td>0</td>\n",
       "      <td>325824</td>\n",
       "      <td>153108.0</td>\n",
       "      <td>0.0</td>\n",
       "      <td>0.0</td>\n",
       "      <td>C</td>\n",
       "    </tr>\n",
       "    <tr>\n",
       "      <th>4</th>\n",
       "      <td>TRAIN_00004</td>\n",
       "      <td>18000000</td>\n",
       "      <td>60 months</td>\n",
       "      <td>Unknown</td>\n",
       "      <td>RENT</td>\n",
       "      <td>71736000</td>\n",
       "      <td>25.39</td>\n",
       "      <td>19</td>\n",
       "      <td>주요 구매</td>\n",
       "      <td>0</td>\n",
       "      <td>228540</td>\n",
       "      <td>148956.0</td>\n",
       "      <td>0.0</td>\n",
       "      <td>0.0</td>\n",
       "      <td>B</td>\n",
       "    </tr>\n",
       "  </tbody>\n",
       "</table>\n",
       "</div>"
      ],
      "text/plain": [
       "            ID      대출금액        대출기간       근로기간    주택소유상태       연간소득  \\\n",
       "0  TRAIN_00000  12480000   36 months    6 years      RENT   72000000   \n",
       "1  TRAIN_00001  14400000   60 months  10+ years  MORTGAGE  130800000   \n",
       "2  TRAIN_00002  12000000   36 months    5 years  MORTGAGE   96000000   \n",
       "3  TRAIN_00003  14400000   36 months    8 years  MORTGAGE  132000000   \n",
       "4  TRAIN_00004  18000000   60 months    Unknown      RENT   71736000   \n",
       "\n",
       "   부채_대비_소득_비율  총계좌수   대출목적  최근_2년간_연체_횟수   총상환원금     총상환이자  총연체금액  연체계좌수 대출등급  \n",
       "0        18.90    15  부채 통합             0       0       0.0    0.0    0.0    C  \n",
       "1        22.33    21  주택 개선             0  373572  234060.0    0.0    0.0    B  \n",
       "2         8.60    14  부채 통합             0  928644  151944.0    0.0    0.0    A  \n",
       "3        15.09    15  부채 통합             0  325824  153108.0    0.0    0.0    C  \n",
       "4        25.39    19  주요 구매             0  228540  148956.0    0.0    0.0    B  "
      ]
     },
     "execution_count": 2,
     "metadata": {},
     "output_type": "execute_result"
    }
   ],
   "source": [
    "train_df.head()"
   ]
  },
  {
   "cell_type": "code",
   "execution_count": 3,
   "id": "fe162dd3",
   "metadata": {},
   "outputs": [
    {
     "data": {
      "text/html": [
       "<div>\n",
       "<style scoped>\n",
       "    .dataframe tbody tr th:only-of-type {\n",
       "        vertical-align: middle;\n",
       "    }\n",
       "\n",
       "    .dataframe tbody tr th {\n",
       "        vertical-align: top;\n",
       "    }\n",
       "\n",
       "    .dataframe thead th {\n",
       "        text-align: right;\n",
       "    }\n",
       "</style>\n",
       "<table border=\"1\" class=\"dataframe\">\n",
       "  <thead>\n",
       "    <tr style=\"text-align: right;\">\n",
       "      <th></th>\n",
       "      <th>ID</th>\n",
       "      <th>대출금액</th>\n",
       "      <th>대출기간</th>\n",
       "      <th>근로기간</th>\n",
       "      <th>주택소유상태</th>\n",
       "      <th>연간소득</th>\n",
       "      <th>부채_대비_소득_비율</th>\n",
       "      <th>총계좌수</th>\n",
       "      <th>대출목적</th>\n",
       "      <th>최근_2년간_연체_횟수</th>\n",
       "      <th>총상환원금</th>\n",
       "      <th>총상환이자</th>\n",
       "      <th>총연체금액</th>\n",
       "      <th>연체계좌수</th>\n",
       "    </tr>\n",
       "  </thead>\n",
       "  <tbody>\n",
       "    <tr>\n",
       "      <th>0</th>\n",
       "      <td>TEST_00000</td>\n",
       "      <td>16800000</td>\n",
       "      <td>36 months</td>\n",
       "      <td>8 years</td>\n",
       "      <td>MORTGAGE</td>\n",
       "      <td>132000000</td>\n",
       "      <td>19.64</td>\n",
       "      <td>12</td>\n",
       "      <td>주택 개선</td>\n",
       "      <td>0</td>\n",
       "      <td>394692</td>\n",
       "      <td>146604.0</td>\n",
       "      <td>0.0</td>\n",
       "      <td>0.0</td>\n",
       "    </tr>\n",
       "    <tr>\n",
       "      <th>1</th>\n",
       "      <td>TEST_00001</td>\n",
       "      <td>8400000</td>\n",
       "      <td>36 months</td>\n",
       "      <td>5 years</td>\n",
       "      <td>RENT</td>\n",
       "      <td>89971200</td>\n",
       "      <td>15.84</td>\n",
       "      <td>25</td>\n",
       "      <td>부채 통합</td>\n",
       "      <td>0</td>\n",
       "      <td>0</td>\n",
       "      <td>0.0</td>\n",
       "      <td>0.0</td>\n",
       "      <td>0.0</td>\n",
       "    </tr>\n",
       "    <tr>\n",
       "      <th>2</th>\n",
       "      <td>TEST_00002</td>\n",
       "      <td>17280000</td>\n",
       "      <td>36 months</td>\n",
       "      <td>6 years</td>\n",
       "      <td>RENT</td>\n",
       "      <td>150000000</td>\n",
       "      <td>8.41</td>\n",
       "      <td>20</td>\n",
       "      <td>신용 카드</td>\n",
       "      <td>0</td>\n",
       "      <td>1786980</td>\n",
       "      <td>281820.0</td>\n",
       "      <td>0.0</td>\n",
       "      <td>0.0</td>\n",
       "    </tr>\n",
       "    <tr>\n",
       "      <th>3</th>\n",
       "      <td>TEST_00003</td>\n",
       "      <td>14400000</td>\n",
       "      <td>36 months</td>\n",
       "      <td>5 years</td>\n",
       "      <td>MORTGAGE</td>\n",
       "      <td>66000000</td>\n",
       "      <td>13.72</td>\n",
       "      <td>30</td>\n",
       "      <td>신용 카드</td>\n",
       "      <td>1</td>\n",
       "      <td>669024</td>\n",
       "      <td>281724.0</td>\n",
       "      <td>0.0</td>\n",
       "      <td>0.0</td>\n",
       "    </tr>\n",
       "    <tr>\n",
       "      <th>4</th>\n",
       "      <td>TEST_00004</td>\n",
       "      <td>27600000</td>\n",
       "      <td>36 months</td>\n",
       "      <td>5 years</td>\n",
       "      <td>RENT</td>\n",
       "      <td>55200000</td>\n",
       "      <td>30.50</td>\n",
       "      <td>12</td>\n",
       "      <td>신용 카드</td>\n",
       "      <td>0</td>\n",
       "      <td>1250052</td>\n",
       "      <td>614844.0</td>\n",
       "      <td>0.0</td>\n",
       "      <td>0.0</td>\n",
       "    </tr>\n",
       "  </tbody>\n",
       "</table>\n",
       "</div>"
      ],
      "text/plain": [
       "           ID      대출금액        대출기간     근로기간    주택소유상태       연간소득  \\\n",
       "0  TEST_00000  16800000   36 months  8 years  MORTGAGE  132000000   \n",
       "1  TEST_00001   8400000   36 months  5 years      RENT   89971200   \n",
       "2  TEST_00002  17280000   36 months  6 years      RENT  150000000   \n",
       "3  TEST_00003  14400000   36 months  5 years  MORTGAGE   66000000   \n",
       "4  TEST_00004  27600000   36 months  5 years      RENT   55200000   \n",
       "\n",
       "   부채_대비_소득_비율  총계좌수   대출목적  최근_2년간_연체_횟수    총상환원금     총상환이자  총연체금액  연체계좌수  \n",
       "0        19.64    12  주택 개선             0   394692  146604.0    0.0    0.0  \n",
       "1        15.84    25  부채 통합             0        0       0.0    0.0    0.0  \n",
       "2         8.41    20  신용 카드             0  1786980  281820.0    0.0    0.0  \n",
       "3        13.72    30  신용 카드             1   669024  281724.0    0.0    0.0  \n",
       "4        30.50    12  신용 카드             0  1250052  614844.0    0.0    0.0  "
      ]
     },
     "execution_count": 3,
     "metadata": {},
     "output_type": "execute_result"
    }
   ],
   "source": [
    "test_df.head()"
   ]
  },
  {
   "cell_type": "code",
   "execution_count": 4,
   "id": "e76a44bd",
   "metadata": {},
   "outputs": [
    {
     "data": {
      "text/html": [
       "<div>\n",
       "<style scoped>\n",
       "    .dataframe tbody tr th:only-of-type {\n",
       "        vertical-align: middle;\n",
       "    }\n",
       "\n",
       "    .dataframe tbody tr th {\n",
       "        vertical-align: top;\n",
       "    }\n",
       "\n",
       "    .dataframe thead th {\n",
       "        text-align: right;\n",
       "    }\n",
       "</style>\n",
       "<table border=\"1\" class=\"dataframe\">\n",
       "  <thead>\n",
       "    <tr style=\"text-align: right;\">\n",
       "      <th></th>\n",
       "      <th>ID</th>\n",
       "      <th>대출등급</th>\n",
       "    </tr>\n",
       "  </thead>\n",
       "  <tbody>\n",
       "    <tr>\n",
       "      <th>0</th>\n",
       "      <td>TEST_00000</td>\n",
       "      <td>G</td>\n",
       "    </tr>\n",
       "    <tr>\n",
       "      <th>1</th>\n",
       "      <td>TEST_00001</td>\n",
       "      <td>G</td>\n",
       "    </tr>\n",
       "    <tr>\n",
       "      <th>2</th>\n",
       "      <td>TEST_00002</td>\n",
       "      <td>G</td>\n",
       "    </tr>\n",
       "    <tr>\n",
       "      <th>3</th>\n",
       "      <td>TEST_00003</td>\n",
       "      <td>G</td>\n",
       "    </tr>\n",
       "    <tr>\n",
       "      <th>4</th>\n",
       "      <td>TEST_00004</td>\n",
       "      <td>G</td>\n",
       "    </tr>\n",
       "  </tbody>\n",
       "</table>\n",
       "</div>"
      ],
      "text/plain": [
       "           ID 대출등급\n",
       "0  TEST_00000    G\n",
       "1  TEST_00001    G\n",
       "2  TEST_00002    G\n",
       "3  TEST_00003    G\n",
       "4  TEST_00004    G"
      ]
     },
     "execution_count": 4,
     "metadata": {},
     "output_type": "execute_result"
    }
   ],
   "source": [
    "sub.head()"
   ]
  },
  {
   "cell_type": "code",
   "execution_count": 5,
   "id": "28ef785a",
   "metadata": {},
   "outputs": [
    {
     "data": {
      "text/plain": [
       "ID              0\n",
       "대출금액            0\n",
       "대출기간            0\n",
       "근로기간            0\n",
       "주택소유상태          0\n",
       "연간소득            0\n",
       "부채_대비_소득_비율     0\n",
       "총계좌수            0\n",
       "대출목적            0\n",
       "최근_2년간_연체_횟수    0\n",
       "총상환원금           0\n",
       "총상환이자           0\n",
       "총연체금액           0\n",
       "연체계좌수           0\n",
       "대출등급            0\n",
       "dtype: int64"
      ]
     },
     "execution_count": 5,
     "metadata": {},
     "output_type": "execute_result"
    }
   ],
   "source": [
    "train_df.isnull().sum()"
   ]
  },
  {
   "cell_type": "code",
   "execution_count": 6,
   "id": "bf0a139d",
   "metadata": {},
   "outputs": [
    {
     "data": {
      "text/plain": [
       "ID              0\n",
       "대출금액            0\n",
       "대출기간            0\n",
       "근로기간            0\n",
       "주택소유상태          0\n",
       "연간소득            0\n",
       "부채_대비_소득_비율     0\n",
       "총계좌수            0\n",
       "대출목적            0\n",
       "최근_2년간_연체_횟수    0\n",
       "총상환원금           0\n",
       "총상환이자           0\n",
       "총연체금액           0\n",
       "연체계좌수           0\n",
       "dtype: int64"
      ]
     },
     "execution_count": 6,
     "metadata": {},
     "output_type": "execute_result"
    }
   ],
   "source": [
    "test_df.isnull().sum()"
   ]
  },
  {
   "cell_type": "code",
   "execution_count": 7,
   "id": "bf626863",
   "metadata": {},
   "outputs": [
    {
     "name": "stdout",
     "output_type": "stream",
     "text": [
      "<class 'pandas.core.frame.DataFrame'>\n",
      "RangeIndex: 96294 entries, 0 to 96293\n",
      "Data columns (total 15 columns):\n",
      " #   Column        Non-Null Count  Dtype  \n",
      "---  ------        --------------  -----  \n",
      " 0   ID            96294 non-null  object \n",
      " 1   대출금액          96294 non-null  int64  \n",
      " 2   대출기간          96294 non-null  object \n",
      " 3   근로기간          96294 non-null  object \n",
      " 4   주택소유상태        96294 non-null  object \n",
      " 5   연간소득          96294 non-null  int64  \n",
      " 6   부채_대비_소득_비율   96294 non-null  float64\n",
      " 7   총계좌수          96294 non-null  int64  \n",
      " 8   대출목적          96294 non-null  object \n",
      " 9   최근_2년간_연체_횟수  96294 non-null  int64  \n",
      " 10  총상환원금         96294 non-null  int64  \n",
      " 11  총상환이자         96294 non-null  float64\n",
      " 12  총연체금액         96294 non-null  float64\n",
      " 13  연체계좌수         96294 non-null  float64\n",
      " 14  대출등급          96294 non-null  object \n",
      "dtypes: float64(4), int64(5), object(6)\n",
      "memory usage: 11.0+ MB\n"
     ]
    }
   ],
   "source": [
    "train_df.info()"
   ]
  },
  {
   "cell_type": "code",
   "execution_count": 8,
   "id": "569e708b",
   "metadata": {},
   "outputs": [
    {
     "name": "stdout",
     "output_type": "stream",
     "text": [
      "<class 'pandas.core.frame.DataFrame'>\n",
      "RangeIndex: 64197 entries, 0 to 64196\n",
      "Data columns (total 14 columns):\n",
      " #   Column        Non-Null Count  Dtype  \n",
      "---  ------        --------------  -----  \n",
      " 0   ID            64197 non-null  object \n",
      " 1   대출금액          64197 non-null  int64  \n",
      " 2   대출기간          64197 non-null  object \n",
      " 3   근로기간          64197 non-null  object \n",
      " 4   주택소유상태        64197 non-null  object \n",
      " 5   연간소득          64197 non-null  int64  \n",
      " 6   부채_대비_소득_비율   64197 non-null  float64\n",
      " 7   총계좌수          64197 non-null  int64  \n",
      " 8   대출목적          64197 non-null  object \n",
      " 9   최근_2년간_연체_횟수  64197 non-null  int64  \n",
      " 10  총상환원금         64197 non-null  int64  \n",
      " 11  총상환이자         64197 non-null  float64\n",
      " 12  총연체금액         64197 non-null  float64\n",
      " 13  연체계좌수         64197 non-null  float64\n",
      "dtypes: float64(4), int64(5), object(5)\n",
      "memory usage: 6.9+ MB\n"
     ]
    }
   ],
   "source": [
    "test_df.info()"
   ]
  },
  {
   "cell_type": "code",
   "execution_count": 9,
   "id": "a2bf57a6",
   "metadata": {},
   "outputs": [
    {
     "data": {
      "text/plain": [
       "0        C\n",
       "1        B\n",
       "2        A\n",
       "3        C\n",
       "4        B\n",
       "        ..\n",
       "96289    C\n",
       "96290    E\n",
       "96291    A\n",
       "96292    D\n",
       "96293    C\n",
       "Name: 대출등급, Length: 96294, dtype: object"
      ]
     },
     "execution_count": 9,
     "metadata": {},
     "output_type": "execute_result"
    }
   ],
   "source": [
    "train_df['대출등급']"
   ]
  },
  {
   "cell_type": "code",
   "execution_count": 10,
   "id": "fa84e266",
   "metadata": {
    "scrolled": false
   },
   "outputs": [
    {
     "data": {
      "text/plain": [
       "{'A': 0, 'B': 1, 'C': 2, 'D': 3, 'E': 4, 'F': 5, 'G': 6}"
      ]
     },
     "execution_count": 10,
     "metadata": {},
     "output_type": "execute_result"
    }
   ],
   "source": [
    "lton = {val:idx for idx,val in enumerate(sorted(train_df['대출등급'].unique()))}\n",
    "lton"
   ]
  },
  {
   "cell_type": "code",
   "execution_count": 11,
   "id": "35d8c272",
   "metadata": {},
   "outputs": [
    {
     "data": {
      "text/plain": [
       "{0: 'A', 1: 'B', 2: 'C', 3: 'D', 4: 'E', 5: 'F', 6: 'G'}"
      ]
     },
     "execution_count": 11,
     "metadata": {},
     "output_type": "execute_result"
    }
   ],
   "source": [
    "ntol = {idx:val for val,idx in lton.items()}\n",
    "ntol"
   ]
  },
  {
   "cell_type": "code",
   "execution_count": 12,
   "id": "cc3c963e",
   "metadata": {},
   "outputs": [
    {
     "data": {
      "text/plain": [
       "0    2\n",
       "1    1\n",
       "2    0\n",
       "3    2\n",
       "4    1\n",
       "Name: 대출등급, dtype: int64"
      ]
     },
     "execution_count": 12,
     "metadata": {},
     "output_type": "execute_result"
    }
   ],
   "source": [
    "train_df['대출등급'] = train_df['대출등급'].apply(lambda x: lton[x])\n",
    "train_df['대출등급'].head()"
   ]
  },
  {
   "cell_type": "code",
   "execution_count": 13,
   "id": "ab53a271",
   "metadata": {},
   "outputs": [
    {
     "data": {
      "text/plain": [
       "Index(['대출금액', '연간소득', '부채_대비_소득_비율', '총계좌수', '최근_2년간_연체_횟수', '총상환원금', '총상환이자',\n",
       "       '총연체금액', '연체계좌수', '대출등급'],\n",
       "      dtype='object')"
      ]
     },
     "execution_count": 13,
     "metadata": {},
     "output_type": "execute_result"
    }
   ],
   "source": [
    "train_df.select_dtypes('number').columns"
   ]
  },
  {
   "cell_type": "code",
   "execution_count": 14,
   "id": "b41af029",
   "metadata": {},
   "outputs": [
    {
     "data": {
      "text/plain": [
       "Index(['ID', '대출기간', '근로기간', '주택소유상태', '대출목적'], dtype='object')"
      ]
     },
     "execution_count": 14,
     "metadata": {},
     "output_type": "execute_result"
    }
   ],
   "source": [
    "train_df.select_dtypes('object').columns"
   ]
  },
  {
   "cell_type": "code",
   "execution_count": 15,
   "id": "a7e5377f",
   "metadata": {},
   "outputs": [],
   "source": [
    "num_cols = ['대출금액', '연간소득', '부채_대비_소득_비율', '총계좌수', '최근_2년간_연체_횟수', '총상환원금', '총상환이자',\n",
    "       '총연체금액', '연체계좌수']"
   ]
  },
  {
   "cell_type": "code",
   "execution_count": 16,
   "id": "2d9bd559",
   "metadata": {},
   "outputs": [],
   "source": [
    "cat_cols = ['대출기간', '근로기간', '주택소유상태', '대출목적']"
   ]
  },
  {
   "cell_type": "code",
   "execution_count": 17,
   "id": "887ee1c1",
   "metadata": {},
   "outputs": [],
   "source": [
    "train_df['대출금액'] = np.log(train_df['대출금액']+1)\n",
    "test_df['대출금액'] = np.log(test_df['대출금액']+1)\n",
    "train_df['연간소득'] = np.log(train_df['연간소득']+1)\n",
    "test_df['연간소득'] = np.log(test_df['연간소득']+1)\n",
    "train_df['총상환원금'] = np.log(train_df['총상환원금']+1)\n",
    "test_df['총상환원금'] = np.log(test_df['총상환원금']+1)\n",
    "train_df['총연체금액'] = np.log(train_df['총연체금액']+1)\n",
    "test_df['총연체금액'] = np.log(test_df['총연체금액']+1)"
   ]
  },
  {
   "cell_type": "code",
   "execution_count": 18,
   "id": "6fb6f46a",
   "metadata": {},
   "outputs": [
    {
     "name": "stdout",
     "output_type": "stream",
     "text": [
      "(67405, 15)\n",
      "(28889, 15)\n"
     ]
    }
   ],
   "source": [
    "from sklearn.model_selection import train_test_split\n",
    "train,valid = train_test_split(train_df,\n",
    "                               test_size=0.3,\n",
    "                               random_state=1000,\n",
    "                               stratify=train_df['대출등급'])\n",
    "print(train.shape)\n",
    "print(valid.shape)"
   ]
  },
  {
   "cell_type": "code",
   "execution_count": 19,
   "id": "0f14685a",
   "metadata": {},
   "outputs": [
    {
     "data": {
      "text/html": [
       "<div>\n",
       "<style scoped>\n",
       "    .dataframe tbody tr th:only-of-type {\n",
       "        vertical-align: middle;\n",
       "    }\n",
       "\n",
       "    .dataframe tbody tr th {\n",
       "        vertical-align: top;\n",
       "    }\n",
       "\n",
       "    .dataframe thead th {\n",
       "        text-align: right;\n",
       "    }\n",
       "</style>\n",
       "<table border=\"1\" class=\"dataframe\">\n",
       "  <thead>\n",
       "    <tr style=\"text-align: right;\">\n",
       "      <th></th>\n",
       "      <th>ID</th>\n",
       "      <th>대출금액</th>\n",
       "      <th>대출기간</th>\n",
       "      <th>근로기간</th>\n",
       "      <th>주택소유상태</th>\n",
       "      <th>연간소득</th>\n",
       "      <th>부채_대비_소득_비율</th>\n",
       "      <th>총계좌수</th>\n",
       "      <th>대출목적</th>\n",
       "      <th>최근_2년간_연체_횟수</th>\n",
       "      <th>총상환원금</th>\n",
       "      <th>총상환이자</th>\n",
       "      <th>총연체금액</th>\n",
       "      <th>연체계좌수</th>\n",
       "      <th>대출등급</th>\n",
       "    </tr>\n",
       "  </thead>\n",
       "  <tbody>\n",
       "    <tr>\n",
       "      <th>0</th>\n",
       "      <td>TRAIN_00000</td>\n",
       "      <td>16.339638</td>\n",
       "      <td>36 months</td>\n",
       "      <td>6 years</td>\n",
       "      <td>RENT</td>\n",
       "      <td>18.092177</td>\n",
       "      <td>18.90</td>\n",
       "      <td>15</td>\n",
       "      <td>부채 통합</td>\n",
       "      <td>0</td>\n",
       "      <td>0.000000</td>\n",
       "      <td>0.0</td>\n",
       "      <td>0.0</td>\n",
       "      <td>0.0</td>\n",
       "      <td>2</td>\n",
       "    </tr>\n",
       "    <tr>\n",
       "      <th>1</th>\n",
       "      <td>TRAIN_00001</td>\n",
       "      <td>16.482739</td>\n",
       "      <td>60 months</td>\n",
       "      <td>10+ years</td>\n",
       "      <td>MORTGAGE</td>\n",
       "      <td>18.689180</td>\n",
       "      <td>22.33</td>\n",
       "      <td>21</td>\n",
       "      <td>주택 개선</td>\n",
       "      <td>0</td>\n",
       "      <td>12.830869</td>\n",
       "      <td>234060.0</td>\n",
       "      <td>0.0</td>\n",
       "      <td>0.0</td>\n",
       "      <td>1</td>\n",
       "    </tr>\n",
       "    <tr>\n",
       "      <th>2</th>\n",
       "      <td>TRAIN_00002</td>\n",
       "      <td>16.300417</td>\n",
       "      <td>36 months</td>\n",
       "      <td>5 years</td>\n",
       "      <td>MORTGAGE</td>\n",
       "      <td>18.379859</td>\n",
       "      <td>8.60</td>\n",
       "      <td>14</td>\n",
       "      <td>부채 통합</td>\n",
       "      <td>0</td>\n",
       "      <td>13.741482</td>\n",
       "      <td>151944.0</td>\n",
       "      <td>0.0</td>\n",
       "      <td>0.0</td>\n",
       "      <td>0</td>\n",
       "    </tr>\n",
       "    <tr>\n",
       "      <th>3</th>\n",
       "      <td>TRAIN_00003</td>\n",
       "      <td>16.482739</td>\n",
       "      <td>36 months</td>\n",
       "      <td>8 years</td>\n",
       "      <td>MORTGAGE</td>\n",
       "      <td>18.698312</td>\n",
       "      <td>15.09</td>\n",
       "      <td>15</td>\n",
       "      <td>부채 통합</td>\n",
       "      <td>0</td>\n",
       "      <td>12.694116</td>\n",
       "      <td>153108.0</td>\n",
       "      <td>0.0</td>\n",
       "      <td>0.0</td>\n",
       "      <td>2</td>\n",
       "    </tr>\n",
       "    <tr>\n",
       "      <th>4</th>\n",
       "      <td>TRAIN_00004</td>\n",
       "      <td>16.705882</td>\n",
       "      <td>60 months</td>\n",
       "      <td>Unknown</td>\n",
       "      <td>RENT</td>\n",
       "      <td>18.088503</td>\n",
       "      <td>25.39</td>\n",
       "      <td>19</td>\n",
       "      <td>주요 구매</td>\n",
       "      <td>0</td>\n",
       "      <td>12.339471</td>\n",
       "      <td>148956.0</td>\n",
       "      <td>0.0</td>\n",
       "      <td>0.0</td>\n",
       "      <td>1</td>\n",
       "    </tr>\n",
       "    <tr>\n",
       "      <th>...</th>\n",
       "      <td>...</td>\n",
       "      <td>...</td>\n",
       "      <td>...</td>\n",
       "      <td>...</td>\n",
       "      <td>...</td>\n",
       "      <td>...</td>\n",
       "      <td>...</td>\n",
       "      <td>...</td>\n",
       "      <td>...</td>\n",
       "      <td>...</td>\n",
       "      <td>...</td>\n",
       "      <td>...</td>\n",
       "      <td>...</td>\n",
       "      <td>...</td>\n",
       "      <td>...</td>\n",
       "    </tr>\n",
       "    <tr>\n",
       "      <th>96289</th>\n",
       "      <td>TRAIN_96289</td>\n",
       "      <td>16.482739</td>\n",
       "      <td>36 months</td>\n",
       "      <td>10+ years</td>\n",
       "      <td>MORTGAGE</td>\n",
       "      <td>19.162618</td>\n",
       "      <td>9.33</td>\n",
       "      <td>33</td>\n",
       "      <td>신용 카드</td>\n",
       "      <td>0</td>\n",
       "      <td>13.789763</td>\n",
       "      <td>492168.0</td>\n",
       "      <td>0.0</td>\n",
       "      <td>0.0</td>\n",
       "      <td>2</td>\n",
       "    </tr>\n",
       "    <tr>\n",
       "      <th>96290</th>\n",
       "      <td>TRAIN_96290</td>\n",
       "      <td>17.175886</td>\n",
       "      <td>60 months</td>\n",
       "      <td>10+ years</td>\n",
       "      <td>MORTGAGE</td>\n",
       "      <td>18.698312</td>\n",
       "      <td>5.16</td>\n",
       "      <td>25</td>\n",
       "      <td>주택 개선</td>\n",
       "      <td>0</td>\n",
       "      <td>13.277192</td>\n",
       "      <td>855084.0</td>\n",
       "      <td>0.0</td>\n",
       "      <td>0.0</td>\n",
       "      <td>4</td>\n",
       "    </tr>\n",
       "    <tr>\n",
       "      <th>96291</th>\n",
       "      <td>TRAIN_96291</td>\n",
       "      <td>16.482739</td>\n",
       "      <td>36 months</td>\n",
       "      <td>1 year</td>\n",
       "      <td>MORTGAGE</td>\n",
       "      <td>18.246327</td>\n",
       "      <td>11.24</td>\n",
       "      <td>22</td>\n",
       "      <td>신용 카드</td>\n",
       "      <td>0</td>\n",
       "      <td>14.213702</td>\n",
       "      <td>241236.0</td>\n",
       "      <td>0.0</td>\n",
       "      <td>0.0</td>\n",
       "      <td>0</td>\n",
       "    </tr>\n",
       "    <tr>\n",
       "      <th>96292</th>\n",
       "      <td>TRAIN_96292</td>\n",
       "      <td>16.562782</td>\n",
       "      <td>36 months</td>\n",
       "      <td>5 years</td>\n",
       "      <td>MORTGAGE</td>\n",
       "      <td>18.010153</td>\n",
       "      <td>17.30</td>\n",
       "      <td>21</td>\n",
       "      <td>부채 통합</td>\n",
       "      <td>2</td>\n",
       "      <td>14.136411</td>\n",
       "      <td>818076.0</td>\n",
       "      <td>0.0</td>\n",
       "      <td>0.0</td>\n",
       "      <td>3</td>\n",
       "    </tr>\n",
       "    <tr>\n",
       "      <th>96293</th>\n",
       "      <td>TRAIN_96293</td>\n",
       "      <td>15.971913</td>\n",
       "      <td>36 months</td>\n",
       "      <td>10+ years</td>\n",
       "      <td>RENT</td>\n",
       "      <td>17.735502</td>\n",
       "      <td>11.80</td>\n",
       "      <td>14</td>\n",
       "      <td>신용 카드</td>\n",
       "      <td>0</td>\n",
       "      <td>13.298246</td>\n",
       "      <td>274956.0</td>\n",
       "      <td>0.0</td>\n",
       "      <td>0.0</td>\n",
       "      <td>2</td>\n",
       "    </tr>\n",
       "  </tbody>\n",
       "</table>\n",
       "<p>96294 rows × 15 columns</p>\n",
       "</div>"
      ],
      "text/plain": [
       "                ID       대출금액        대출기간       근로기간    주택소유상태       연간소득  \\\n",
       "0      TRAIN_00000  16.339638   36 months    6 years      RENT  18.092177   \n",
       "1      TRAIN_00001  16.482739   60 months  10+ years  MORTGAGE  18.689180   \n",
       "2      TRAIN_00002  16.300417   36 months    5 years  MORTGAGE  18.379859   \n",
       "3      TRAIN_00003  16.482739   36 months    8 years  MORTGAGE  18.698312   \n",
       "4      TRAIN_00004  16.705882   60 months    Unknown      RENT  18.088503   \n",
       "...            ...        ...         ...        ...       ...        ...   \n",
       "96289  TRAIN_96289  16.482739   36 months  10+ years  MORTGAGE  19.162618   \n",
       "96290  TRAIN_96290  17.175886   60 months  10+ years  MORTGAGE  18.698312   \n",
       "96291  TRAIN_96291  16.482739   36 months     1 year  MORTGAGE  18.246327   \n",
       "96292  TRAIN_96292  16.562782   36 months    5 years  MORTGAGE  18.010153   \n",
       "96293  TRAIN_96293  15.971913   36 months  10+ years      RENT  17.735502   \n",
       "\n",
       "       부채_대비_소득_비율  총계좌수   대출목적  최근_2년간_연체_횟수      총상환원금     총상환이자  총연체금액  \\\n",
       "0            18.90    15  부채 통합             0   0.000000       0.0    0.0   \n",
       "1            22.33    21  주택 개선             0  12.830869  234060.0    0.0   \n",
       "2             8.60    14  부채 통합             0  13.741482  151944.0    0.0   \n",
       "3            15.09    15  부채 통합             0  12.694116  153108.0    0.0   \n",
       "4            25.39    19  주요 구매             0  12.339471  148956.0    0.0   \n",
       "...            ...   ...    ...           ...        ...       ...    ...   \n",
       "96289         9.33    33  신용 카드             0  13.789763  492168.0    0.0   \n",
       "96290         5.16    25  주택 개선             0  13.277192  855084.0    0.0   \n",
       "96291        11.24    22  신용 카드             0  14.213702  241236.0    0.0   \n",
       "96292        17.30    21  부채 통합             2  14.136411  818076.0    0.0   \n",
       "96293        11.80    14  신용 카드             0  13.298246  274956.0    0.0   \n",
       "\n",
       "       연체계좌수  대출등급  \n",
       "0        0.0     2  \n",
       "1        0.0     1  \n",
       "2        0.0     0  \n",
       "3        0.0     2  \n",
       "4        0.0     1  \n",
       "...      ...   ...  \n",
       "96289    0.0     2  \n",
       "96290    0.0     4  \n",
       "96291    0.0     0  \n",
       "96292    0.0     3  \n",
       "96293    0.0     2  \n",
       "\n",
       "[96294 rows x 15 columns]"
      ]
     },
     "execution_count": 19,
     "metadata": {},
     "output_type": "execute_result"
    }
   ],
   "source": [
    "train_df"
   ]
  },
  {
   "cell_type": "code",
   "execution_count": 20,
   "id": "4bae1f66",
   "metadata": {},
   "outputs": [
    {
     "data": {
      "text/plain": [
       "Index(['ID', '대출금액', '대출기간', '근로기간', '주택소유상태', '연간소득', '부채_대비_소득_비율', '총계좌수',\n",
       "       '대출목적', '최근_2년간_연체_횟수', '총상환원금', '총상환이자', '총연체금액', '연체계좌수', '대출등급'],\n",
       "      dtype='object')"
      ]
     },
     "execution_count": 20,
     "metadata": {},
     "output_type": "execute_result"
    }
   ],
   "source": [
    "train.columns"
   ]
  },
  {
   "cell_type": "code",
   "execution_count": 21,
   "id": "c9b24c62",
   "metadata": {},
   "outputs": [
    {
     "name": "stdout",
     "output_type": "stream",
     "text": [
      "(67405, 9)\n",
      "(28889, 9)\n",
      "(64197, 9)\n"
     ]
    }
   ],
   "source": [
    "from sklearn.preprocessing import StandardScaler\n",
    "scaler = StandardScaler()\n",
    "scaler.fit(train[num_cols])\n",
    "train_scaled = scaler.transform(train[num_cols])\n",
    "valid_scaled = scaler.transform(valid[num_cols])\n",
    "test_scaled = scaler.transform(test_df[num_cols])\n",
    "\n",
    "train_scaled_df = pd.DataFrame(train_scaled,columns=train[num_cols].columns)\n",
    "valid_scaled_df = pd.DataFrame(valid_scaled,columns=valid[num_cols].columns)\n",
    "test_scaled_df = pd.DataFrame(test_scaled,columns=test_df[num_cols].columns)\n",
    "\n",
    "print(train_scaled_df.shape)\n",
    "print(valid_scaled_df.shape)\n",
    "print(test_scaled_df.shape)"
   ]
  },
  {
   "cell_type": "code",
   "execution_count": 22,
   "id": "31981ea7",
   "metadata": {},
   "outputs": [
    {
     "name": "stdout",
     "output_type": "stream",
     "text": [
      "(67405, 34)\n",
      "(28889, 34)\n",
      "(64197, 34)\n"
     ]
    },
    {
     "name": "stderr",
     "output_type": "stream",
     "text": [
      "C:\\Users\\Owner\\anaconda3\\lib\\site-packages\\sklearn\\preprocessing\\_encoders.py:828: FutureWarning: `sparse` was renamed to `sparse_output` in version 1.2 and will be removed in 1.4. `sparse_output` is ignored unless you leave `sparse` to its default value.\n",
      "  warnings.warn(\n"
     ]
    }
   ],
   "source": [
    "from sklearn.preprocessing import OneHotEncoder\n",
    "encoder = OneHotEncoder(sparse=False,handle_unknown='ignore')\n",
    "encoder.fit(train[cat_cols])\n",
    "train_encoded = encoder.transform(train[cat_cols])\n",
    "valid_encoded = encoder.transform(valid[cat_cols])\n",
    "test_encoded = encoder.transform(test_df[cat_cols])\n",
    "\n",
    "train_encoded_df = pd.DataFrame(train_encoded,columns=encoder.get_feature_names_out())\n",
    "valid_encoded_df = pd.DataFrame(valid_encoded,columns=encoder.get_feature_names_out())\n",
    "test_encoded_df = pd.DataFrame(test_encoded,columns=encoder.get_feature_names_out())\n",
    "\n",
    "print(train_encoded_df.shape)\n",
    "print(valid_encoded_df.shape)\n",
    "print(test_encoded_df.shape)"
   ]
  },
  {
   "cell_type": "code",
   "execution_count": 23,
   "id": "52225638",
   "metadata": {},
   "outputs": [
    {
     "data": {
      "text/html": [
       "<div>\n",
       "<style scoped>\n",
       "    .dataframe tbody tr th:only-of-type {\n",
       "        vertical-align: middle;\n",
       "    }\n",
       "\n",
       "    .dataframe tbody tr th {\n",
       "        vertical-align: top;\n",
       "    }\n",
       "\n",
       "    .dataframe thead th {\n",
       "        text-align: right;\n",
       "    }\n",
       "</style>\n",
       "<table border=\"1\" class=\"dataframe\">\n",
       "  <thead>\n",
       "    <tr style=\"text-align: right;\">\n",
       "      <th></th>\n",
       "      <th>대출금액</th>\n",
       "      <th>연간소득</th>\n",
       "      <th>부채_대비_소득_비율</th>\n",
       "      <th>총계좌수</th>\n",
       "      <th>최근_2년간_연체_횟수</th>\n",
       "      <th>총상환원금</th>\n",
       "      <th>총상환이자</th>\n",
       "      <th>총연체금액</th>\n",
       "      <th>연체계좌수</th>\n",
       "    </tr>\n",
       "  </thead>\n",
       "  <tbody>\n",
       "    <tr>\n",
       "      <th>0</th>\n",
       "      <td>1.442498</td>\n",
       "      <td>0.215798</td>\n",
       "      <td>-0.269857</td>\n",
       "      <td>-1.349060</td>\n",
       "      <td>1.790772</td>\n",
       "      <td>0.790754</td>\n",
       "      <td>2.770837</td>\n",
       "      <td>-0.042703</td>\n",
       "      <td>-0.071653</td>\n",
       "    </tr>\n",
       "    <tr>\n",
       "      <th>1</th>\n",
       "      <td>0.964551</td>\n",
       "      <td>1.083412</td>\n",
       "      <td>-0.417931</td>\n",
       "      <td>-0.357932</td>\n",
       "      <td>0.707868</td>\n",
       "      <td>0.481573</td>\n",
       "      <td>0.285740</td>\n",
       "      <td>-0.042703</td>\n",
       "      <td>-0.071653</td>\n",
       "    </tr>\n",
       "    <tr>\n",
       "      <th>2</th>\n",
       "      <td>0.356013</td>\n",
       "      <td>-0.165606</td>\n",
       "      <td>0.326719</td>\n",
       "      <td>0.055039</td>\n",
       "      <td>-0.375036</td>\n",
       "      <td>0.152638</td>\n",
       "      <td>-0.687857</td>\n",
       "      <td>-0.042703</td>\n",
       "      <td>-0.071653</td>\n",
       "    </tr>\n",
       "    <tr>\n",
       "      <th>3</th>\n",
       "      <td>1.530808</td>\n",
       "      <td>2.116447</td>\n",
       "      <td>-0.219240</td>\n",
       "      <td>-1.018684</td>\n",
       "      <td>-0.375036</td>\n",
       "      <td>0.394617</td>\n",
       "      <td>-0.022259</td>\n",
       "      <td>-0.042703</td>\n",
       "      <td>-0.071653</td>\n",
       "    </tr>\n",
       "    <tr>\n",
       "      <th>4</th>\n",
       "      <td>-1.781953</td>\n",
       "      <td>-0.683391</td>\n",
       "      <td>-0.049257</td>\n",
       "      <td>-1.183872</td>\n",
       "      <td>-0.375036</td>\n",
       "      <td>0.101843</td>\n",
       "      <td>-0.387296</td>\n",
       "      <td>-0.042703</td>\n",
       "      <td>-0.071653</td>\n",
       "    </tr>\n",
       "    <tr>\n",
       "      <th>...</th>\n",
       "      <td>...</td>\n",
       "      <td>...</td>\n",
       "      <td>...</td>\n",
       "      <td>...</td>\n",
       "      <td>...</td>\n",
       "      <td>...</td>\n",
       "      <td>...</td>\n",
       "      <td>...</td>\n",
       "      <td>...</td>\n",
       "    </tr>\n",
       "    <tr>\n",
       "      <th>28884</th>\n",
       "      <td>0.690916</td>\n",
       "      <td>1.495329</td>\n",
       "      <td>-0.111962</td>\n",
       "      <td>-0.853496</td>\n",
       "      <td>-0.375036</td>\n",
       "      <td>0.426768</td>\n",
       "      <td>0.293314</td>\n",
       "      <td>-0.042703</td>\n",
       "      <td>-0.071653</td>\n",
       "    </tr>\n",
       "    <tr>\n",
       "      <th>28885</th>\n",
       "      <td>-1.246642</td>\n",
       "      <td>-1.191091</td>\n",
       "      <td>-0.357241</td>\n",
       "      <td>-1.514248</td>\n",
       "      <td>-0.375036</td>\n",
       "      <td>0.174026</td>\n",
       "      <td>-0.749572</td>\n",
       "      <td>-0.042703</td>\n",
       "      <td>-0.071653</td>\n",
       "    </tr>\n",
       "    <tr>\n",
       "      <th>28886</th>\n",
       "      <td>1.299453</td>\n",
       "      <td>0.215798</td>\n",
       "      <td>0.200051</td>\n",
       "      <td>-0.275338</td>\n",
       "      <td>3.956580</td>\n",
       "      <td>0.431190</td>\n",
       "      <td>2.447772</td>\n",
       "      <td>-0.042703</td>\n",
       "      <td>-0.071653</td>\n",
       "    </tr>\n",
       "    <tr>\n",
       "      <th>28887</th>\n",
       "      <td>0.532787</td>\n",
       "      <td>1.231168</td>\n",
       "      <td>-0.157794</td>\n",
       "      <td>-0.110149</td>\n",
       "      <td>-0.375036</td>\n",
       "      <td>0.628986</td>\n",
       "      <td>0.296896</td>\n",
       "      <td>-0.042703</td>\n",
       "      <td>-0.071653</td>\n",
       "    </tr>\n",
       "    <tr>\n",
       "      <th>28888</th>\n",
       "      <td>-0.507515</td>\n",
       "      <td>-0.356739</td>\n",
       "      <td>-0.098867</td>\n",
       "      <td>-1.431654</td>\n",
       "      <td>-0.375036</td>\n",
       "      <td>-3.948250</td>\n",
       "      <td>-0.972996</td>\n",
       "      <td>-0.042703</td>\n",
       "      <td>-0.071653</td>\n",
       "    </tr>\n",
       "  </tbody>\n",
       "</table>\n",
       "<p>28889 rows × 9 columns</p>\n",
       "</div>"
      ],
      "text/plain": [
       "           대출금액      연간소득  부채_대비_소득_비율      총계좌수  최근_2년간_연체_횟수     총상환원금  \\\n",
       "0      1.442498  0.215798    -0.269857 -1.349060      1.790772  0.790754   \n",
       "1      0.964551  1.083412    -0.417931 -0.357932      0.707868  0.481573   \n",
       "2      0.356013 -0.165606     0.326719  0.055039     -0.375036  0.152638   \n",
       "3      1.530808  2.116447    -0.219240 -1.018684     -0.375036  0.394617   \n",
       "4     -1.781953 -0.683391    -0.049257 -1.183872     -0.375036  0.101843   \n",
       "...         ...       ...          ...       ...           ...       ...   \n",
       "28884  0.690916  1.495329    -0.111962 -0.853496     -0.375036  0.426768   \n",
       "28885 -1.246642 -1.191091    -0.357241 -1.514248     -0.375036  0.174026   \n",
       "28886  1.299453  0.215798     0.200051 -0.275338      3.956580  0.431190   \n",
       "28887  0.532787  1.231168    -0.157794 -0.110149     -0.375036  0.628986   \n",
       "28888 -0.507515 -0.356739    -0.098867 -1.431654     -0.375036 -3.948250   \n",
       "\n",
       "          총상환이자     총연체금액     연체계좌수  \n",
       "0      2.770837 -0.042703 -0.071653  \n",
       "1      0.285740 -0.042703 -0.071653  \n",
       "2     -0.687857 -0.042703 -0.071653  \n",
       "3     -0.022259 -0.042703 -0.071653  \n",
       "4     -0.387296 -0.042703 -0.071653  \n",
       "...         ...       ...       ...  \n",
       "28884  0.293314 -0.042703 -0.071653  \n",
       "28885 -0.749572 -0.042703 -0.071653  \n",
       "28886  2.447772 -0.042703 -0.071653  \n",
       "28887  0.296896 -0.042703 -0.071653  \n",
       "28888 -0.972996 -0.042703 -0.071653  \n",
       "\n",
       "[28889 rows x 9 columns]"
      ]
     },
     "execution_count": 23,
     "metadata": {},
     "output_type": "execute_result"
    }
   ],
   "source": [
    "train_encoded_df.reset_index(drop=True)\n",
    "train_scaled_df.reset_index(drop=True)\n",
    "test_encoded_df.reset_index(drop=True)\n",
    "test_scaled_df.reset_index(drop=True)\n",
    "valid_encoded_df.reset_index(drop=True)\n",
    "valid_scaled_df.reset_index(drop=True)"
   ]
  },
  {
   "cell_type": "code",
   "execution_count": 24,
   "id": "be4a4d74",
   "metadata": {},
   "outputs": [
    {
     "name": "stdout",
     "output_type": "stream",
     "text": [
      "(67405, 43)\n",
      "(28889, 43)\n",
      "(64197, 43)\n"
     ]
    }
   ],
   "source": [
    "x_train = np.concatenate([train_scaled_df,train_encoded_df],axis=1)\n",
    "x_valid = np.concatenate([valid_scaled_df,valid_encoded_df],axis=1)\n",
    "x_test = np.concatenate([test_scaled_df,test_encoded_df],axis=1)\n",
    "\n",
    "print(x_train.shape)\n",
    "print(x_valid.shape)\n",
    "print(x_test.shape)"
   ]
  },
  {
   "cell_type": "code",
   "execution_count": 25,
   "id": "f0f35c2f",
   "metadata": {},
   "outputs": [
    {
     "name": "stdout",
     "output_type": "stream",
     "text": [
      "(67405, 1)\n",
      "(28889, 1)\n"
     ]
    }
   ],
   "source": [
    "y_train = np.array(train['대출등급']).reshape(-1,1)\n",
    "y_valid = np.array(valid['대출등급']).reshape(-1,1)\n",
    "\n",
    "print(y_train.shape)\n",
    "print(y_valid.shape)"
   ]
  },
  {
   "cell_type": "code",
   "execution_count": 26,
   "id": "60b6106a",
   "metadata": {},
   "outputs": [
    {
     "name": "stdout",
     "output_type": "stream",
     "text": [
      "WARNING:tensorflow:From C:\\Users\\Owner\\anaconda3\\lib\\site-packages\\keras\\src\\losses.py:2976: The name tf.losses.sparse_softmax_cross_entropy is deprecated. Please use tf.compat.v1.losses.sparse_softmax_cross_entropy instead.\n",
      "\n",
      "WARNING:tensorflow:From C:\\Users\\Owner\\anaconda3\\lib\\site-packages\\keras\\src\\backend.py:873: The name tf.get_default_graph is deprecated. Please use tf.compat.v1.get_default_graph instead.\n",
      "\n"
     ]
    }
   ],
   "source": [
    "import tensorflow as tf\n",
    "from tensorflow.keras.models import Sequential\n",
    "from tensorflow.keras.layers import Dense,Dropout\n",
    "\n",
    "num_classes = len(lton)\n",
    "model = Sequential()\n",
    "model.add(Dense(1024,activation='relu',input_shape=(43,)))\n",
    "model.add(Dropout(0.5))\n",
    "model.add(Dense(512,activation='relu'))\n",
    "model.add(Dropout(0.5))\n",
    "model.add(Dense(256,activation='relu'))\n",
    "model.add(Dropout(0.5))\n",
    "model.add(Dense(num_classes,activation='softmax'))"
   ]
  },
  {
   "cell_type": "code",
   "execution_count": 27,
   "id": "759b52cf",
   "metadata": {},
   "outputs": [],
   "source": [
    "from sklearn.metrics import f1_score\n",
    "def macro_f1_score(y_true,y_pred):\n",
    "    y_pred = np.argmax(y_pred,1)\n",
    "    f1_scores = []\n",
    "    for k in range(num_classes):\n",
    "        y_true_k = (y_true == k)\n",
    "        y_pred_k = (y_pred == k)\n",
    "        f1_k = f1_score(y_true_k,y_pred_k,zero_division=0)\n",
    "        f1_scores.append(f1_k)\n",
    "    return np.mean(f1_scores)"
   ]
  },
  {
   "cell_type": "code",
   "execution_count": 28,
   "id": "bcaec504",
   "metadata": {},
   "outputs": [],
   "source": [
    "def custom_metric(y_true,y_pred):\n",
    "    f1 = tf.py_function(func=macro_f1_score,inp=[y_true,y_pred],Tout=tf.float32)\n",
    "    return f1"
   ]
  },
  {
   "cell_type": "code",
   "execution_count": 29,
   "id": "7a495265",
   "metadata": {},
   "outputs": [],
   "source": [
    "model.compile(\n",
    "    optimizer = tf.keras.optimizers.Adam(learning_rate=0.001),\n",
    "    loss = tf.keras.losses.SparseCategoricalCrossentropy(from_logits=False),\n",
    "    metrics = [tf.keras.metrics.SparseCategoricalAccuracy(),\n",
    "              custom_metric\n",
    "              ]\n",
    ")"
   ]
  },
  {
   "cell_type": "code",
   "execution_count": 30,
   "id": "a26dbf2d",
   "metadata": {},
   "outputs": [
    {
     "name": "stdout",
     "output_type": "stream",
     "text": [
      "Epoch 1/10\n",
      "WARNING:tensorflow:From C:\\Users\\Owner\\anaconda3\\lib\\site-packages\\keras\\src\\utils\\tf_utils.py:492: The name tf.ragged.RaggedTensorValue is deprecated. Please use tf.compat.v1.ragged.RaggedTensorValue instead.\n",
      "\n",
      "WARNING:tensorflow:From C:\\Users\\Owner\\anaconda3\\lib\\site-packages\\keras\\src\\engine\\base_layer_utils.py:384: The name tf.executing_eagerly_outside_functions is deprecated. Please use tf.compat.v1.executing_eagerly_outside_functions instead.\n",
      "\n",
      "527/527 [==============================] - 18s 31ms/step - loss: 1.2007 - sparse_categorical_accuracy: 0.4846 - custom_metric: 0.3198 - val_loss: 0.8277 - val_sparse_categorical_accuracy: 0.6860 - val_custom_metric: 0.4847\n",
      "Epoch 2/10\n",
      "527/527 [==============================] - 16s 30ms/step - loss: 0.8618 - sparse_categorical_accuracy: 0.6432 - custom_metric: 0.4771 - val_loss: 0.6961 - val_sparse_categorical_accuracy: 0.7054 - val_custom_metric: 0.5126\n",
      "Epoch 3/10\n",
      "527/527 [==============================] - 16s 30ms/step - loss: 0.7551 - sparse_categorical_accuracy: 0.6847 - custom_metric: 0.5155 - val_loss: 0.6201 - val_sparse_categorical_accuracy: 0.7415 - val_custom_metric: 0.5466\n",
      "Epoch 4/10\n",
      "527/527 [==============================] - 16s 31ms/step - loss: 0.7133 - sparse_categorical_accuracy: 0.7014 - custom_metric: 0.5356 - val_loss: 0.5895 - val_sparse_categorical_accuracy: 0.7690 - val_custom_metric: 0.6107\n",
      "Epoch 5/10\n",
      "527/527 [==============================] - 17s 33ms/step - loss: 0.6902 - sparse_categorical_accuracy: 0.7125 - custom_metric: 0.5504 - val_loss: 0.5867 - val_sparse_categorical_accuracy: 0.7638 - val_custom_metric: 0.6140\n",
      "Epoch 6/10\n",
      "527/527 [==============================] - 16s 30ms/step - loss: 0.6718 - sparse_categorical_accuracy: 0.7220 - custom_metric: 0.5616 - val_loss: 0.5538 - val_sparse_categorical_accuracy: 0.7886 - val_custom_metric: 0.6226\n",
      "Epoch 7/10\n",
      "527/527 [==============================] - 16s 31ms/step - loss: 0.6615 - sparse_categorical_accuracy: 0.7269 - custom_metric: 0.5641 - val_loss: 0.5580 - val_sparse_categorical_accuracy: 0.7809 - val_custom_metric: 0.6208\n",
      "Epoch 8/10\n",
      "527/527 [==============================] - 16s 31ms/step - loss: 0.6514 - sparse_categorical_accuracy: 0.7318 - custom_metric: 0.5739 - val_loss: 0.5674 - val_sparse_categorical_accuracy: 0.7770 - val_custom_metric: 0.6326\n",
      "Epoch 9/10\n",
      "527/527 [==============================] - 16s 31ms/step - loss: 0.6460 - sparse_categorical_accuracy: 0.7336 - custom_metric: 0.5757 - val_loss: 0.5437 - val_sparse_categorical_accuracy: 0.7899 - val_custom_metric: 0.6367\n",
      "Epoch 10/10\n",
      "527/527 [==============================] - 16s 30ms/step - loss: 0.6376 - sparse_categorical_accuracy: 0.7391 - custom_metric: 0.5829 - val_loss: 0.5347 - val_sparse_categorical_accuracy: 0.7908 - val_custom_metric: 0.6405\n"
     ]
    },
    {
     "data": {
      "text/plain": [
       "<keras.src.callbacks.History at 0x29c01d694b0>"
      ]
     },
     "execution_count": 30,
     "metadata": {},
     "output_type": "execute_result"
    }
   ],
   "source": [
    "model.fit(x = x_train,\n",
    "          y= y_train,\n",
    "          batch_size=128,\n",
    "          epochs=10,\n",
    "          validation_data=(x_valid,y_valid))"
   ]
  },
  {
   "cell_type": "code",
   "execution_count": 31,
   "id": "d5415d08",
   "metadata": {},
   "outputs": [
    {
     "name": "stdout",
     "output_type": "stream",
     "text": [
      "903/903 [==============================] - 2s 2ms/step\n"
     ]
    }
   ],
   "source": [
    "val_pred = model.predict(x_valid)\n",
    "y_pred = np.argmax(val_pred,1)\n",
    "y_true = np.array(y_valid)"
   ]
  },
  {
   "cell_type": "code",
   "execution_count": 35,
   "id": "18512255",
   "metadata": {},
   "outputs": [],
   "source": [
    "from sklearn.metrics import f1_score\n",
    "def macro_f1_score(y_true,y_pred,num_classes):\n",
    "    f1_scores = []\n",
    "    for k in range(num_classes):\n",
    "        y_true_k = (y_true == k)\n",
    "        y_pred_k = (y_pred == k)\n",
    "        f1_k = f1_score(y_true_k,y_pred_k)\n",
    "        f1_scores.append(f1_k)\n",
    "    return np.mean(f1_scores)"
   ]
  },
  {
   "cell_type": "code",
   "execution_count": 36,
   "id": "f2003f67",
   "metadata": {},
   "outputs": [
    {
     "name": "stdout",
     "output_type": "stream",
     "text": [
      "macro_f1_score: 0.6562930623991602\n"
     ]
    }
   ],
   "source": [
    "print(f'macro_f1_score: {macro_f1_score(y_true,y_pred,num_classes)}')"
   ]
  },
  {
   "cell_type": "code",
   "execution_count": 37,
   "id": "4ca72e76",
   "metadata": {},
   "outputs": [
    {
     "name": "stdout",
     "output_type": "stream",
     "text": [
      "2007/2007 [==============================] - 4s 2ms/step\n"
     ]
    },
    {
     "data": {
      "text/html": [
       "<div>\n",
       "<style scoped>\n",
       "    .dataframe tbody tr th:only-of-type {\n",
       "        vertical-align: middle;\n",
       "    }\n",
       "\n",
       "    .dataframe tbody tr th {\n",
       "        vertical-align: top;\n",
       "    }\n",
       "\n",
       "    .dataframe thead th {\n",
       "        text-align: right;\n",
       "    }\n",
       "</style>\n",
       "<table border=\"1\" class=\"dataframe\">\n",
       "  <thead>\n",
       "    <tr style=\"text-align: right;\">\n",
       "      <th></th>\n",
       "      <th>ID</th>\n",
       "      <th>대출등급</th>\n",
       "    </tr>\n",
       "  </thead>\n",
       "  <tbody>\n",
       "    <tr>\n",
       "      <th>0</th>\n",
       "      <td>TEST_00000</td>\n",
       "      <td>B</td>\n",
       "    </tr>\n",
       "    <tr>\n",
       "      <th>1</th>\n",
       "      <td>TEST_00001</td>\n",
       "      <td>B</td>\n",
       "    </tr>\n",
       "    <tr>\n",
       "      <th>2</th>\n",
       "      <td>TEST_00002</td>\n",
       "      <td>A</td>\n",
       "    </tr>\n",
       "    <tr>\n",
       "      <th>3</th>\n",
       "      <td>TEST_00003</td>\n",
       "      <td>C</td>\n",
       "    </tr>\n",
       "    <tr>\n",
       "      <th>4</th>\n",
       "      <td>TEST_00004</td>\n",
       "      <td>C</td>\n",
       "    </tr>\n",
       "    <tr>\n",
       "      <th>...</th>\n",
       "      <td>...</td>\n",
       "      <td>...</td>\n",
       "    </tr>\n",
       "    <tr>\n",
       "      <th>64192</th>\n",
       "      <td>TEST_64192</td>\n",
       "      <td>D</td>\n",
       "    </tr>\n",
       "    <tr>\n",
       "      <th>64193</th>\n",
       "      <td>TEST_64193</td>\n",
       "      <td>D</td>\n",
       "    </tr>\n",
       "    <tr>\n",
       "      <th>64194</th>\n",
       "      <td>TEST_64194</td>\n",
       "      <td>D</td>\n",
       "    </tr>\n",
       "    <tr>\n",
       "      <th>64195</th>\n",
       "      <td>TEST_64195</td>\n",
       "      <td>C</td>\n",
       "    </tr>\n",
       "    <tr>\n",
       "      <th>64196</th>\n",
       "      <td>TEST_64196</td>\n",
       "      <td>A</td>\n",
       "    </tr>\n",
       "  </tbody>\n",
       "</table>\n",
       "<p>64197 rows × 2 columns</p>\n",
       "</div>"
      ],
      "text/plain": [
       "               ID 대출등급\n",
       "0      TEST_00000    B\n",
       "1      TEST_00001    B\n",
       "2      TEST_00002    A\n",
       "3      TEST_00003    C\n",
       "4      TEST_00004    C\n",
       "...           ...  ...\n",
       "64192  TEST_64192    D\n",
       "64193  TEST_64193    D\n",
       "64194  TEST_64194    D\n",
       "64195  TEST_64195    C\n",
       "64196  TEST_64196    A\n",
       "\n",
       "[64197 rows x 2 columns]"
      ]
     },
     "execution_count": 37,
     "metadata": {},
     "output_type": "execute_result"
    }
   ],
   "source": [
    "pred = model.predict(x_test)\n",
    "pred = np.argmax(pred,1)\n",
    "sub['대출등급'] = [ntol[i] for i in pred]\n",
    "sub.to_csv('7th_try.csv',index=False)\n",
    "pd.read_csv('7th_try.csv')"
   ]
  }
 ],
 "metadata": {
  "kernelspec": {
   "display_name": "Python 3 (ipykernel)",
   "language": "python",
   "name": "python3"
  },
  "language_info": {
   "codemirror_mode": {
    "name": "ipython",
    "version": 3
   },
   "file_extension": ".py",
   "mimetype": "text/x-python",
   "name": "python",
   "nbconvert_exporter": "python",
   "pygments_lexer": "ipython3",
   "version": "3.10.9"
  }
 },
 "nbformat": 4,
 "nbformat_minor": 5
}
