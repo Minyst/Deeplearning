{
  "nbformat": 4,
  "nbformat_minor": 0,
  "metadata": {
    "colab": {
      "provenance": []
    },
    "kernelspec": {
      "name": "python3",
      "display_name": "Python 3"
    },
    "language_info": {
      "name": "python"
    }
  },
  "cells": [
    {
      "cell_type": "code",
      "execution_count": null,
      "metadata": {
        "id": "Wa4aDhBb_MEJ"
      },
      "outputs": [],
      "source": [
        "class MyModel(Model):\n",
        "\n",
        "    def __init__():\n",
        "\n",
        "        self.keep_hidden = []\n",
        "        for i in range(5):\n",
        "            self.keep_hidden.append(Dense(1024))\n",
        "\n",
        "        self.keep_drop = []\n",
        "        for i in range(5):\n",
        "            self.keep_drop.append(Dropout(0.3))\n",
        "\n",
        "        self.dense_last = Dense(1024)\n",
        "        self.logits = Dense(num_class)\n",
        "\n",
        "    def call():\n",
        "\n",
        "        for hidden, drop in zip(self.keep_hidden, self.keep_drop):\n",
        "            x = hidden(x)\n",
        "            x = drop(x)\n",
        "\n",
        "        x = self.dense_last(x)\n",
        "        x = self.logits(x)\n",
        "\n",
        "        return x"
      ]
    },
    {
      "cell_type": "code",
      "source": [
        "class MyModel(Model):\n",
        "\n",
        "    def __init__(self):\n",
        "        super(MyModel).__init__()\n",
        "\n",
        "        self.logits = Dense(num_class)\n",
        "\n",
        "        self.keep_hidden = []\n",
        "        for i in range(6):\n",
        "            self.keep_hidden.append(Dense(1024))\n",
        "\n",
        "        self.keep_drop = []\n",
        "        for i in range(5):\n",
        "            self.keep_drop.append(Dropout(0.3))\n",
        "\n",
        "    def call():\n",
        "\n",
        "        for hidden, drop in zip(self.keep_hidden, self.keep_drop):\n",
        "            x = hidden(x)\n",
        "            x = drop(x)\n",
        "\n",
        "        x = self.keep_hidden[-1](x)\n",
        "        x = self.logits(x)\n",
        "\n",
        "        return x"
      ],
      "metadata": {
        "id": "sckBTARb_g7C"
      },
      "execution_count": null,
      "outputs": []
    },
    {
      "cell_type": "code",
      "source": [
        "2 [0, 1]\n",
        "5 [A B C D E A B C D E A B C D E]"
      ],
      "metadata": {
        "id": "DQ1Pk4aaDPQv"
      },
      "execution_count": null,
      "outputs": []
    },
    {
      "cell_type": "code",
      "source": [
        "y_label = [0, 1, 1, 1, 0, 0, 4, 2, 2, 3, 3, 4]"
      ],
      "metadata": {
        "id": "NVcfvymoDqqv"
      },
      "execution_count": null,
      "outputs": []
    },
    {
      "cell_type": "code",
      "source": [
        "for i, j in zip([1,2,3,4,5,6], [1,2,3,4,5]):\n",
        "    print(i,j )"
      ],
      "metadata": {
        "colab": {
          "base_uri": "https://localhost:8080/"
        },
        "id": "4j952CE8BgV3",
        "outputId": "591c15ae-21ff-4099-d06d-455c3c2b8e5d"
      },
      "execution_count": null,
      "outputs": [
        {
          "output_type": "stream",
          "name": "stdout",
          "text": [
            "1 1\n",
            "2 2\n",
            "3 3\n",
            "4 4\n",
            "5 5\n"
          ]
        }
      ]
    }
  ]
}