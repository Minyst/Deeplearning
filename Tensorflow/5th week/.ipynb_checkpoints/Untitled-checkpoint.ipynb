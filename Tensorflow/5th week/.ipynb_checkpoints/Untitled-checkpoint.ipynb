{
 "cells": [
  {
   "cell_type": "code",
   "execution_count": 8,
   "id": "3a2d0376",
   "metadata": {},
   "outputs": [
    {
     "name": "stdout",
     "output_type": "stream",
     "text": [
      "Using TensorFlow backend\n"
     ]
    }
   ],
   "source": [
    "import tensorflow as tf\n",
    "import numpy as np\n",
    "from tensorflow.keras import datasets, layers, Model\n",
    "import keras_cv"
   ]
  },
  {
   "cell_type": "code",
   "execution_count": 4,
   "id": "f1cac54d",
   "metadata": {},
   "outputs": [],
   "source": [
    "(train_images, train_labels), (test_images, test_labels) = datasets.cifar10.load_data()"
   ]
  },
  {
   "cell_type": "code",
   "execution_count": 5,
   "id": "51daae4b",
   "metadata": {},
   "outputs": [],
   "source": [
    "class_names = ['airplane', 'automobile', 'bird', 'cat', 'deer', 'dog', 'frog', 'horse', 'ship', 'truck']"
   ]
  },
  {
   "cell_type": "code",
   "execution_count": 6,
   "id": "83e7b0ba",
   "metadata": {},
   "outputs": [],
   "source": [
    "train_images = train_images.astype(np.float32)\n",
    "train_images = train_images / 255.0\n",
    "\n",
    "test_images = test_images.astype(np.float32)\n",
    "test_images = test_images / 255.0\n",
    "\n",
    "train_labels = train_labels.astype(np.int32)\n",
    "test_labels = test_labels.astype(np.int32)"
   ]
  },
  {
   "cell_type": "code",
   "execution_count": null,
   "id": "22758e29",
   "metadata": {},
   "outputs": [],
   "source": [
    "IMG_SIZE = 32*3"
   ]
  },
  {
   "cell_type": "code",
   "execution_count": null,
   "id": "3a8a8867",
   "metadata": {},
   "outputs": [],
   "source": [
    "def image_preprocess(image,label):\n",
    "    image = tf.image.convert_image_dtype(image, tf.float32)\n",
    "    image = tf.image.resize(image, size=(IMG_SIZE,IMG_SIZE))\n",
    "    label = tf.cast(label,tf.int32)\n",
    "    return image,label\n",
    "\n",
    "\n",
    "randaugment = keras_cv.layers.RandAugment(value_range(0,1))\n",
    "\n",
    "def image_augmentation(image,label):\n",
    "    image = randaugment(image)\n",
    "    return image,label"
   ]
  },
  {
   "cell_type": "code",
   "execution_count": null,
   "id": "0ef65fb0",
   "metadata": {},
   "outputs": [],
   "source": [
    "batch_size = 128\n",
    "\n",
    "dataset_train = tf.data.Dataset.from_tensor_slices((train_images,train_labels))\n",
    "dataset_train = dataset_train.shuffle(buffer_size=len(train_labels))\n",
    "dataset_train = dataset_train.batch(batch_size)\n",
    "dataset_train = dataset_train.map(image_preprocess,num_parallel_calls=tf.data.AUTOTUNE)\n",
    "dataset_train = dataset_train.map(image_augmentation,num_parallel_calls=tf.data.AUTOTUNE)\n",
    "dataset_train = dataset_train.prefetch(buffer_size=tf.data.AUTOTUNE)"
   ]
  },
  {
   "cell_type": "code",
   "execution_count": null,
   "id": "3a134b8d",
   "metadata": {},
   "outputs": [],
   "source": [
    "dataset_test = tf.data.Dataset.from_tensor_slices((test_images,test_labels))\n",
    "dataset_test = dataset_test.map(image_preprocess,num_parallel_calls=tf.data.AUTOTUNE)\n",
    "dataset_test = dataset_test.batch(batch_size)\n",
    "dataset_test = dataset_test.prefetch(buffer_size=tf.data.AUTOTUNE)"
   ]
  },
  {
   "cell_type": "code",
   "execution_count": null,
   "id": "337803e8",
   "metadata": {},
   "outputs": [],
   "source": [
    "input_shape = (IMG_SIZE,IMG_SIZE,3)\n",
    "\n",
    "MobileNetV2 = tf.keras.applications.MobileNetV2(\n",
    "    input_shape=input_shape,\n",
    "    weights='imagenet',\n",
    "    include_top=False\n",
    ")\n",
    "\n",
    "inputs = MobileNetV2.input"
   ]
  },
  {
   "cell_type": "code",
   "execution_count": null,
   "id": "e6d8b857",
   "metadata": {},
   "outputs": [],
   "source": [
    "x = MobileNetV2.output\n",
    "x = layers.GlobalAveragePooling2D()(x)\n",
    "x = layers.LayerNormalization()(x)\n",
    "outputs = layers.Dense(len(class_names),activation='softmax')(x)"
   ]
  },
  {
   "cell_type": "code",
   "execution_count": null,
   "id": "fb7218b3",
   "metadata": {},
   "outputs": [],
   "source": [
    "model = Model(inputs=inputs,outputs=outputs)\n",
    "model.summary(show_trainable=True)"
   ]
  },
  {
   "cell_type": "code",
   "execution_count": null,
   "id": "af90717a",
   "metadata": {},
   "outputs": [],
   "source": [
    "model.compile(optimizer=tf.keras.optimizers.Adam(learning_rate=0.001),\n",
    "              loss=tf.keras.losses.SparseCategoricalCrossentropy(from_logits=False),  # Use 'binary_crossentropy' for binary classification\n",
    "              metrics=tf.keras.metrics.SparseCategoricalAccuracy())"
   ]
  },
  {
   "cell_type": "code",
   "execution_count": null,
   "id": "dccb4567",
   "metadata": {},
   "outputs": [],
   "source": [
    "history = model.fit(dataset_train,train_labels,epoch=10,validation_data=dataset_test)"
   ]
  },
  {
   "cell_type": "code",
   "execution_count": null,
   "id": "1a34d8f8",
   "metadata": {},
   "outputs": [],
   "source": [
    "for idx, layer in enumerate(model.layers):\n",
    "    print('{:<5d}: {}'.format(idx,layer.name))"
   ]
  },
  {
   "cell_type": "code",
   "execution_count": null,
   "id": "5ed32310",
   "metadata": {},
   "outputs": [],
   "source": [
    "for layer in model.layers[:134]:\n",
    "    layer.trainable = False"
   ]
  },
  {
   "cell_type": "code",
   "execution_count": null,
   "id": "d7ce32d0",
   "metadata": {},
   "outputs": [],
   "source": [
    "model.compile(optimizer=tf.keras.optimizers.Adam(learning_rate=0.001),\n",
    "              loss=tf.keras.losses.SparseCategoricalCrossentropy,  # Use 'binary_crossentropy' for binary classification\n",
    "              metrics=tf.keras.SparseCategoricalAccuracy())"
   ]
  },
  {
   "cell_type": "code",
   "execution_count": null,
   "id": "9a4f2fd3",
   "metadata": {},
   "outputs": [],
   "source": [
    "model.summary(show_trainable=True)"
   ]
  },
  {
   "cell_type": "code",
   "execution_count": null,
   "id": "0c5e35cc",
   "metadata": {},
   "outputs": [],
   "source": [
    "history_fine = model.fit(dataset_train,train_labels,epoch=10,validation_data=(dataset_test,test_labels))\n"
   ]
  }
 ],
 "metadata": {
  "kernelspec": {
   "display_name": "Python 3 (ipykernel)",
   "language": "python",
   "name": "python3"
  },
  "language_info": {
   "codemirror_mode": {
    "name": "ipython",
    "version": 3
   },
   "file_extension": ".py",
   "mimetype": "text/x-python",
   "name": "python",
   "nbconvert_exporter": "python",
   "pygments_lexer": "ipython3",
   "version": "3.10.9"
  }
 },
 "nbformat": 4,
 "nbformat_minor": 5
}
