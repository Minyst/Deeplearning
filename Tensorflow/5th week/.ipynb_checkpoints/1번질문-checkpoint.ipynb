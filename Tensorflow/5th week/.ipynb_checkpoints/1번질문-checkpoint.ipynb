{
 "cells": [
  {
   "cell_type": "markdown",
   "id": "3fef3f2d",
   "metadata": {},
   "source": [
    "## 방법 1 - 입력받는 레이어 추가하기"
   ]
  },
  {
   "cell_type": "code",
   "execution_count": null,
   "id": "1a209f08",
   "metadata": {},
   "outputs": [],
   "source": [
    "class MyModel(Model): \n",
    "    \n",
    "    def __init__(self):\n",
    "        super(MyModel, self).__init__()\n",
    "        \n",
    "        ######## 초기 입력용\n",
    "        self.fc = Dense(1024, activation='relu')\n",
    "        \n",
    "        ######## 히든용\n",
    "        self.dense_layer_list=[]\n",
    "        for _ in range(4):\n",
    "            self.dense_layer_list.append(Dense(1024, activation='relu'))\n",
    "            self.drop = Dropout(0.2)\n",
    "        ######## Logits\n",
    "        self.logits = Dense(1, activation='sigmoid')\n",
    "        \n",
    "\n",
    "    def call(self, inputs, training=False):\n",
    "        ######## 초기 입력용\n",
    "        x = self.fc(inputs)\n",
    "        ######## 히든용\n",
    "        for layer in self.dense_layer_list:\n",
    "            x = layer(x)\n",
    "            x = self.drop(x)\n",
    "        ######## Logits\n",
    "        out = self.logits(x)\n",
    "        \n",
    "        return out\n",
    "    \n",
    "subclassing_model = MyModel()"
   ]
  },
  {
   "cell_type": "code",
   "execution_count": null,
   "id": "d59f7639",
   "metadata": {},
   "outputs": [],
   "source": [
    "model = MyModel()"
   ]
  },
  {
   "cell_type": "code",
   "execution_count": null,
   "id": "f8944e94",
   "metadata": {},
   "outputs": [],
   "source": [
    "model(inputs=x_train, training=True)"
   ]
  },
  {
   "cell_type": "code",
   "execution_count": null,
   "id": "436540e6",
   "metadata": {},
   "outputs": [],
   "source": [
    "model(x_train, True)"
   ]
  },
  {
   "cell_type": "markdown",
   "id": "3f7721f7",
   "metadata": {},
   "source": [
    "## 방법 2 - dense list 안에서 해결하기"
   ]
  },
  {
   "cell_type": "code",
   "execution_count": null,
   "id": "4871baff",
   "metadata": {},
   "outputs": [],
   "source": [
    "class MyModel(Model): \n",
    "    \n",
    "    def __init__(self):\n",
    "        super(MyModel, self).__init__()\n",
    "        \n",
    "        self.dense=[]\n",
    "        for _ in range(5):\n",
    "            self.dense.append(Dense(1024, activation='relu'))\n",
    "            self.drop = Dropout(0.2)\n",
    "        self.logits = Dense(1, activation='sigmoid')\n",
    "\n",
    "    def call(self, inputs, training=False):\n",
    "        \n",
    "        for layer in self.dense:\n",
    "            inputs = layer(inputs)\n",
    "            inputs = self.drop(inputs)\n",
    "        out = self.logits(inputs)\n",
    "        return out\n",
    "    \n",
    "subclassing_model = MyModel()"
   ]
  }
 ],
 "metadata": {
  "kernelspec": {
   "display_name": "Python 3 (ipykernel)",
   "language": "python",
   "name": "python3"
  },
  "language_info": {
   "codemirror_mode": {
    "name": "ipython",
    "version": 3
   },
   "file_extension": ".py",
   "mimetype": "text/x-python",
   "name": "python",
   "nbconvert_exporter": "python",
   "pygments_lexer": "ipython3",
   "version": "3.10.9"
  },
  "toc": {
   "base_numbering": 1,
   "nav_menu": {},
   "number_sections": true,
   "sideBar": true,
   "skip_h1_title": false,
   "title_cell": "Table of Contents",
   "title_sidebar": "Contents",
   "toc_cell": false,
   "toc_position": {},
   "toc_section_display": true,
   "toc_window_display": false
  }
 },
 "nbformat": 4,
 "nbformat_minor": 5
}
