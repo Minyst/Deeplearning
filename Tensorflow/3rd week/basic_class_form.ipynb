{
 "cells": [
  {
   "cell_type": "code",
   "execution_count": null,
   "id": "fc02ab39",
   "metadata": {},
   "outputs": [],
   "source": [
    "class MyModel(Model):\n",
    "    def __init__(self):\n",
    "        super(MyModel,self).__init__()\n",
    "        self.dense = Dense(1024,activation='relu')\n",
    "        self.dropout = Dropout(0.2)\n",
    "        self.logits = Dense(1,activation='sigmoid')\n",
    "        \n",
    "    def call(self,inputs):\n",
    "        x = self.dense(inputs)\n",
    "        x = self.dropout(x)\n",
    "        out = self.logits(x)\n",
    "        return out\n",
    "    \n",
    "subclassing_model = MyModel()\n",
    "\n",
    "optimizer = tf.keras.optimizers.Adam(learning_rate=0.001)\n",
    "loss_fn = tf.keras.losses.BinarayCrossentropy(from_logits=False)"
   ]
  },
  {
   "cell_type": "code",
   "execution_count": null,
   "id": "c938ba73",
   "metadata": {},
   "outputs": [],
   "source": [
    "from sklearn.utils import gen_batches, shuffle"
   ]
  },
  {
   "cell_type": "code",
   "execution_count": null,
   "id": "0e1f3a5e",
   "metadata": {},
   "outputs": [],
   "source": [
    "total_epoch = 10\n",
    "batch_size = 128"
   ]
  },
  {
   "cell_type": "code",
   "execution_count": null,
   "id": "4bb50a14",
   "metadata": {},
   "outputs": [],
   "source": [
    "train_batches = list(gen_batches(len(train_x), batch_size))"
   ]
  },
  {
   "cell_type": "code",
   "execution_count": null,
   "id": "11c5f5f3",
   "metadata": {},
   "outputs": [],
   "source": [
    "train_loss = tf.keras.metrics.Mean()\n",
    "valid_loss = tf.keras.metrics.Mean()\n",
    "\n",
    "train_acc = tf.keras.metrics.BinaryAccuracy()\n",
    "valid_acc = tf.keras.metrics.BinaryAccuracy()\n",
    "\n",
    "train_auc = tf.keras.metrics.AUC()\n",
    "valid_auc = tf.keras.metrics.AUC()"
   ]
  },
  {
   "cell_type": "code",
   "execution_count": null,
   "id": "d7bff40d",
   "metadata": {},
   "outputs": [],
   "source": [
    "for epoch in range(total_epoch):\n",
    "    \n",
    "    train_loss.reset_state()\n",
    "    valid_loss.reset_state()\n",
    "    \n",
    "    ####################################################################################################\n",
    "    # training\n",
    "    (shuffle_x, shuffle_y) = shuffle(train_x, train_y)\n",
    "    \n",
    "    for batch in train_batches:\n",
    "        \n",
    "        batch_x = shuffle_x[batch]\n",
    "        batch_y = shuffle_y[batch]\n",
    "        \n",
    "        with tf.GradientTape() as tape:\n",
    "            logits = subclassing_model(batch_x)\n",
    "            loss = loss_fn(batch_y, logits)\n",
    "\n",
    "        gradients = tape.gradient(loss, subclassing_model.trainable_variables)\n",
    "        optimizer.apply_gradients(zip(gradients, subclassing_model.trainable_variables))\n",
    "        \n",
    "        train_loss.update_state(loss)\n",
    "        train_acc.update_state(batch_y, logits)\n",
    "        train_auc.update_state(batch_y, logits)\n",
    "        \n",
    "    ####################################################################################################\n",
    "    # history\n",
    "    logits = subclassing_model.predict(valid_x, verbose=False)\n",
    "    loss = loss_fn(valid_y, logits)\n",
    "    valid_loss.update_state(loss)\n",
    "    valid_acc.update_state(valid_y, logits)\n",
    "    valid_auc.update_state(valid_y, logits)\n",
    "    \n",
    "    msg = \"epoch: {:>5d} - loss: {:>.5f} - accuracy: {:>.3%} - auc: {:>.3%} - val_loss: {:>.5f} - val_accuracy: {:>.3%} - val_auc: {:>.3%}\"\n",
    "    print(msg.format(epoch, \n",
    "                     train_loss.result().numpy(), train_acc.result().numpy(), train_auc.result().numpy(), \n",
    "                     valid_loss.result().numpy(), valid_acc.result().numpy(), valid_auc.result().numpy()))"
   ]
  },
  {
   "cell_type": "code",
   "execution_count": null,
   "id": "cdfb4f2f",
   "metadata": {},
   "outputs": [],
   "source": [
    "subclassing_pred = subclassing_model.predict(valid_x)\n",
    "subclassing_pred"
   ]
  }
 ],
 "metadata": {
  "kernelspec": {
   "display_name": "Python 3 (ipykernel)",
   "language": "python",
   "name": "python3"
  },
  "language_info": {
   "codemirror_mode": {
    "name": "ipython",
    "version": 3
   },
   "file_extension": ".py",
   "mimetype": "text/x-python",
   "name": "python",
   "nbconvert_exporter": "python",
   "pygments_lexer": "ipython3",
   "version": "3.10.9"
  }
 },
 "nbformat": 4,
 "nbformat_minor": 5
}
