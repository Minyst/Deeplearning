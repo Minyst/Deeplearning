{
 "cells": [
  {
   "cell_type": "code",
   "execution_count": null,
   "id": "07ca5ce0",
   "metadata": {},
   "outputs": [],
   "source": [
    "msg = \"epoch: {:>5d} - loss: {:>.5f} - accuracy: {:>.3%} - auc: {:>.3%} - val_loss: {:>.5f} - val_accuracy: {:>.3%} - val_auc: {:>.3%}\"\n",
    "print(msg.format(epoch, \n",
    "                train_loss.result().numpy(), train_acc.result().numpy(), train_auc.result().numpy(), \n",
    "                valid_loss.result().numpy(), valid_acc.result().numpy(), valid_auc.result().numpy()))"
   ]
  }
 ],
 "metadata": {
  "kernelspec": {
   "display_name": "Python 3 (ipykernel)",
   "language": "python",
   "name": "python3"
  },
  "language_info": {
   "codemirror_mode": {
    "name": "ipython",
    "version": 3
   },
   "file_extension": ".py",
   "mimetype": "text/x-python",
   "name": "python",
   "nbconvert_exporter": "python",
   "pygments_lexer": "ipython3",
   "version": "3.10.9"
  }
 },
 "nbformat": 4,
 "nbformat_minor": 5
}
