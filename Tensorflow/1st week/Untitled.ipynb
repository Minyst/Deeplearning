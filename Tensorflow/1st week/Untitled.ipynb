{
 "cells": [
  {
   "cell_type": "code",
   "execution_count": 1,
   "id": "83229ac4",
   "metadata": {},
   "outputs": [],
   "source": [
    "import pandas as pd\n",
    "import numpy as np\n",
    "\n",
    "train_df = pd.read_csv('train.csv')\n",
    "test_df = pd.read_csv('test.csv')\n",
    "sub = pd.read_csv('sample_submission.csv')"
   ]
  },
  {
   "cell_type": "code",
   "execution_count": 2,
   "id": "5e2808f9",
   "metadata": {},
   "outputs": [
    {
     "data": {
      "text/html": [
       "<div>\n",
       "<style scoped>\n",
       "    .dataframe tbody tr th:only-of-type {\n",
       "        vertical-align: middle;\n",
       "    }\n",
       "\n",
       "    .dataframe tbody tr th {\n",
       "        vertical-align: top;\n",
       "    }\n",
       "\n",
       "    .dataframe thead th {\n",
       "        text-align: right;\n",
       "    }\n",
       "</style>\n",
       "<table border=\"1\" class=\"dataframe\">\n",
       "  <thead>\n",
       "    <tr style=\"text-align: right;\">\n",
       "      <th></th>\n",
       "      <th>ID</th>\n",
       "      <th>대출금액</th>\n",
       "      <th>대출기간</th>\n",
       "      <th>근로기간</th>\n",
       "      <th>주택소유상태</th>\n",
       "      <th>연간소득</th>\n",
       "      <th>부채_대비_소득_비율</th>\n",
       "      <th>총계좌수</th>\n",
       "      <th>대출목적</th>\n",
       "      <th>최근_2년간_연체_횟수</th>\n",
       "      <th>총상환원금</th>\n",
       "      <th>총상환이자</th>\n",
       "      <th>총연체금액</th>\n",
       "      <th>연체계좌수</th>\n",
       "      <th>대출등급</th>\n",
       "    </tr>\n",
       "  </thead>\n",
       "  <tbody>\n",
       "    <tr>\n",
       "      <th>0</th>\n",
       "      <td>TRAIN_00000</td>\n",
       "      <td>12480000</td>\n",
       "      <td>36 months</td>\n",
       "      <td>6 years</td>\n",
       "      <td>RENT</td>\n",
       "      <td>72000000</td>\n",
       "      <td>18.90</td>\n",
       "      <td>15</td>\n",
       "      <td>부채 통합</td>\n",
       "      <td>0</td>\n",
       "      <td>0</td>\n",
       "      <td>0.0</td>\n",
       "      <td>0.0</td>\n",
       "      <td>0.0</td>\n",
       "      <td>C</td>\n",
       "    </tr>\n",
       "    <tr>\n",
       "      <th>1</th>\n",
       "      <td>TRAIN_00001</td>\n",
       "      <td>14400000</td>\n",
       "      <td>60 months</td>\n",
       "      <td>10+ years</td>\n",
       "      <td>MORTGAGE</td>\n",
       "      <td>130800000</td>\n",
       "      <td>22.33</td>\n",
       "      <td>21</td>\n",
       "      <td>주택 개선</td>\n",
       "      <td>0</td>\n",
       "      <td>373572</td>\n",
       "      <td>234060.0</td>\n",
       "      <td>0.0</td>\n",
       "      <td>0.0</td>\n",
       "      <td>B</td>\n",
       "    </tr>\n",
       "    <tr>\n",
       "      <th>2</th>\n",
       "      <td>TRAIN_00002</td>\n",
       "      <td>12000000</td>\n",
       "      <td>36 months</td>\n",
       "      <td>5 years</td>\n",
       "      <td>MORTGAGE</td>\n",
       "      <td>96000000</td>\n",
       "      <td>8.60</td>\n",
       "      <td>14</td>\n",
       "      <td>부채 통합</td>\n",
       "      <td>0</td>\n",
       "      <td>928644</td>\n",
       "      <td>151944.0</td>\n",
       "      <td>0.0</td>\n",
       "      <td>0.0</td>\n",
       "      <td>A</td>\n",
       "    </tr>\n",
       "    <tr>\n",
       "      <th>3</th>\n",
       "      <td>TRAIN_00003</td>\n",
       "      <td>14400000</td>\n",
       "      <td>36 months</td>\n",
       "      <td>8 years</td>\n",
       "      <td>MORTGAGE</td>\n",
       "      <td>132000000</td>\n",
       "      <td>15.09</td>\n",
       "      <td>15</td>\n",
       "      <td>부채 통합</td>\n",
       "      <td>0</td>\n",
       "      <td>325824</td>\n",
       "      <td>153108.0</td>\n",
       "      <td>0.0</td>\n",
       "      <td>0.0</td>\n",
       "      <td>C</td>\n",
       "    </tr>\n",
       "    <tr>\n",
       "      <th>4</th>\n",
       "      <td>TRAIN_00004</td>\n",
       "      <td>18000000</td>\n",
       "      <td>60 months</td>\n",
       "      <td>Unknown</td>\n",
       "      <td>RENT</td>\n",
       "      <td>71736000</td>\n",
       "      <td>25.39</td>\n",
       "      <td>19</td>\n",
       "      <td>주요 구매</td>\n",
       "      <td>0</td>\n",
       "      <td>228540</td>\n",
       "      <td>148956.0</td>\n",
       "      <td>0.0</td>\n",
       "      <td>0.0</td>\n",
       "      <td>B</td>\n",
       "    </tr>\n",
       "  </tbody>\n",
       "</table>\n",
       "</div>"
      ],
      "text/plain": [
       "            ID      대출금액        대출기간       근로기간    주택소유상태       연간소득  \\\n",
       "0  TRAIN_00000  12480000   36 months    6 years      RENT   72000000   \n",
       "1  TRAIN_00001  14400000   60 months  10+ years  MORTGAGE  130800000   \n",
       "2  TRAIN_00002  12000000   36 months    5 years  MORTGAGE   96000000   \n",
       "3  TRAIN_00003  14400000   36 months    8 years  MORTGAGE  132000000   \n",
       "4  TRAIN_00004  18000000   60 months    Unknown      RENT   71736000   \n",
       "\n",
       "   부채_대비_소득_비율  총계좌수   대출목적  최근_2년간_연체_횟수   총상환원금     총상환이자  총연체금액  연체계좌수 대출등급  \n",
       "0        18.90    15  부채 통합             0       0       0.0    0.0    0.0    C  \n",
       "1        22.33    21  주택 개선             0  373572  234060.0    0.0    0.0    B  \n",
       "2         8.60    14  부채 통합             0  928644  151944.0    0.0    0.0    A  \n",
       "3        15.09    15  부채 통합             0  325824  153108.0    0.0    0.0    C  \n",
       "4        25.39    19  주요 구매             0  228540  148956.0    0.0    0.0    B  "
      ]
     },
     "execution_count": 2,
     "metadata": {},
     "output_type": "execute_result"
    }
   ],
   "source": [
    "train_df.head()"
   ]
  },
  {
   "cell_type": "code",
   "execution_count": 3,
   "id": "bc64c24c",
   "metadata": {},
   "outputs": [
    {
     "data": {
      "text/html": [
       "<div>\n",
       "<style scoped>\n",
       "    .dataframe tbody tr th:only-of-type {\n",
       "        vertical-align: middle;\n",
       "    }\n",
       "\n",
       "    .dataframe tbody tr th {\n",
       "        vertical-align: top;\n",
       "    }\n",
       "\n",
       "    .dataframe thead th {\n",
       "        text-align: right;\n",
       "    }\n",
       "</style>\n",
       "<table border=\"1\" class=\"dataframe\">\n",
       "  <thead>\n",
       "    <tr style=\"text-align: right;\">\n",
       "      <th></th>\n",
       "      <th>ID</th>\n",
       "      <th>대출금액</th>\n",
       "      <th>대출기간</th>\n",
       "      <th>근로기간</th>\n",
       "      <th>주택소유상태</th>\n",
       "      <th>연간소득</th>\n",
       "      <th>부채_대비_소득_비율</th>\n",
       "      <th>총계좌수</th>\n",
       "      <th>대출목적</th>\n",
       "      <th>최근_2년간_연체_횟수</th>\n",
       "      <th>총상환원금</th>\n",
       "      <th>총상환이자</th>\n",
       "      <th>총연체금액</th>\n",
       "      <th>연체계좌수</th>\n",
       "    </tr>\n",
       "  </thead>\n",
       "  <tbody>\n",
       "    <tr>\n",
       "      <th>0</th>\n",
       "      <td>TEST_00000</td>\n",
       "      <td>16800000</td>\n",
       "      <td>36 months</td>\n",
       "      <td>8 years</td>\n",
       "      <td>MORTGAGE</td>\n",
       "      <td>132000000</td>\n",
       "      <td>19.64</td>\n",
       "      <td>12</td>\n",
       "      <td>주택 개선</td>\n",
       "      <td>0</td>\n",
       "      <td>394692</td>\n",
       "      <td>146604.0</td>\n",
       "      <td>0.0</td>\n",
       "      <td>0.0</td>\n",
       "    </tr>\n",
       "    <tr>\n",
       "      <th>1</th>\n",
       "      <td>TEST_00001</td>\n",
       "      <td>8400000</td>\n",
       "      <td>36 months</td>\n",
       "      <td>5 years</td>\n",
       "      <td>RENT</td>\n",
       "      <td>89971200</td>\n",
       "      <td>15.84</td>\n",
       "      <td>25</td>\n",
       "      <td>부채 통합</td>\n",
       "      <td>0</td>\n",
       "      <td>0</td>\n",
       "      <td>0.0</td>\n",
       "      <td>0.0</td>\n",
       "      <td>0.0</td>\n",
       "    </tr>\n",
       "    <tr>\n",
       "      <th>2</th>\n",
       "      <td>TEST_00002</td>\n",
       "      <td>17280000</td>\n",
       "      <td>36 months</td>\n",
       "      <td>6 years</td>\n",
       "      <td>RENT</td>\n",
       "      <td>150000000</td>\n",
       "      <td>8.41</td>\n",
       "      <td>20</td>\n",
       "      <td>신용 카드</td>\n",
       "      <td>0</td>\n",
       "      <td>1786980</td>\n",
       "      <td>281820.0</td>\n",
       "      <td>0.0</td>\n",
       "      <td>0.0</td>\n",
       "    </tr>\n",
       "    <tr>\n",
       "      <th>3</th>\n",
       "      <td>TEST_00003</td>\n",
       "      <td>14400000</td>\n",
       "      <td>36 months</td>\n",
       "      <td>5 years</td>\n",
       "      <td>MORTGAGE</td>\n",
       "      <td>66000000</td>\n",
       "      <td>13.72</td>\n",
       "      <td>30</td>\n",
       "      <td>신용 카드</td>\n",
       "      <td>1</td>\n",
       "      <td>669024</td>\n",
       "      <td>281724.0</td>\n",
       "      <td>0.0</td>\n",
       "      <td>0.0</td>\n",
       "    </tr>\n",
       "    <tr>\n",
       "      <th>4</th>\n",
       "      <td>TEST_00004</td>\n",
       "      <td>27600000</td>\n",
       "      <td>36 months</td>\n",
       "      <td>5 years</td>\n",
       "      <td>RENT</td>\n",
       "      <td>55200000</td>\n",
       "      <td>30.50</td>\n",
       "      <td>12</td>\n",
       "      <td>신용 카드</td>\n",
       "      <td>0</td>\n",
       "      <td>1250052</td>\n",
       "      <td>614844.0</td>\n",
       "      <td>0.0</td>\n",
       "      <td>0.0</td>\n",
       "    </tr>\n",
       "  </tbody>\n",
       "</table>\n",
       "</div>"
      ],
      "text/plain": [
       "           ID      대출금액        대출기간     근로기간    주택소유상태       연간소득  \\\n",
       "0  TEST_00000  16800000   36 months  8 years  MORTGAGE  132000000   \n",
       "1  TEST_00001   8400000   36 months  5 years      RENT   89971200   \n",
       "2  TEST_00002  17280000   36 months  6 years      RENT  150000000   \n",
       "3  TEST_00003  14400000   36 months  5 years  MORTGAGE   66000000   \n",
       "4  TEST_00004  27600000   36 months  5 years      RENT   55200000   \n",
       "\n",
       "   부채_대비_소득_비율  총계좌수   대출목적  최근_2년간_연체_횟수    총상환원금     총상환이자  총연체금액  연체계좌수  \n",
       "0        19.64    12  주택 개선             0   394692  146604.0    0.0    0.0  \n",
       "1        15.84    25  부채 통합             0        0       0.0    0.0    0.0  \n",
       "2         8.41    20  신용 카드             0  1786980  281820.0    0.0    0.0  \n",
       "3        13.72    30  신용 카드             1   669024  281724.0    0.0    0.0  \n",
       "4        30.50    12  신용 카드             0  1250052  614844.0    0.0    0.0  "
      ]
     },
     "execution_count": 3,
     "metadata": {},
     "output_type": "execute_result"
    }
   ],
   "source": [
    "test_df.head()"
   ]
  },
  {
   "cell_type": "code",
   "execution_count": 4,
   "id": "c3fb76b2",
   "metadata": {},
   "outputs": [
    {
     "data": {
      "text/html": [
       "<div>\n",
       "<style scoped>\n",
       "    .dataframe tbody tr th:only-of-type {\n",
       "        vertical-align: middle;\n",
       "    }\n",
       "\n",
       "    .dataframe tbody tr th {\n",
       "        vertical-align: top;\n",
       "    }\n",
       "\n",
       "    .dataframe thead th {\n",
       "        text-align: right;\n",
       "    }\n",
       "</style>\n",
       "<table border=\"1\" class=\"dataframe\">\n",
       "  <thead>\n",
       "    <tr style=\"text-align: right;\">\n",
       "      <th></th>\n",
       "      <th>ID</th>\n",
       "      <th>대출등급</th>\n",
       "    </tr>\n",
       "  </thead>\n",
       "  <tbody>\n",
       "    <tr>\n",
       "      <th>0</th>\n",
       "      <td>TEST_00000</td>\n",
       "      <td>G</td>\n",
       "    </tr>\n",
       "    <tr>\n",
       "      <th>1</th>\n",
       "      <td>TEST_00001</td>\n",
       "      <td>G</td>\n",
       "    </tr>\n",
       "    <tr>\n",
       "      <th>2</th>\n",
       "      <td>TEST_00002</td>\n",
       "      <td>G</td>\n",
       "    </tr>\n",
       "    <tr>\n",
       "      <th>3</th>\n",
       "      <td>TEST_00003</td>\n",
       "      <td>G</td>\n",
       "    </tr>\n",
       "    <tr>\n",
       "      <th>4</th>\n",
       "      <td>TEST_00004</td>\n",
       "      <td>G</td>\n",
       "    </tr>\n",
       "  </tbody>\n",
       "</table>\n",
       "</div>"
      ],
      "text/plain": [
       "           ID 대출등급\n",
       "0  TEST_00000    G\n",
       "1  TEST_00001    G\n",
       "2  TEST_00002    G\n",
       "3  TEST_00003    G\n",
       "4  TEST_00004    G"
      ]
     },
     "execution_count": 4,
     "metadata": {},
     "output_type": "execute_result"
    }
   ],
   "source": [
    "sub.head()"
   ]
  },
  {
   "cell_type": "code",
   "execution_count": 5,
   "id": "7f2831b3",
   "metadata": {},
   "outputs": [
    {
     "data": {
      "text/plain": [
       "ID              0\n",
       "대출금액            0\n",
       "대출기간            0\n",
       "근로기간            0\n",
       "주택소유상태          0\n",
       "연간소득            0\n",
       "부채_대비_소득_비율     0\n",
       "총계좌수            0\n",
       "대출목적            0\n",
       "최근_2년간_연체_횟수    0\n",
       "총상환원금           0\n",
       "총상환이자           0\n",
       "총연체금액           0\n",
       "연체계좌수           0\n",
       "대출등급            0\n",
       "dtype: int64"
      ]
     },
     "execution_count": 5,
     "metadata": {},
     "output_type": "execute_result"
    }
   ],
   "source": [
    "train_df.isnull().sum()"
   ]
  },
  {
   "cell_type": "code",
   "execution_count": 6,
   "id": "154c3dd1",
   "metadata": {},
   "outputs": [
    {
     "data": {
      "text/plain": [
       "ID              0\n",
       "대출금액            0\n",
       "대출기간            0\n",
       "근로기간            0\n",
       "주택소유상태          0\n",
       "연간소득            0\n",
       "부채_대비_소득_비율     0\n",
       "총계좌수            0\n",
       "대출목적            0\n",
       "최근_2년간_연체_횟수    0\n",
       "총상환원금           0\n",
       "총상환이자           0\n",
       "총연체금액           0\n",
       "연체계좌수           0\n",
       "dtype: int64"
      ]
     },
     "execution_count": 6,
     "metadata": {},
     "output_type": "execute_result"
    }
   ],
   "source": [
    "test_df.isnull().sum()"
   ]
  },
  {
   "cell_type": "code",
   "execution_count": 7,
   "id": "26827c81",
   "metadata": {},
   "outputs": [
    {
     "name": "stdout",
     "output_type": "stream",
     "text": [
      "(96294, 15)\n",
      "(64197, 14)\n"
     ]
    }
   ],
   "source": [
    "print(train_df.shape)\n",
    "print(test_df.shape)"
   ]
  },
  {
   "cell_type": "code",
   "execution_count": 8,
   "id": "9a485cbb",
   "metadata": {},
   "outputs": [],
   "source": [
    "label_to_num = {i:idx for idx,i in enumerate(train_df['대출등급'].unique())}\n",
    "num_to_label = {idx:i for idx,i in enumerate(train_df['대출등급'].unique())}"
   ]
  },
  {
   "cell_type": "code",
   "execution_count": 9,
   "id": "3dfe3709",
   "metadata": {},
   "outputs": [
    {
     "data": {
      "text/plain": [
       "{'C': 0, 'B': 1, 'A': 2, 'D': 3, 'F': 4, 'G': 5, 'E': 6}"
      ]
     },
     "execution_count": 9,
     "metadata": {},
     "output_type": "execute_result"
    }
   ],
   "source": [
    "label_to_num"
   ]
  },
  {
   "cell_type": "code",
   "execution_count": 10,
   "id": "0911aee5",
   "metadata": {},
   "outputs": [
    {
     "data": {
      "text/plain": [
       "{0: 'C', 1: 'B', 2: 'A', 3: 'D', 4: 'F', 5: 'G', 6: 'E'}"
      ]
     },
     "execution_count": 10,
     "metadata": {},
     "output_type": "execute_result"
    }
   ],
   "source": [
    "num_to_label"
   ]
  },
  {
   "cell_type": "code",
   "execution_count": 11,
   "id": "73a9d460",
   "metadata": {},
   "outputs": [
    {
     "data": {
      "text/plain": [
       "0        0\n",
       "1        1\n",
       "2        2\n",
       "3        0\n",
       "4        1\n",
       "        ..\n",
       "96289    0\n",
       "96290    6\n",
       "96291    2\n",
       "96292    3\n",
       "96293    0\n",
       "Name: 대출등급, Length: 96294, dtype: int64"
      ]
     },
     "execution_count": 11,
     "metadata": {},
     "output_type": "execute_result"
    }
   ],
   "source": [
    "train_df['대출등급'] = train_df['대출등급'].apply(lambda x: label_to_num[x])\n",
    "train_df['대출등급']"
   ]
  },
  {
   "cell_type": "code",
   "execution_count": 12,
   "id": "e91050d6",
   "metadata": {},
   "outputs": [
    {
     "data": {
      "text/plain": [
       "Index(['대출금액', '연간소득', '부채_대비_소득_비율', '총계좌수', '최근_2년간_연체_횟수', '총상환원금', '총상환이자',\n",
       "       '총연체금액', '연체계좌수', '대출등급'],\n",
       "      dtype='object')"
      ]
     },
     "execution_count": 12,
     "metadata": {},
     "output_type": "execute_result"
    }
   ],
   "source": [
    "train_df.select_dtypes('number').columns"
   ]
  },
  {
   "cell_type": "code",
   "execution_count": 13,
   "id": "2759feb6",
   "metadata": {},
   "outputs": [
    {
     "data": {
      "text/plain": [
       "Index(['ID', '대출기간', '근로기간', '주택소유상태', '대출목적'], dtype='object')"
      ]
     },
     "execution_count": 13,
     "metadata": {},
     "output_type": "execute_result"
    }
   ],
   "source": [
    "train_df.select_dtypes('object').columns"
   ]
  },
  {
   "cell_type": "code",
   "execution_count": 14,
   "id": "56a0d611",
   "metadata": {},
   "outputs": [],
   "source": [
    "train_df['대출금액'] = np.log(train_df['대출금액']+1)\n",
    "train_df['연간소득'] = np.log(train_df['연간소득']+1)\n",
    "train_df['총상환원금'] = np.log(train_df['총상환원금']+1)\n",
    "train_df['총상환이자'] = np.log(train_df['총상환이자']+1)\n",
    "\n",
    "test_df['대출금액'] = np.log(test_df['대출금액']+1)\n",
    "test_df['연간소득'] = np.log(test_df['연간소득']+1)\n",
    "test_df['총상환원금'] = np.log(test_df['총상환원금']+1)\n",
    "test_df['총상환이자'] = np.log(test_df['총상환이자']+1)"
   ]
  },
  {
   "cell_type": "code",
   "execution_count": 15,
   "id": "b10a43aa",
   "metadata": {},
   "outputs": [],
   "source": [
    "num_col = ['대출금액', '연간소득', '부채_대비_소득_비율', '총계좌수', '최근_2년간_연체_횟수', '총상환원금', '총상환이자',\n",
    "       '총연체금액', '연체계좌수']\n",
    "\n",
    "cat_col = ['대출기간', '근로기간', '주택소유상태', '대출목적']"
   ]
  },
  {
   "cell_type": "code",
   "execution_count": 16,
   "id": "df745fef",
   "metadata": {},
   "outputs": [
    {
     "name": "stdout",
     "output_type": "stream",
     "text": [
      "(67405, 15)\n",
      "(28889, 15)\n"
     ]
    }
   ],
   "source": [
    "from sklearn.model_selection import train_test_split\n",
    "train,valid = train_test_split(train_df,test_size=0.3,random_state=1000,stratify=train_df['대출등급'])\n",
    "print(train.shape)\n",
    "print(valid.shape)"
   ]
  },
  {
   "cell_type": "code",
   "execution_count": 17,
   "id": "9d0a41e7",
   "metadata": {},
   "outputs": [],
   "source": [
    "from sklearn.preprocessing import StandardScaler\n",
    "scaler = StandardScaler()\n",
    "scaler.fit(train[num_col])\n",
    "train_scaled = scaler.transform(train[num_col])\n",
    "valid_scaled = scaler.transform(valid[num_col])\n",
    "test_scaled = scaler.transform(test_df[num_col])"
   ]
  },
  {
   "cell_type": "code",
   "execution_count": 18,
   "id": "b8401fed",
   "metadata": {},
   "outputs": [
    {
     "name": "stdout",
     "output_type": "stream",
     "text": [
      "(67405, 9)\n",
      "(28889, 9)\n",
      "(64197, 9)\n"
     ]
    }
   ],
   "source": [
    "train_scaled_df = pd.DataFrame(train_scaled,columns=train[num_col].columns)\n",
    "valid_scaled_df = pd.DataFrame(valid_scaled,columns=valid[num_col].columns)\n",
    "test_scaled_df = pd.DataFrame(test_scaled,columns=test_df[num_col].columns)\n",
    "print(train_scaled_df.shape)\n",
    "print(valid_scaled_df.shape)\n",
    "print(test_scaled_df.shape)"
   ]
  },
  {
   "cell_type": "code",
   "execution_count": 20,
   "id": "61e8b807",
   "metadata": {},
   "outputs": [
    {
     "name": "stderr",
     "output_type": "stream",
     "text": [
      "C:\\Users\\Owner\\anaconda3\\lib\\site-packages\\sklearn\\preprocessing\\_encoders.py:828: FutureWarning: `sparse` was renamed to `sparse_output` in version 1.2 and will be removed in 1.4. `sparse_output` is ignored unless you leave `sparse` to its default value.\n",
      "  warnings.warn(\n"
     ]
    }
   ],
   "source": [
    "from sklearn.preprocessing import OneHotEncoder\n",
    "encoder = OneHotEncoder(sparse=False,handle_unknown='ignore')\n",
    "encoder.fit(train[cat_col])\n",
    "train_encoded = encoder.transform(train[cat_col])\n",
    "valid_encoded = encoder.transform(valid[cat_col])\n",
    "test_encoded = encoder.transform(test_df[cat_col])"
   ]
  },
  {
   "cell_type": "code",
   "execution_count": 22,
   "id": "e94ac88c",
   "metadata": {},
   "outputs": [
    {
     "name": "stdout",
     "output_type": "stream",
     "text": [
      "(67405, 33)\n",
      "(28889, 33)\n",
      "(64197, 33)\n"
     ]
    }
   ],
   "source": [
    "train_encoded_df = pd.DataFrame(train_encoded,columns=encoder.get_feature_names_out())\n",
    "valid_encoded_df = pd.DataFrame(valid_encoded,columns=encoder.get_feature_names_out())\n",
    "test_encoded_df = pd.DataFrame(test_encoded,columns=encoder.get_feature_names_out())\n",
    "print(train_encoded_df.shape)\n",
    "print(valid_encoded_df.shape)\n",
    "print(test_encoded_df.shape)"
   ]
  },
  {
   "cell_type": "code",
   "execution_count": null,
   "id": "713cb2fb",
   "metadata": {},
   "outputs": [],
   "source": [
    "train_scaled_df = train_scaled_df.reset_index(drop=True)\n",
    "valid_scaled_df = valid_scaled_df.reset_index(drop=True)\n",
    "test_scaled_df = test_scaled_df.reset_index(drop=True)\n",
    "train_encoded_df = train_encoded_df.reset_index(drop=True)\n",
    "valid_encoded_df = valid_encoded_df.reset_index(drop=True)\n",
    "test_encoded_df = test_encoded_df.reset_index(drop=True)"
   ]
  },
  {
   "cell_type": "code",
   "execution_count": 23,
   "id": "ca95d6a6",
   "metadata": {},
   "outputs": [
    {
     "name": "stdout",
     "output_type": "stream",
     "text": [
      "(67405, 42)\n",
      "(28889, 42)\n",
      "(64197, 42)\n"
     ]
    }
   ],
   "source": [
    "x_train = np.concatenate([train_scaled,train_encoded],axis=1)\n",
    "x_valid = np.concatenate([valid_scaled,valid_encoded],axis=1)\n",
    "x_test = np.concatenate([test_scaled,test_encoded],axis=1)\n",
    "print(x_train.shape)\n",
    "print(x_valid.shape)\n",
    "print(x_test.shape)"
   ]
  },
  {
   "cell_type": "code",
   "execution_count": 24,
   "id": "e031c795",
   "metadata": {},
   "outputs": [],
   "source": [
    "y_train = np.array(train['대출등급']).reshape(-1,1)\n",
    "y_valid = np.array(valid['대출등급']).reshape(-1,1)"
   ]
  },
  {
   "cell_type": "code",
   "execution_count": 25,
   "id": "64a7b5d7",
   "metadata": {},
   "outputs": [
    {
     "name": "stdout",
     "output_type": "stream",
     "text": [
      "WARNING:tensorflow:From C:\\Users\\Owner\\anaconda3\\lib\\site-packages\\keras\\src\\losses.py:2976: The name tf.losses.sparse_softmax_cross_entropy is deprecated. Please use tf.compat.v1.losses.sparse_softmax_cross_entropy instead.\n",
      "\n",
      "WARNING:tensorflow:From C:\\Users\\Owner\\anaconda3\\lib\\site-packages\\keras\\src\\backend.py:873: The name tf.get_default_graph is deprecated. Please use tf.compat.v1.get_default_graph instead.\n",
      "\n"
     ]
    }
   ],
   "source": [
    "import tensorflow as tf\n",
    "from keras.models import Sequential\n",
    "from keras.layers import Dense,Dropout\n",
    "\n",
    "num_classes = len(num_to_label)\n",
    "model = Sequential()\n",
    "model.add(Dense(1024,activation='relu',input_shape=(42,)))\n",
    "model.add(Dropout(0.5))\n",
    "model.add(Dense(512,activation='relu',input_shape=(42,)))\n",
    "model.add(Dropout(0.5))\n",
    "model.add(Dense(256,activation='relu',input_shape=(42,)))\n",
    "model.add(Dropout(0.5))\n",
    "model.add(Dense(num_classes,activation='softmax'))"
   ]
  },
  {
   "cell_type": "code",
   "execution_count": null,
   "id": "4aeebedf",
   "metadata": {},
   "outputs": [],
   "source": [
    "from sklearn.metrics import f1_score\n",
    "\n",
    "def macro_f1_score(y_true,y_pred):\n",
    "    y_pred = np.argmax(y_pred,1)\n",
    "    f1_scores = []\n",
    "    for k in range(num_classes):\n",
    "        y_tr_k = (y_true==k)\n",
    "        y_pr_k = (y_pred==k)\n",
    "        f1_k = f1_score(y_tr_k,y_pr_k)\n",
    "        f1_scores.append(f1_k)\n",
    "    return np.mean(f1_scores)"
   ]
  },
  {
   "cell_type": "code",
   "execution_count": null,
   "id": "afa0f500",
   "metadata": {},
   "outputs": [],
   "source": [
    "def custom_metric(y_true,y_pred):\n",
    "    f1 = tf.py_function(func=macro_f1_score,inp=[y_true,y_pred],Tout=tf.float32]\n",
    "    return f1"
   ]
  },
  {
   "cell_type": "code",
   "execution_count": null,
   "id": "10184611",
   "metadata": {},
   "outputs": [],
   "source": [
    "model.compile(optimizer=tf.keras.optimizers.Adam(learning_rate=0.001),\n",
    "             loss=tf.keras.losses.SparseCategoricalCrossentropy(from_logits=False),\n",
    "             metrics=[tf.keras.metrics.SparseCategoricalAccuracy(),custom_metric])"
   ]
  },
  {
   "cell_type": "code",
   "execution_count": null,
   "id": "b67494ac",
   "metadata": {},
   "outputs": [],
   "source": [
    "val_pred = model.predict(x_valid)\n",
    "y_pred = np.argmax(val_pred,1)\n",
    "y_"
   ]
  },
  {
   "cell_type": "code",
   "execution_count": null,
   "id": "45f09285",
   "metadata": {},
   "outputs": [],
   "source": [
    "model.fit(x=x_train,\n",
    "          y=y_train,\n",
    "         batch_size=128,\n",
    "         epochs=10,\n",
    "         validation_data=(x_valid,y_valid))"
   ]
  },
  {
   "cell_type": "code",
   "execution_count": null,
   "id": "4b98919e",
   "metadata": {},
   "outputs": [],
   "source": [
    "pred = model.predict(x_test)\n",
    "sub['대출등급'] = pred\n",
    "sub.to_csv('5th_try.csv',index=False)\n",
    "pd.read_csv('5th_try.csv')"
   ]
  }
 ],
 "metadata": {
  "kernelspec": {
   "display_name": "Python 3 (ipykernel)",
   "language": "python",
   "name": "python3"
  },
  "language_info": {
   "codemirror_mode": {
    "name": "ipython",
    "version": 3
   },
   "file_extension": ".py",
   "mimetype": "text/x-python",
   "name": "python",
   "nbconvert_exporter": "python",
   "pygments_lexer": "ipython3",
   "version": "3.10.9"
  }
 },
 "nbformat": 4,
 "nbformat_minor": 5
}
