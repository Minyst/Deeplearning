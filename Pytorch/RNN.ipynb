{
  "nbformat": 4,
  "nbformat_minor": 0,
  "metadata": {
    "colab": {
      "provenance": [],
      "gpuType": "T4"
    },
    "kernelspec": {
      "name": "python3",
      "display_name": "Python 3"
    },
    "language_info": {
      "name": "python"
    },
    "accelerator": "GPU"
  },
  "cells": [
    {
      "cell_type": "markdown",
      "source": [
        "![KakaoTalk_20230803_163633393.png](data:image/png;base64,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)"
      ],
      "metadata": {
        "id": "nCpCBLDjGyK8"
      }
    },
    {
      "cell_type": "markdown",
      "source": [
        "<img src=\"https://upload.wikimedia.org/wikipedia/commons/9/96/Pytorch_logo.png?20211003060202\" height=\"100\">"
      ],
      "metadata": {
        "id": "DBnot-qmHuOy"
      }
    },
    {
      "cell_type": "code",
      "source": [
        "import torch"
      ],
      "metadata": {
        "id": "8To54sznUcPT"
      },
      "execution_count": null,
      "outputs": []
    },
    {
      "cell_type": "code",
      "source": [
        "torch.__version__"
      ],
      "metadata": {
        "colab": {
          "base_uri": "https://localhost:8080/",
          "height": 36
        },
        "id": "LWzKmXooGGOS",
        "outputId": "03783d2c-65ab-46a7-8266-d0f8c09e6ad4"
      },
      "execution_count": null,
      "outputs": [
        {
          "output_type": "execute_result",
          "data": {
            "text/plain": [
              "'2.3.0+cu121'"
            ],
            "application/vnd.google.colaboratory.intrinsic+json": {
              "type": "string"
            }
          },
          "metadata": {},
          "execution_count": 2
        }
      ]
    },
    {
      "cell_type": "markdown",
      "source": [
        "## RNN 기초 맛보기"
      ],
      "metadata": {
        "id": "EAwWy0L-Hi54"
      }
    },
    {
      "cell_type": "code",
      "source": [
        "import torch.nn as nn\n",
        "import torch.optim as optim"
      ],
      "metadata": {
        "id": "Cj8tO0BAGHb5"
      },
      "execution_count": null,
      "outputs": []
    },
    {
      "cell_type": "markdown",
      "source": [
        "- [batch사이즈, columns개수]\n",
        "- [batch사이즈, w, h]\n",
        "- [batch사이즈, w, h, 3]\n",
        "- [batch사이즈, seq, columns개수]"
      ],
      "metadata": {
        "id": "BdlSYTQIjf8S"
      }
    },
    {
      "cell_type": "code",
      "source": [
        "# RNN 모델 정의\n",
        "class SimpleRNN(nn.Module):\n",
        "    def __init__(self, input_size, hidden_size, output_size):\n",
        "        super(SimpleRNN, self).__init__()\n",
        "        self.hidden_size = hidden_size\n",
        "        self.rnn = nn.RNN(input_size, hidden_size, batch_first=True)\n",
        "        self.fc = nn.Linear(hidden_size, output_size)\n",
        "\n",
        "    def forward(self, x):\n",
        "        h0 = torch.zeros(1, x.size(0), self.hidden_size).to(x.device)\n",
        "        out, _ = self.rnn(x, h0)\n",
        "        out = self.fc(out[:, -1, :])\n",
        "        return out"
      ],
      "metadata": {
        "id": "biW5UNbeGJUy"
      },
      "execution_count": null,
      "outputs": []
    },
    {
      "cell_type": "code",
      "source": [
        "# 데이터 준비 (예: 시퀀스 예측을 위한 임의의 데이터 생성)\n",
        "input_size = 10\n",
        "sequence_length = 5\n",
        "\n",
        "batch_size = 3\n",
        "output_size = 1\n",
        "hidden_size = 20"
      ],
      "metadata": {
        "id": "vTdJQBChGK2D"
      },
      "execution_count": null,
      "outputs": []
    },
    {
      "cell_type": "code",
      "source": [
        "# 임의의 입력 데이터\n",
        "x = torch.randn(batch_size, sequence_length, input_size)\n",
        "y = torch.randn(batch_size, output_size)"
      ],
      "metadata": {
        "id": "UjecbzLXGMBj"
      },
      "execution_count": null,
      "outputs": []
    },
    {
      "cell_type": "code",
      "source": [
        "x.shape"
      ],
      "metadata": {
        "colab": {
          "base_uri": "https://localhost:8080/"
        },
        "id": "Zws3jhrYltT0",
        "outputId": "5ac56acf-7866-458c-8e46-0a6bc83583d2"
      },
      "execution_count": null,
      "outputs": [
        {
          "output_type": "execute_result",
          "data": {
            "text/plain": [
              "torch.Size([3, 5, 10])"
            ]
          },
          "metadata": {},
          "execution_count": 8
        }
      ]
    },
    {
      "cell_type": "code",
      "source": [
        "y.shape"
      ],
      "metadata": {
        "colab": {
          "base_uri": "https://localhost:8080/"
        },
        "id": "A8ZkC9XXluVL",
        "outputId": "c03bd2f5-4b3e-4b50-d4db-c055ea590ac9"
      },
      "execution_count": null,
      "outputs": [
        {
          "output_type": "execute_result",
          "data": {
            "text/plain": [
              "torch.Size([3, 1])"
            ]
          },
          "metadata": {},
          "execution_count": 9
        }
      ]
    },
    {
      "cell_type": "code",
      "source": [
        "# 모델, 손실 함수, 최적화기 정의\n",
        "model = SimpleRNN(input_size, hidden_size, output_size)\n",
        "criterion = nn.MSELoss()\n",
        "optimizer = optim.Adam(model.parameters(), lr=0.001)"
      ],
      "metadata": {
        "id": "nbzTaAE1GMgz"
      },
      "execution_count": null,
      "outputs": []
    },
    {
      "cell_type": "code",
      "source": [
        "# 학습 과정\n",
        "num_epochs = 2\n",
        "for epoch in range(num_epochs):\n",
        "    model.train()\n",
        "    outputs = model(x)\n",
        "    loss = criterion(outputs, y)\n",
        "\n",
        "    optimizer.zero_grad()\n",
        "    loss.backward()\n",
        "    optimizer.step()\n",
        "\n",
        "    if (epoch+1) % 10 == 0:\n",
        "        print(f'Epoch [{epoch+1}/{num_epochs}], Loss: {loss.item():.4f}')"
      ],
      "metadata": {
        "id": "5VRKjR3MGLZb"
      },
      "execution_count": null,
      "outputs": []
    },
    {
      "cell_type": "code",
      "source": [
        "# 모델 평가 (예: 예측)\n",
        "model.eval()\n",
        "with torch.no_grad():\n",
        "    test_input = torch.randn(batch_size, sequence_length, input_size)\n",
        "    test_output = model(test_input)\n",
        "    print(f'Predicted output: {test_output}')"
      ],
      "metadata": {
        "colab": {
          "base_uri": "https://localhost:8080/"
        },
        "id": "wvbeJqyEGJ66",
        "outputId": "af4f33c9-07c7-4a64-cf42-4034c5cdb62f"
      },
      "execution_count": null,
      "outputs": [
        {
          "output_type": "stream",
          "name": "stdout",
          "text": [
            "Predicted output: tensor([[ 0.0298],\n",
            "        [-0.2721],\n",
            "        [-0.2448]])\n"
          ]
        }
      ]
    },
    {
      "cell_type": "markdown",
      "source": [
        "---"
      ],
      "metadata": {
        "id": "zd_rSx9HGl1w"
      }
    },
    {
      "cell_type": "markdown",
      "source": [
        "## 삼성전자 주가 예측해보기"
      ],
      "metadata": {
        "id": "kmNYgpZvHBVX"
      }
    },
    {
      "cell_type": "code",
      "source": [
        "import pandas as pd"
      ],
      "metadata": {
        "id": "iXegvMDWHFQp"
      },
      "execution_count": null,
      "outputs": []
    },
    {
      "cell_type": "code",
      "source": [
        "data = pd.read_csv(\"/content/A005930.csv\", encoding='cp949')"
      ],
      "metadata": {
        "id": "2d4DDeCLGm3A"
      },
      "execution_count": null,
      "outputs": []
    },
    {
      "cell_type": "code",
      "source": [
        "data"
      ],
      "metadata": {
        "colab": {
          "base_uri": "https://localhost:8080/",
          "height": 423
        },
        "id": "lY_gnKUKHAfW",
        "outputId": "116627b2-9461-43a3-da2a-0cef8ed7e5fb"
      },
      "execution_count": null,
      "outputs": [
        {
          "output_type": "execute_result",
          "data": {
            "text/plain": [
              "             날짜  시간     시가     고가     저가     종가  전일대비       거래량\n",
              "0      19800104   0     42     43     41     41    13    528022\n",
              "1      19800105   0     40     42     40     42     1   1580051\n",
              "2      19800107   0     43     44     43     44     2   2425288\n",
              "3      19800108   0     47     47     45     47     2   5396669\n",
              "4      19800109   0     47     49     46     49     2   4993123\n",
              "...         ...  ..    ...    ...    ...    ...   ...       ...\n",
              "11834  20240527   0  75300  78200  74000  77200  1300  43825202\n",
              "11835  20240528   0  76500  78000  76200  77600   400  18539072\n",
              "11836  20240529   0  77700  78200  75200  75200 -2400  30244875\n",
              "11837  20240530   0  74800  75200  73500  73500 -1700  28551273\n",
              "11838  20240531   0  74500  74700  73500  73500     0  26198776\n",
              "\n",
              "[11839 rows x 8 columns]"
            ],
            "text/html": [
              "\n",
              "  <div id=\"df-9822cadb-de8e-4c38-afe1-2afa401a0f7b\" class=\"colab-df-container\">\n",
              "    <div>\n",
              "<style scoped>\n",
              "    .dataframe tbody tr th:only-of-type {\n",
              "        vertical-align: middle;\n",
              "    }\n",
              "\n",
              "    .dataframe tbody tr th {\n",
              "        vertical-align: top;\n",
              "    }\n",
              "\n",
              "    .dataframe thead th {\n",
              "        text-align: right;\n",
              "    }\n",
              "</style>\n",
              "<table border=\"1\" class=\"dataframe\">\n",
              "  <thead>\n",
              "    <tr style=\"text-align: right;\">\n",
              "      <th></th>\n",
              "      <th>날짜</th>\n",
              "      <th>시간</th>\n",
              "      <th>시가</th>\n",
              "      <th>고가</th>\n",
              "      <th>저가</th>\n",
              "      <th>종가</th>\n",
              "      <th>전일대비</th>\n",
              "      <th>거래량</th>\n",
              "    </tr>\n",
              "  </thead>\n",
              "  <tbody>\n",
              "    <tr>\n",
              "      <th>0</th>\n",
              "      <td>19800104</td>\n",
              "      <td>0</td>\n",
              "      <td>42</td>\n",
              "      <td>43</td>\n",
              "      <td>41</td>\n",
              "      <td>41</td>\n",
              "      <td>13</td>\n",
              "      <td>528022</td>\n",
              "    </tr>\n",
              "    <tr>\n",
              "      <th>1</th>\n",
              "      <td>19800105</td>\n",
              "      <td>0</td>\n",
              "      <td>40</td>\n",
              "      <td>42</td>\n",
              "      <td>40</td>\n",
              "      <td>42</td>\n",
              "      <td>1</td>\n",
              "      <td>1580051</td>\n",
              "    </tr>\n",
              "    <tr>\n",
              "      <th>2</th>\n",
              "      <td>19800107</td>\n",
              "      <td>0</td>\n",
              "      <td>43</td>\n",
              "      <td>44</td>\n",
              "      <td>43</td>\n",
              "      <td>44</td>\n",
              "      <td>2</td>\n",
              "      <td>2425288</td>\n",
              "    </tr>\n",
              "    <tr>\n",
              "      <th>3</th>\n",
              "      <td>19800108</td>\n",
              "      <td>0</td>\n",
              "      <td>47</td>\n",
              "      <td>47</td>\n",
              "      <td>45</td>\n",
              "      <td>47</td>\n",
              "      <td>2</td>\n",
              "      <td>5396669</td>\n",
              "    </tr>\n",
              "    <tr>\n",
              "      <th>4</th>\n",
              "      <td>19800109</td>\n",
              "      <td>0</td>\n",
              "      <td>47</td>\n",
              "      <td>49</td>\n",
              "      <td>46</td>\n",
              "      <td>49</td>\n",
              "      <td>2</td>\n",
              "      <td>4993123</td>\n",
              "    </tr>\n",
              "    <tr>\n",
              "      <th>...</th>\n",
              "      <td>...</td>\n",
              "      <td>...</td>\n",
              "      <td>...</td>\n",
              "      <td>...</td>\n",
              "      <td>...</td>\n",
              "      <td>...</td>\n",
              "      <td>...</td>\n",
              "      <td>...</td>\n",
              "    </tr>\n",
              "    <tr>\n",
              "      <th>11834</th>\n",
              "      <td>20240527</td>\n",
              "      <td>0</td>\n",
              "      <td>75300</td>\n",
              "      <td>78200</td>\n",
              "      <td>74000</td>\n",
              "      <td>77200</td>\n",
              "      <td>1300</td>\n",
              "      <td>43825202</td>\n",
              "    </tr>\n",
              "    <tr>\n",
              "      <th>11835</th>\n",
              "      <td>20240528</td>\n",
              "      <td>0</td>\n",
              "      <td>76500</td>\n",
              "      <td>78000</td>\n",
              "      <td>76200</td>\n",
              "      <td>77600</td>\n",
              "      <td>400</td>\n",
              "      <td>18539072</td>\n",
              "    </tr>\n",
              "    <tr>\n",
              "      <th>11836</th>\n",
              "      <td>20240529</td>\n",
              "      <td>0</td>\n",
              "      <td>77700</td>\n",
              "      <td>78200</td>\n",
              "      <td>75200</td>\n",
              "      <td>75200</td>\n",
              "      <td>-2400</td>\n",
              "      <td>30244875</td>\n",
              "    </tr>\n",
              "    <tr>\n",
              "      <th>11837</th>\n",
              "      <td>20240530</td>\n",
              "      <td>0</td>\n",
              "      <td>74800</td>\n",
              "      <td>75200</td>\n",
              "      <td>73500</td>\n",
              "      <td>73500</td>\n",
              "      <td>-1700</td>\n",
              "      <td>28551273</td>\n",
              "    </tr>\n",
              "    <tr>\n",
              "      <th>11838</th>\n",
              "      <td>20240531</td>\n",
              "      <td>0</td>\n",
              "      <td>74500</td>\n",
              "      <td>74700</td>\n",
              "      <td>73500</td>\n",
              "      <td>73500</td>\n",
              "      <td>0</td>\n",
              "      <td>26198776</td>\n",
              "    </tr>\n",
              "  </tbody>\n",
              "</table>\n",
              "<p>11839 rows × 8 columns</p>\n",
              "</div>\n",
              "    <div class=\"colab-df-buttons\">\n",
              "\n",
              "  <div class=\"colab-df-container\">\n",
              "    <button class=\"colab-df-convert\" onclick=\"convertToInteractive('df-9822cadb-de8e-4c38-afe1-2afa401a0f7b')\"\n",
              "            title=\"Convert this dataframe to an interactive table.\"\n",
              "            style=\"display:none;\">\n",
              "\n",
              "  <svg xmlns=\"http://www.w3.org/2000/svg\" height=\"24px\" viewBox=\"0 -960 960 960\">\n",
              "    <path d=\"M120-120v-720h720v720H120Zm60-500h600v-160H180v160Zm220 220h160v-160H400v160Zm0 220h160v-160H400v160ZM180-400h160v-160H180v160Zm440 0h160v-160H620v160ZM180-180h160v-160H180v160Zm440 0h160v-160H620v160Z\"/>\n",
              "  </svg>\n",
              "    </button>\n",
              "\n",
              "  <style>\n",
              "    .colab-df-container {\n",
              "      display:flex;\n",
              "      gap: 12px;\n",
              "    }\n",
              "\n",
              "    .colab-df-convert {\n",
              "      background-color: #E8F0FE;\n",
              "      border: none;\n",
              "      border-radius: 50%;\n",
              "      cursor: pointer;\n",
              "      display: none;\n",
              "      fill: #1967D2;\n",
              "      height: 32px;\n",
              "      padding: 0 0 0 0;\n",
              "      width: 32px;\n",
              "    }\n",
              "\n",
              "    .colab-df-convert:hover {\n",
              "      background-color: #E2EBFA;\n",
              "      box-shadow: 0px 1px 2px rgba(60, 64, 67, 0.3), 0px 1px 3px 1px rgba(60, 64, 67, 0.15);\n",
              "      fill: #174EA6;\n",
              "    }\n",
              "\n",
              "    .colab-df-buttons div {\n",
              "      margin-bottom: 4px;\n",
              "    }\n",
              "\n",
              "    [theme=dark] .colab-df-convert {\n",
              "      background-color: #3B4455;\n",
              "      fill: #D2E3FC;\n",
              "    }\n",
              "\n",
              "    [theme=dark] .colab-df-convert:hover {\n",
              "      background-color: #434B5C;\n",
              "      box-shadow: 0px 1px 3px 1px rgba(0, 0, 0, 0.15);\n",
              "      filter: drop-shadow(0px 1px 2px rgba(0, 0, 0, 0.3));\n",
              "      fill: #FFFFFF;\n",
              "    }\n",
              "  </style>\n",
              "\n",
              "    <script>\n",
              "      const buttonEl =\n",
              "        document.querySelector('#df-9822cadb-de8e-4c38-afe1-2afa401a0f7b button.colab-df-convert');\n",
              "      buttonEl.style.display =\n",
              "        google.colab.kernel.accessAllowed ? 'block' : 'none';\n",
              "\n",
              "      async function convertToInteractive(key) {\n",
              "        const element = document.querySelector('#df-9822cadb-de8e-4c38-afe1-2afa401a0f7b');\n",
              "        const dataTable =\n",
              "          await google.colab.kernel.invokeFunction('convertToInteractive',\n",
              "                                                    [key], {});\n",
              "        if (!dataTable) return;\n",
              "\n",
              "        const docLinkHtml = 'Like what you see? Visit the ' +\n",
              "          '<a target=\"_blank\" href=https://colab.research.google.com/notebooks/data_table.ipynb>data table notebook</a>'\n",
              "          + ' to learn more about interactive tables.';\n",
              "        element.innerHTML = '';\n",
              "        dataTable['output_type'] = 'display_data';\n",
              "        await google.colab.output.renderOutput(dataTable, element);\n",
              "        const docLink = document.createElement('div');\n",
              "        docLink.innerHTML = docLinkHtml;\n",
              "        element.appendChild(docLink);\n",
              "      }\n",
              "    </script>\n",
              "  </div>\n",
              "\n",
              "\n",
              "<div id=\"df-dda58ced-7e9c-48dd-ac8b-471b25ff4b01\">\n",
              "  <button class=\"colab-df-quickchart\" onclick=\"quickchart('df-dda58ced-7e9c-48dd-ac8b-471b25ff4b01')\"\n",
              "            title=\"Suggest charts\"\n",
              "            style=\"display:none;\">\n",
              "\n",
              "<svg xmlns=\"http://www.w3.org/2000/svg\" height=\"24px\"viewBox=\"0 0 24 24\"\n",
              "     width=\"24px\">\n",
              "    <g>\n",
              "        <path d=\"M19 3H5c-1.1 0-2 .9-2 2v14c0 1.1.9 2 2 2h14c1.1 0 2-.9 2-2V5c0-1.1-.9-2-2-2zM9 17H7v-7h2v7zm4 0h-2V7h2v10zm4 0h-2v-4h2v4z\"/>\n",
              "    </g>\n",
              "</svg>\n",
              "  </button>\n",
              "\n",
              "<style>\n",
              "  .colab-df-quickchart {\n",
              "      --bg-color: #E8F0FE;\n",
              "      --fill-color: #1967D2;\n",
              "      --hover-bg-color: #E2EBFA;\n",
              "      --hover-fill-color: #174EA6;\n",
              "      --disabled-fill-color: #AAA;\n",
              "      --disabled-bg-color: #DDD;\n",
              "  }\n",
              "\n",
              "  [theme=dark] .colab-df-quickchart {\n",
              "      --bg-color: #3B4455;\n",
              "      --fill-color: #D2E3FC;\n",
              "      --hover-bg-color: #434B5C;\n",
              "      --hover-fill-color: #FFFFFF;\n",
              "      --disabled-bg-color: #3B4455;\n",
              "      --disabled-fill-color: #666;\n",
              "  }\n",
              "\n",
              "  .colab-df-quickchart {\n",
              "    background-color: var(--bg-color);\n",
              "    border: none;\n",
              "    border-radius: 50%;\n",
              "    cursor: pointer;\n",
              "    display: none;\n",
              "    fill: var(--fill-color);\n",
              "    height: 32px;\n",
              "    padding: 0;\n",
              "    width: 32px;\n",
              "  }\n",
              "\n",
              "  .colab-df-quickchart:hover {\n",
              "    background-color: var(--hover-bg-color);\n",
              "    box-shadow: 0 1px 2px rgba(60, 64, 67, 0.3), 0 1px 3px 1px rgba(60, 64, 67, 0.15);\n",
              "    fill: var(--button-hover-fill-color);\n",
              "  }\n",
              "\n",
              "  .colab-df-quickchart-complete:disabled,\n",
              "  .colab-df-quickchart-complete:disabled:hover {\n",
              "    background-color: var(--disabled-bg-color);\n",
              "    fill: var(--disabled-fill-color);\n",
              "    box-shadow: none;\n",
              "  }\n",
              "\n",
              "  .colab-df-spinner {\n",
              "    border: 2px solid var(--fill-color);\n",
              "    border-color: transparent;\n",
              "    border-bottom-color: var(--fill-color);\n",
              "    animation:\n",
              "      spin 1s steps(1) infinite;\n",
              "  }\n",
              "\n",
              "  @keyframes spin {\n",
              "    0% {\n",
              "      border-color: transparent;\n",
              "      border-bottom-color: var(--fill-color);\n",
              "      border-left-color: var(--fill-color);\n",
              "    }\n",
              "    20% {\n",
              "      border-color: transparent;\n",
              "      border-left-color: var(--fill-color);\n",
              "      border-top-color: var(--fill-color);\n",
              "    }\n",
              "    30% {\n",
              "      border-color: transparent;\n",
              "      border-left-color: var(--fill-color);\n",
              "      border-top-color: var(--fill-color);\n",
              "      border-right-color: var(--fill-color);\n",
              "    }\n",
              "    40% {\n",
              "      border-color: transparent;\n",
              "      border-right-color: var(--fill-color);\n",
              "      border-top-color: var(--fill-color);\n",
              "    }\n",
              "    60% {\n",
              "      border-color: transparent;\n",
              "      border-right-color: var(--fill-color);\n",
              "    }\n",
              "    80% {\n",
              "      border-color: transparent;\n",
              "      border-right-color: var(--fill-color);\n",
              "      border-bottom-color: var(--fill-color);\n",
              "    }\n",
              "    90% {\n",
              "      border-color: transparent;\n",
              "      border-bottom-color: var(--fill-color);\n",
              "    }\n",
              "  }\n",
              "</style>\n",
              "\n",
              "  <script>\n",
              "    async function quickchart(key) {\n",
              "      const quickchartButtonEl =\n",
              "        document.querySelector('#' + key + ' button');\n",
              "      quickchartButtonEl.disabled = true;  // To prevent multiple clicks.\n",
              "      quickchartButtonEl.classList.add('colab-df-spinner');\n",
              "      try {\n",
              "        const charts = await google.colab.kernel.invokeFunction(\n",
              "            'suggestCharts', [key], {});\n",
              "      } catch (error) {\n",
              "        console.error('Error during call to suggestCharts:', error);\n",
              "      }\n",
              "      quickchartButtonEl.classList.remove('colab-df-spinner');\n",
              "      quickchartButtonEl.classList.add('colab-df-quickchart-complete');\n",
              "    }\n",
              "    (() => {\n",
              "      let quickchartButtonEl =\n",
              "        document.querySelector('#df-dda58ced-7e9c-48dd-ac8b-471b25ff4b01 button');\n",
              "      quickchartButtonEl.style.display =\n",
              "        google.colab.kernel.accessAllowed ? 'block' : 'none';\n",
              "    })();\n",
              "  </script>\n",
              "</div>\n",
              "    </div>\n",
              "  </div>\n"
            ],
            "application/vnd.google.colaboratory.intrinsic+json": {
              "type": "dataframe",
              "variable_name": "data",
              "summary": "{\n  \"name\": \"data\",\n  \"rows\": 11839,\n  \"fields\": [\n    {\n      \"column\": \"\\ub0a0\\uc9dc\",\n      \"properties\": {\n        \"dtype\": \"number\",\n        \"std\": 128594,\n        \"min\": 19800104,\n        \"max\": 20240531,\n        \"num_unique_values\": 11839,\n        \"samples\": [\n          20131217,\n          19830129,\n          19930430\n        ],\n        \"semantic_type\": \"\",\n        \"description\": \"\"\n      }\n    },\n    {\n      \"column\": \"\\uc2dc\\uac04\",\n      \"properties\": {\n        \"dtype\": \"number\",\n        \"std\": 0,\n        \"min\": 0,\n        \"max\": 0,\n        \"num_unique_values\": 1,\n        \"samples\": [\n          0\n        ],\n        \"semantic_type\": \"\",\n        \"description\": \"\"\n      }\n    },\n    {\n      \"column\": \"\\uc2dc\\uac00\",\n      \"properties\": {\n        \"dtype\": \"number\",\n        \"std\": 21372,\n        \"min\": 32,\n        \"max\": 90300,\n        \"num_unique_values\": 3351,\n        \"samples\": [\n          1702\n        ],\n        \"semantic_type\": \"\",\n        \"description\": \"\"\n      }\n    },\n    {\n      \"column\": \"\\uace0\\uac00\",\n      \"properties\": {\n        \"dtype\": \"number\",\n        \"std\": 21554,\n        \"min\": 33,\n        \"max\": 96800,\n        \"num_unique_values\": 3471,\n        \"samples\": [\n          7080\n        ],\n        \"semantic_type\": \"\",\n        \"description\": \"\"\n      }\n    },\n    {\n      \"column\": \"\\uc800\\uac00\",\n      \"properties\": {\n        \"dtype\": \"number\",\n        \"std\": 21173,\n        \"min\": 32,\n        \"max\": 89500,\n        \"num_unique_values\": 3507,\n        \"samples\": [\n          46250\n        ],\n        \"semantic_type\": \"\",\n        \"description\": \"\"\n      }\n    },\n    {\n      \"column\": \"\\uc885\\uac00\",\n      \"properties\": {\n        \"dtype\": \"number\",\n        \"std\": 21356,\n        \"min\": 32,\n        \"max\": 91000,\n        \"num_unique_values\": 3460,\n        \"samples\": [\n          1083\n        ],\n        \"semantic_type\": \"\",\n        \"description\": \"\"\n      }\n    },\n    {\n      \"column\": \"\\uc804\\uc77c\\ub300\\ube44\",\n      \"properties\": {\n        \"dtype\": \"number\",\n        \"std\": 410,\n        \"min\": -3000,\n        \"max\": 5900,\n        \"num_unique_values\": 382,\n        \"samples\": [\n          -1260\n        ],\n        \"semantic_type\": \"\",\n        \"description\": \"\"\n      }\n    },\n    {\n      \"column\": \"\\uac70\\ub798\\ub7c9\",\n      \"properties\": {\n        \"dtype\": \"number\",\n        \"std\": 16210665,\n        \"min\": 0,\n        \"max\": 341025009,\n        \"num_unique_values\": 11552,\n        \"samples\": [\n          12360674\n        ],\n        \"semantic_type\": \"\",\n        \"description\": \"\"\n      }\n    }\n  ]\n}"
            }
          },
          "metadata": {},
          "execution_count": 17
        }
      ]
    },
    {
      "cell_type": "code",
      "source": [
        "import numpy as np\n",
        "import torch\n",
        "import torch.nn as nn\n",
        "import torch.optim as optim\n",
        "from sklearn.preprocessing import MinMaxScaler\n",
        "from sklearn.model_selection import train_test_split\n",
        "import matplotlib.pyplot as plt"
      ],
      "metadata": {
        "id": "1-PR2m8iHJzb"
      },
      "execution_count": null,
      "outputs": []
    },
    {
      "cell_type": "code",
      "source": [
        "# 필요한 데이터 추출 및 전처리\n",
        "data = data[['날짜', '종가']]\n",
        "data['날짜'] = pd.to_datetime(data['날짜'], format='%Y%m%d')\n",
        "data.set_index('날짜', inplace=True)"
      ],
      "metadata": {
        "colab": {
          "base_uri": "https://localhost:8080/"
        },
        "id": "oR_w9hrLHHwZ",
        "outputId": "afb2e289-0363-480f-a546-f6bef23b2f61"
      },
      "execution_count": null,
      "outputs": [
        {
          "output_type": "stream",
          "name": "stderr",
          "text": [
            "<ipython-input-19-733c06232995>:3: SettingWithCopyWarning: \n",
            "A value is trying to be set on a copy of a slice from a DataFrame.\n",
            "Try using .loc[row_indexer,col_indexer] = value instead\n",
            "\n",
            "See the caveats in the documentation: https://pandas.pydata.org/pandas-docs/stable/user_guide/indexing.html#returning-a-view-versus-a-copy\n",
            "  data['날짜'] = pd.to_datetime(data['날짜'], format='%Y%m%d')\n"
          ]
        }
      ]
    },
    {
      "cell_type": "code",
      "source": [
        "train_data = data[data.index < '2024-01-01']\n",
        "test_data = data[data.index >= '2024-01-01']"
      ],
      "metadata": {
        "id": "zllIlkBlH9s2"
      },
      "execution_count": null,
      "outputs": []
    },
    {
      "cell_type": "code",
      "source": [
        "# 종가 데이터 정규화\n",
        "scaler = MinMaxScaler()\n",
        "train_data['종가'] = scaler.fit_transform(train_data[['종가']])\n",
        "test_data['종가'] = scaler.transform(test_data[['종가']])"
      ],
      "metadata": {
        "colab": {
          "base_uri": "https://localhost:8080/"
        },
        "id": "9XS2WEylHKsb",
        "outputId": "142860dc-77e9-4bb2-9859-2533fce79f48"
      },
      "execution_count": null,
      "outputs": [
        {
          "output_type": "stream",
          "name": "stderr",
          "text": [
            "<ipython-input-21-1884c12f52f5>:3: SettingWithCopyWarning: \n",
            "A value is trying to be set on a copy of a slice from a DataFrame.\n",
            "Try using .loc[row_indexer,col_indexer] = value instead\n",
            "\n",
            "See the caveats in the documentation: https://pandas.pydata.org/pandas-docs/stable/user_guide/indexing.html#returning-a-view-versus-a-copy\n",
            "  train_data['종가'] = scaler.fit_transform(train_data[['종가']])\n",
            "<ipython-input-21-1884c12f52f5>:4: SettingWithCopyWarning: \n",
            "A value is trying to be set on a copy of a slice from a DataFrame.\n",
            "Try using .loc[row_indexer,col_indexer] = value instead\n",
            "\n",
            "See the caveats in the documentation: https://pandas.pydata.org/pandas-docs/stable/user_guide/indexing.html#returning-a-view-versus-a-copy\n",
            "  test_data['종가'] = scaler.transform(test_data[['종가']])\n"
          ]
        }
      ]
    },
    {
      "cell_type": "code",
      "source": [
        "train_data"
      ],
      "metadata": {
        "colab": {
          "base_uri": "https://localhost:8080/",
          "height": 455
        },
        "id": "WujUbIsTIOOu",
        "outputId": "29addd5c-99d6-4944-ef21-cf5d4726ff12"
      },
      "execution_count": null,
      "outputs": [
        {
          "output_type": "execute_result",
          "data": {
            "text/plain": [
              "                  종가\n",
              "날짜                  \n",
              "1980-01-04  0.000099\n",
              "1980-01-05  0.000110\n",
              "1980-01-07  0.000132\n",
              "1980-01-08  0.000165\n",
              "1980-01-09  0.000187\n",
              "...              ...\n",
              "2023-12-21  0.824114\n",
              "2023-12-22  0.834008\n",
              "2023-12-26  0.841703\n",
              "2023-12-27  0.857093\n",
              "2023-12-28  0.862589\n",
              "\n",
              "[11737 rows x 1 columns]"
            ],
            "text/html": [
              "\n",
              "  <div id=\"df-0d050e98-5119-4607-a716-e36a803374dd\" class=\"colab-df-container\">\n",
              "    <div>\n",
              "<style scoped>\n",
              "    .dataframe tbody tr th:only-of-type {\n",
              "        vertical-align: middle;\n",
              "    }\n",
              "\n",
              "    .dataframe tbody tr th {\n",
              "        vertical-align: top;\n",
              "    }\n",
              "\n",
              "    .dataframe thead th {\n",
              "        text-align: right;\n",
              "    }\n",
              "</style>\n",
              "<table border=\"1\" class=\"dataframe\">\n",
              "  <thead>\n",
              "    <tr style=\"text-align: right;\">\n",
              "      <th></th>\n",
              "      <th>종가</th>\n",
              "    </tr>\n",
              "    <tr>\n",
              "      <th>날짜</th>\n",
              "      <th></th>\n",
              "    </tr>\n",
              "  </thead>\n",
              "  <tbody>\n",
              "    <tr>\n",
              "      <th>1980-01-04</th>\n",
              "      <td>0.000099</td>\n",
              "    </tr>\n",
              "    <tr>\n",
              "      <th>1980-01-05</th>\n",
              "      <td>0.000110</td>\n",
              "    </tr>\n",
              "    <tr>\n",
              "      <th>1980-01-07</th>\n",
              "      <td>0.000132</td>\n",
              "    </tr>\n",
              "    <tr>\n",
              "      <th>1980-01-08</th>\n",
              "      <td>0.000165</td>\n",
              "    </tr>\n",
              "    <tr>\n",
              "      <th>1980-01-09</th>\n",
              "      <td>0.000187</td>\n",
              "    </tr>\n",
              "    <tr>\n",
              "      <th>...</th>\n",
              "      <td>...</td>\n",
              "    </tr>\n",
              "    <tr>\n",
              "      <th>2023-12-21</th>\n",
              "      <td>0.824114</td>\n",
              "    </tr>\n",
              "    <tr>\n",
              "      <th>2023-12-22</th>\n",
              "      <td>0.834008</td>\n",
              "    </tr>\n",
              "    <tr>\n",
              "      <th>2023-12-26</th>\n",
              "      <td>0.841703</td>\n",
              "    </tr>\n",
              "    <tr>\n",
              "      <th>2023-12-27</th>\n",
              "      <td>0.857093</td>\n",
              "    </tr>\n",
              "    <tr>\n",
              "      <th>2023-12-28</th>\n",
              "      <td>0.862589</td>\n",
              "    </tr>\n",
              "  </tbody>\n",
              "</table>\n",
              "<p>11737 rows × 1 columns</p>\n",
              "</div>\n",
              "    <div class=\"colab-df-buttons\">\n",
              "\n",
              "  <div class=\"colab-df-container\">\n",
              "    <button class=\"colab-df-convert\" onclick=\"convertToInteractive('df-0d050e98-5119-4607-a716-e36a803374dd')\"\n",
              "            title=\"Convert this dataframe to an interactive table.\"\n",
              "            style=\"display:none;\">\n",
              "\n",
              "  <svg xmlns=\"http://www.w3.org/2000/svg\" height=\"24px\" viewBox=\"0 -960 960 960\">\n",
              "    <path d=\"M120-120v-720h720v720H120Zm60-500h600v-160H180v160Zm220 220h160v-160H400v160Zm0 220h160v-160H400v160ZM180-400h160v-160H180v160Zm440 0h160v-160H620v160ZM180-180h160v-160H180v160Zm440 0h160v-160H620v160Z\"/>\n",
              "  </svg>\n",
              "    </button>\n",
              "\n",
              "  <style>\n",
              "    .colab-df-container {\n",
              "      display:flex;\n",
              "      gap: 12px;\n",
              "    }\n",
              "\n",
              "    .colab-df-convert {\n",
              "      background-color: #E8F0FE;\n",
              "      border: none;\n",
              "      border-radius: 50%;\n",
              "      cursor: pointer;\n",
              "      display: none;\n",
              "      fill: #1967D2;\n",
              "      height: 32px;\n",
              "      padding: 0 0 0 0;\n",
              "      width: 32px;\n",
              "    }\n",
              "\n",
              "    .colab-df-convert:hover {\n",
              "      background-color: #E2EBFA;\n",
              "      box-shadow: 0px 1px 2px rgba(60, 64, 67, 0.3), 0px 1px 3px 1px rgba(60, 64, 67, 0.15);\n",
              "      fill: #174EA6;\n",
              "    }\n",
              "\n",
              "    .colab-df-buttons div {\n",
              "      margin-bottom: 4px;\n",
              "    }\n",
              "\n",
              "    [theme=dark] .colab-df-convert {\n",
              "      background-color: #3B4455;\n",
              "      fill: #D2E3FC;\n",
              "    }\n",
              "\n",
              "    [theme=dark] .colab-df-convert:hover {\n",
              "      background-color: #434B5C;\n",
              "      box-shadow: 0px 1px 3px 1px rgba(0, 0, 0, 0.15);\n",
              "      filter: drop-shadow(0px 1px 2px rgba(0, 0, 0, 0.3));\n",
              "      fill: #FFFFFF;\n",
              "    }\n",
              "  </style>\n",
              "\n",
              "    <script>\n",
              "      const buttonEl =\n",
              "        document.querySelector('#df-0d050e98-5119-4607-a716-e36a803374dd button.colab-df-convert');\n",
              "      buttonEl.style.display =\n",
              "        google.colab.kernel.accessAllowed ? 'block' : 'none';\n",
              "\n",
              "      async function convertToInteractive(key) {\n",
              "        const element = document.querySelector('#df-0d050e98-5119-4607-a716-e36a803374dd');\n",
              "        const dataTable =\n",
              "          await google.colab.kernel.invokeFunction('convertToInteractive',\n",
              "                                                    [key], {});\n",
              "        if (!dataTable) return;\n",
              "\n",
              "        const docLinkHtml = 'Like what you see? Visit the ' +\n",
              "          '<a target=\"_blank\" href=https://colab.research.google.com/notebooks/data_table.ipynb>data table notebook</a>'\n",
              "          + ' to learn more about interactive tables.';\n",
              "        element.innerHTML = '';\n",
              "        dataTable['output_type'] = 'display_data';\n",
              "        await google.colab.output.renderOutput(dataTable, element);\n",
              "        const docLink = document.createElement('div');\n",
              "        docLink.innerHTML = docLinkHtml;\n",
              "        element.appendChild(docLink);\n",
              "      }\n",
              "    </script>\n",
              "  </div>\n",
              "\n",
              "\n",
              "<div id=\"df-d8d81c2f-2e34-4cd6-b9fb-5bade2d70630\">\n",
              "  <button class=\"colab-df-quickchart\" onclick=\"quickchart('df-d8d81c2f-2e34-4cd6-b9fb-5bade2d70630')\"\n",
              "            title=\"Suggest charts\"\n",
              "            style=\"display:none;\">\n",
              "\n",
              "<svg xmlns=\"http://www.w3.org/2000/svg\" height=\"24px\"viewBox=\"0 0 24 24\"\n",
              "     width=\"24px\">\n",
              "    <g>\n",
              "        <path d=\"M19 3H5c-1.1 0-2 .9-2 2v14c0 1.1.9 2 2 2h14c1.1 0 2-.9 2-2V5c0-1.1-.9-2-2-2zM9 17H7v-7h2v7zm4 0h-2V7h2v10zm4 0h-2v-4h2v4z\"/>\n",
              "    </g>\n",
              "</svg>\n",
              "  </button>\n",
              "\n",
              "<style>\n",
              "  .colab-df-quickchart {\n",
              "      --bg-color: #E8F0FE;\n",
              "      --fill-color: #1967D2;\n",
              "      --hover-bg-color: #E2EBFA;\n",
              "      --hover-fill-color: #174EA6;\n",
              "      --disabled-fill-color: #AAA;\n",
              "      --disabled-bg-color: #DDD;\n",
              "  }\n",
              "\n",
              "  [theme=dark] .colab-df-quickchart {\n",
              "      --bg-color: #3B4455;\n",
              "      --fill-color: #D2E3FC;\n",
              "      --hover-bg-color: #434B5C;\n",
              "      --hover-fill-color: #FFFFFF;\n",
              "      --disabled-bg-color: #3B4455;\n",
              "      --disabled-fill-color: #666;\n",
              "  }\n",
              "\n",
              "  .colab-df-quickchart {\n",
              "    background-color: var(--bg-color);\n",
              "    border: none;\n",
              "    border-radius: 50%;\n",
              "    cursor: pointer;\n",
              "    display: none;\n",
              "    fill: var(--fill-color);\n",
              "    height: 32px;\n",
              "    padding: 0;\n",
              "    width: 32px;\n",
              "  }\n",
              "\n",
              "  .colab-df-quickchart:hover {\n",
              "    background-color: var(--hover-bg-color);\n",
              "    box-shadow: 0 1px 2px rgba(60, 64, 67, 0.3), 0 1px 3px 1px rgba(60, 64, 67, 0.15);\n",
              "    fill: var(--button-hover-fill-color);\n",
              "  }\n",
              "\n",
              "  .colab-df-quickchart-complete:disabled,\n",
              "  .colab-df-quickchart-complete:disabled:hover {\n",
              "    background-color: var(--disabled-bg-color);\n",
              "    fill: var(--disabled-fill-color);\n",
              "    box-shadow: none;\n",
              "  }\n",
              "\n",
              "  .colab-df-spinner {\n",
              "    border: 2px solid var(--fill-color);\n",
              "    border-color: transparent;\n",
              "    border-bottom-color: var(--fill-color);\n",
              "    animation:\n",
              "      spin 1s steps(1) infinite;\n",
              "  }\n",
              "\n",
              "  @keyframes spin {\n",
              "    0% {\n",
              "      border-color: transparent;\n",
              "      border-bottom-color: var(--fill-color);\n",
              "      border-left-color: var(--fill-color);\n",
              "    }\n",
              "    20% {\n",
              "      border-color: transparent;\n",
              "      border-left-color: var(--fill-color);\n",
              "      border-top-color: var(--fill-color);\n",
              "    }\n",
              "    30% {\n",
              "      border-color: transparent;\n",
              "      border-left-color: var(--fill-color);\n",
              "      border-top-color: var(--fill-color);\n",
              "      border-right-color: var(--fill-color);\n",
              "    }\n",
              "    40% {\n",
              "      border-color: transparent;\n",
              "      border-right-color: var(--fill-color);\n",
              "      border-top-color: var(--fill-color);\n",
              "    }\n",
              "    60% {\n",
              "      border-color: transparent;\n",
              "      border-right-color: var(--fill-color);\n",
              "    }\n",
              "    80% {\n",
              "      border-color: transparent;\n",
              "      border-right-color: var(--fill-color);\n",
              "      border-bottom-color: var(--fill-color);\n",
              "    }\n",
              "    90% {\n",
              "      border-color: transparent;\n",
              "      border-bottom-color: var(--fill-color);\n",
              "    }\n",
              "  }\n",
              "</style>\n",
              "\n",
              "  <script>\n",
              "    async function quickchart(key) {\n",
              "      const quickchartButtonEl =\n",
              "        document.querySelector('#' + key + ' button');\n",
              "      quickchartButtonEl.disabled = true;  // To prevent multiple clicks.\n",
              "      quickchartButtonEl.classList.add('colab-df-spinner');\n",
              "      try {\n",
              "        const charts = await google.colab.kernel.invokeFunction(\n",
              "            'suggestCharts', [key], {});\n",
              "      } catch (error) {\n",
              "        console.error('Error during call to suggestCharts:', error);\n",
              "      }\n",
              "      quickchartButtonEl.classList.remove('colab-df-spinner');\n",
              "      quickchartButtonEl.classList.add('colab-df-quickchart-complete');\n",
              "    }\n",
              "    (() => {\n",
              "      let quickchartButtonEl =\n",
              "        document.querySelector('#df-d8d81c2f-2e34-4cd6-b9fb-5bade2d70630 button');\n",
              "      quickchartButtonEl.style.display =\n",
              "        google.colab.kernel.accessAllowed ? 'block' : 'none';\n",
              "    })();\n",
              "  </script>\n",
              "</div>\n",
              "    </div>\n",
              "  </div>\n"
            ],
            "application/vnd.google.colaboratory.intrinsic+json": {
              "type": "dataframe",
              "variable_name": "train_data",
              "summary": "{\n  \"name\": \"train_data\",\n  \"rows\": 11737,\n  \"fields\": [\n    {\n      \"column\": \"\\ub0a0\\uc9dc\",\n      \"properties\": {\n        \"dtype\": \"date\",\n        \"min\": \"1980-01-04 00:00:00\",\n        \"max\": \"2023-12-28 00:00:00\",\n        \"num_unique_values\": 11737,\n        \"samples\": [\n          \"1988-10-27 00:00:00\",\n          \"2000-11-21 00:00:00\",\n          \"1997-01-29 00:00:00\"\n        ],\n        \"semantic_type\": \"\",\n        \"description\": \"\"\n      }\n    },\n    {\n      \"column\": \"\\uc885\\uac00\",\n      \"properties\": {\n        \"dtype\": \"number\",\n        \"std\": 0.22706630914044,\n        \"min\": 0.0,\n        \"max\": 1.0,\n        \"num_unique_values\": 3454,\n        \"samples\": [\n          0.009036144578313253,\n          0.000648579720341219,\n          0.01868789024711987\n        ],\n        \"semantic_type\": \"\",\n        \"description\": \"\"\n      }\n    }\n  ]\n}"
            }
          },
          "metadata": {},
          "execution_count": 22
        }
      ]
    },
    {
      "cell_type": "code",
      "source": [
        "test_data"
      ],
      "metadata": {
        "colab": {
          "base_uri": "https://localhost:8080/",
          "height": 455
        },
        "id": "AozCSaTnIPV-",
        "outputId": "b010cf0c-3559-4175-fa53-706b5f77b470"
      },
      "execution_count": null,
      "outputs": [
        {
          "output_type": "execute_result",
          "data": {
            "text/plain": [
              "                  종가\n",
              "날짜                  \n",
              "2024-01-02  0.874681\n",
              "2024-01-03  0.846100\n",
              "2024-01-04  0.841703\n",
              "2024-01-05  0.841703\n",
              "2024-01-08  0.840603\n",
              "...              ...\n",
              "2024-05-27  0.848298\n",
              "2024-05-28  0.852695\n",
              "2024-05-29  0.826313\n",
              "2024-05-30  0.807625\n",
              "2024-05-31  0.807625\n",
              "\n",
              "[102 rows x 1 columns]"
            ],
            "text/html": [
              "\n",
              "  <div id=\"df-a883ccc3-7257-4d4e-b6e1-ec7cb67fb9f0\" class=\"colab-df-container\">\n",
              "    <div>\n",
              "<style scoped>\n",
              "    .dataframe tbody tr th:only-of-type {\n",
              "        vertical-align: middle;\n",
              "    }\n",
              "\n",
              "    .dataframe tbody tr th {\n",
              "        vertical-align: top;\n",
              "    }\n",
              "\n",
              "    .dataframe thead th {\n",
              "        text-align: right;\n",
              "    }\n",
              "</style>\n",
              "<table border=\"1\" class=\"dataframe\">\n",
              "  <thead>\n",
              "    <tr style=\"text-align: right;\">\n",
              "      <th></th>\n",
              "      <th>종가</th>\n",
              "    </tr>\n",
              "    <tr>\n",
              "      <th>날짜</th>\n",
              "      <th></th>\n",
              "    </tr>\n",
              "  </thead>\n",
              "  <tbody>\n",
              "    <tr>\n",
              "      <th>2024-01-02</th>\n",
              "      <td>0.874681</td>\n",
              "    </tr>\n",
              "    <tr>\n",
              "      <th>2024-01-03</th>\n",
              "      <td>0.846100</td>\n",
              "    </tr>\n",
              "    <tr>\n",
              "      <th>2024-01-04</th>\n",
              "      <td>0.841703</td>\n",
              "    </tr>\n",
              "    <tr>\n",
              "      <th>2024-01-05</th>\n",
              "      <td>0.841703</td>\n",
              "    </tr>\n",
              "    <tr>\n",
              "      <th>2024-01-08</th>\n",
              "      <td>0.840603</td>\n",
              "    </tr>\n",
              "    <tr>\n",
              "      <th>...</th>\n",
              "      <td>...</td>\n",
              "    </tr>\n",
              "    <tr>\n",
              "      <th>2024-05-27</th>\n",
              "      <td>0.848298</td>\n",
              "    </tr>\n",
              "    <tr>\n",
              "      <th>2024-05-28</th>\n",
              "      <td>0.852695</td>\n",
              "    </tr>\n",
              "    <tr>\n",
              "      <th>2024-05-29</th>\n",
              "      <td>0.826313</td>\n",
              "    </tr>\n",
              "    <tr>\n",
              "      <th>2024-05-30</th>\n",
              "      <td>0.807625</td>\n",
              "    </tr>\n",
              "    <tr>\n",
              "      <th>2024-05-31</th>\n",
              "      <td>0.807625</td>\n",
              "    </tr>\n",
              "  </tbody>\n",
              "</table>\n",
              "<p>102 rows × 1 columns</p>\n",
              "</div>\n",
              "    <div class=\"colab-df-buttons\">\n",
              "\n",
              "  <div class=\"colab-df-container\">\n",
              "    <button class=\"colab-df-convert\" onclick=\"convertToInteractive('df-a883ccc3-7257-4d4e-b6e1-ec7cb67fb9f0')\"\n",
              "            title=\"Convert this dataframe to an interactive table.\"\n",
              "            style=\"display:none;\">\n",
              "\n",
              "  <svg xmlns=\"http://www.w3.org/2000/svg\" height=\"24px\" viewBox=\"0 -960 960 960\">\n",
              "    <path d=\"M120-120v-720h720v720H120Zm60-500h600v-160H180v160Zm220 220h160v-160H400v160Zm0 220h160v-160H400v160ZM180-400h160v-160H180v160Zm440 0h160v-160H620v160ZM180-180h160v-160H180v160Zm440 0h160v-160H620v160Z\"/>\n",
              "  </svg>\n",
              "    </button>\n",
              "\n",
              "  <style>\n",
              "    .colab-df-container {\n",
              "      display:flex;\n",
              "      gap: 12px;\n",
              "    }\n",
              "\n",
              "    .colab-df-convert {\n",
              "      background-color: #E8F0FE;\n",
              "      border: none;\n",
              "      border-radius: 50%;\n",
              "      cursor: pointer;\n",
              "      display: none;\n",
              "      fill: #1967D2;\n",
              "      height: 32px;\n",
              "      padding: 0 0 0 0;\n",
              "      width: 32px;\n",
              "    }\n",
              "\n",
              "    .colab-df-convert:hover {\n",
              "      background-color: #E2EBFA;\n",
              "      box-shadow: 0px 1px 2px rgba(60, 64, 67, 0.3), 0px 1px 3px 1px rgba(60, 64, 67, 0.15);\n",
              "      fill: #174EA6;\n",
              "    }\n",
              "\n",
              "    .colab-df-buttons div {\n",
              "      margin-bottom: 4px;\n",
              "    }\n",
              "\n",
              "    [theme=dark] .colab-df-convert {\n",
              "      background-color: #3B4455;\n",
              "      fill: #D2E3FC;\n",
              "    }\n",
              "\n",
              "    [theme=dark] .colab-df-convert:hover {\n",
              "      background-color: #434B5C;\n",
              "      box-shadow: 0px 1px 3px 1px rgba(0, 0, 0, 0.15);\n",
              "      filter: drop-shadow(0px 1px 2px rgba(0, 0, 0, 0.3));\n",
              "      fill: #FFFFFF;\n",
              "    }\n",
              "  </style>\n",
              "\n",
              "    <script>\n",
              "      const buttonEl =\n",
              "        document.querySelector('#df-a883ccc3-7257-4d4e-b6e1-ec7cb67fb9f0 button.colab-df-convert');\n",
              "      buttonEl.style.display =\n",
              "        google.colab.kernel.accessAllowed ? 'block' : 'none';\n",
              "\n",
              "      async function convertToInteractive(key) {\n",
              "        const element = document.querySelector('#df-a883ccc3-7257-4d4e-b6e1-ec7cb67fb9f0');\n",
              "        const dataTable =\n",
              "          await google.colab.kernel.invokeFunction('convertToInteractive',\n",
              "                                                    [key], {});\n",
              "        if (!dataTable) return;\n",
              "\n",
              "        const docLinkHtml = 'Like what you see? Visit the ' +\n",
              "          '<a target=\"_blank\" href=https://colab.research.google.com/notebooks/data_table.ipynb>data table notebook</a>'\n",
              "          + ' to learn more about interactive tables.';\n",
              "        element.innerHTML = '';\n",
              "        dataTable['output_type'] = 'display_data';\n",
              "        await google.colab.output.renderOutput(dataTable, element);\n",
              "        const docLink = document.createElement('div');\n",
              "        docLink.innerHTML = docLinkHtml;\n",
              "        element.appendChild(docLink);\n",
              "      }\n",
              "    </script>\n",
              "  </div>\n",
              "\n",
              "\n",
              "<div id=\"df-b840022f-2296-40c5-9a00-c4905dcc64d0\">\n",
              "  <button class=\"colab-df-quickchart\" onclick=\"quickchart('df-b840022f-2296-40c5-9a00-c4905dcc64d0')\"\n",
              "            title=\"Suggest charts\"\n",
              "            style=\"display:none;\">\n",
              "\n",
              "<svg xmlns=\"http://www.w3.org/2000/svg\" height=\"24px\"viewBox=\"0 0 24 24\"\n",
              "     width=\"24px\">\n",
              "    <g>\n",
              "        <path d=\"M19 3H5c-1.1 0-2 .9-2 2v14c0 1.1.9 2 2 2h14c1.1 0 2-.9 2-2V5c0-1.1-.9-2-2-2zM9 17H7v-7h2v7zm4 0h-2V7h2v10zm4 0h-2v-4h2v4z\"/>\n",
              "    </g>\n",
              "</svg>\n",
              "  </button>\n",
              "\n",
              "<style>\n",
              "  .colab-df-quickchart {\n",
              "      --bg-color: #E8F0FE;\n",
              "      --fill-color: #1967D2;\n",
              "      --hover-bg-color: #E2EBFA;\n",
              "      --hover-fill-color: #174EA6;\n",
              "      --disabled-fill-color: #AAA;\n",
              "      --disabled-bg-color: #DDD;\n",
              "  }\n",
              "\n",
              "  [theme=dark] .colab-df-quickchart {\n",
              "      --bg-color: #3B4455;\n",
              "      --fill-color: #D2E3FC;\n",
              "      --hover-bg-color: #434B5C;\n",
              "      --hover-fill-color: #FFFFFF;\n",
              "      --disabled-bg-color: #3B4455;\n",
              "      --disabled-fill-color: #666;\n",
              "  }\n",
              "\n",
              "  .colab-df-quickchart {\n",
              "    background-color: var(--bg-color);\n",
              "    border: none;\n",
              "    border-radius: 50%;\n",
              "    cursor: pointer;\n",
              "    display: none;\n",
              "    fill: var(--fill-color);\n",
              "    height: 32px;\n",
              "    padding: 0;\n",
              "    width: 32px;\n",
              "  }\n",
              "\n",
              "  .colab-df-quickchart:hover {\n",
              "    background-color: var(--hover-bg-color);\n",
              "    box-shadow: 0 1px 2px rgba(60, 64, 67, 0.3), 0 1px 3px 1px rgba(60, 64, 67, 0.15);\n",
              "    fill: var(--button-hover-fill-color);\n",
              "  }\n",
              "\n",
              "  .colab-df-quickchart-complete:disabled,\n",
              "  .colab-df-quickchart-complete:disabled:hover {\n",
              "    background-color: var(--disabled-bg-color);\n",
              "    fill: var(--disabled-fill-color);\n",
              "    box-shadow: none;\n",
              "  }\n",
              "\n",
              "  .colab-df-spinner {\n",
              "    border: 2px solid var(--fill-color);\n",
              "    border-color: transparent;\n",
              "    border-bottom-color: var(--fill-color);\n",
              "    animation:\n",
              "      spin 1s steps(1) infinite;\n",
              "  }\n",
              "\n",
              "  @keyframes spin {\n",
              "    0% {\n",
              "      border-color: transparent;\n",
              "      border-bottom-color: var(--fill-color);\n",
              "      border-left-color: var(--fill-color);\n",
              "    }\n",
              "    20% {\n",
              "      border-color: transparent;\n",
              "      border-left-color: var(--fill-color);\n",
              "      border-top-color: var(--fill-color);\n",
              "    }\n",
              "    30% {\n",
              "      border-color: transparent;\n",
              "      border-left-color: var(--fill-color);\n",
              "      border-top-color: var(--fill-color);\n",
              "      border-right-color: var(--fill-color);\n",
              "    }\n",
              "    40% {\n",
              "      border-color: transparent;\n",
              "      border-right-color: var(--fill-color);\n",
              "      border-top-color: var(--fill-color);\n",
              "    }\n",
              "    60% {\n",
              "      border-color: transparent;\n",
              "      border-right-color: var(--fill-color);\n",
              "    }\n",
              "    80% {\n",
              "      border-color: transparent;\n",
              "      border-right-color: var(--fill-color);\n",
              "      border-bottom-color: var(--fill-color);\n",
              "    }\n",
              "    90% {\n",
              "      border-color: transparent;\n",
              "      border-bottom-color: var(--fill-color);\n",
              "    }\n",
              "  }\n",
              "</style>\n",
              "\n",
              "  <script>\n",
              "    async function quickchart(key) {\n",
              "      const quickchartButtonEl =\n",
              "        document.querySelector('#' + key + ' button');\n",
              "      quickchartButtonEl.disabled = true;  // To prevent multiple clicks.\n",
              "      quickchartButtonEl.classList.add('colab-df-spinner');\n",
              "      try {\n",
              "        const charts = await google.colab.kernel.invokeFunction(\n",
              "            'suggestCharts', [key], {});\n",
              "      } catch (error) {\n",
              "        console.error('Error during call to suggestCharts:', error);\n",
              "      }\n",
              "      quickchartButtonEl.classList.remove('colab-df-spinner');\n",
              "      quickchartButtonEl.classList.add('colab-df-quickchart-complete');\n",
              "    }\n",
              "    (() => {\n",
              "      let quickchartButtonEl =\n",
              "        document.querySelector('#df-b840022f-2296-40c5-9a00-c4905dcc64d0 button');\n",
              "      quickchartButtonEl.style.display =\n",
              "        google.colab.kernel.accessAllowed ? 'block' : 'none';\n",
              "    })();\n",
              "  </script>\n",
              "</div>\n",
              "    </div>\n",
              "  </div>\n"
            ],
            "application/vnd.google.colaboratory.intrinsic+json": {
              "type": "dataframe",
              "variable_name": "test_data",
              "summary": "{\n  \"name\": \"test_data\",\n  \"rows\": 102,\n  \"fields\": [\n    {\n      \"column\": \"\\ub0a0\\uc9dc\",\n      \"properties\": {\n        \"dtype\": \"date\",\n        \"min\": \"2024-01-02 00:00:00\",\n        \"max\": \"2024-05-31 00:00:00\",\n        \"num_unique_values\": 102,\n        \"samples\": [\n          \"2024-02-15 00:00:00\",\n          \"2024-04-09 00:00:00\",\n          \"2024-04-02 00:00:00\"\n        ],\n        \"semantic_type\": \"\",\n        \"description\": \"\"\n      }\n    },\n    {\n      \"column\": \"\\uc885\\uac00\",\n      \"properties\": {\n        \"dtype\": \"number\",\n        \"std\": 0.03895642261519181,\n        \"min\": 0.7801424676809429,\n        \"max\": 0.9373406032890688,\n        \"num_unique_values\": 66,\n        \"samples\": [\n          0.8515961656846365,\n          0.853794741007827,\n          0.8746812065781374\n        ],\n        \"semantic_type\": \"\",\n        \"description\": \"\"\n      }\n    }\n  ]\n}"
            }
          },
          "metadata": {},
          "execution_count": 23
        }
      ]
    },
    {
      "cell_type": "code",
      "source": [
        "# 시퀀스 데이터 생성\n",
        "def create_sequences(data, sequence_length):\n",
        "    sequences = []\n",
        "    targets = []\n",
        "    for i in range(len(data) - sequence_length):\n",
        "        sequences.append(data[i:i + sequence_length])\n",
        "        targets.append(data[i + sequence_length])\n",
        "    return np.array(sequences), np.array(targets)\n"
      ],
      "metadata": {
        "id": "cojI0g1OHQBu"
      },
      "execution_count": null,
      "outputs": []
    },
    {
      "cell_type": "code",
      "source": [
        "sequence_length = 60\n",
        "X_train, y_train = create_sequences(train_data['종가'].values, sequence_length)\n",
        "X_test, y_test = create_sequences(test_data['종가'].values, sequence_length)"
      ],
      "metadata": {
        "id": "dDs6j3IfHSR_"
      },
      "execution_count": null,
      "outputs": []
    },
    {
      "cell_type": "code",
      "source": [
        "X_train.shape"
      ],
      "metadata": {
        "colab": {
          "base_uri": "https://localhost:8080/"
        },
        "id": "dWtTMTkwoG2S",
        "outputId": "64e8243e-80a0-4708-e48e-9f347af92b70"
      },
      "execution_count": null,
      "outputs": [
        {
          "output_type": "execute_result",
          "data": {
            "text/plain": [
              "(11677, 60)"
            ]
          },
          "metadata": {},
          "execution_count": 26
        }
      ]
    },
    {
      "cell_type": "code",
      "source": [
        "y_train.shape"
      ],
      "metadata": {
        "colab": {
          "base_uri": "https://localhost:8080/"
        },
        "id": "D9gSY3zVoIKa",
        "outputId": "de58c40c-c59d-46a1-d6d7-32e5818da86c"
      },
      "execution_count": null,
      "outputs": [
        {
          "output_type": "execute_result",
          "data": {
            "text/plain": [
              "(11677,)"
            ]
          },
          "metadata": {},
          "execution_count": 27
        }
      ]
    },
    {
      "cell_type": "code",
      "source": [
        "X_test.shape"
      ],
      "metadata": {
        "colab": {
          "base_uri": "https://localhost:8080/"
        },
        "id": "XWT1a0WgoJpk",
        "outputId": "3d0439c8-3d12-4054-af1e-56447c8605b7"
      },
      "execution_count": null,
      "outputs": [
        {
          "output_type": "execute_result",
          "data": {
            "text/plain": [
              "(42, 60)"
            ]
          },
          "metadata": {},
          "execution_count": 28
        }
      ]
    },
    {
      "cell_type": "code",
      "source": [
        "y_test.shape"
      ],
      "metadata": {
        "colab": {
          "base_uri": "https://localhost:8080/"
        },
        "id": "yCI8qsx8oLXc",
        "outputId": "040a0352-a9db-4843-bc7b-ca46104bab4b"
      },
      "execution_count": null,
      "outputs": [
        {
          "output_type": "execute_result",
          "data": {
            "text/plain": [
              "(42,)"
            ]
          },
          "metadata": {},
          "execution_count": 29
        }
      ]
    },
    {
      "cell_type": "code",
      "source": [
        "X_train = torch.tensor(X_train, dtype=torch.float32).unsqueeze(-1)\n",
        "y_train = torch.tensor(y_train, dtype=torch.float32).unsqueeze(-1)\n",
        "X_test = torch.tensor(X_test, dtype=torch.float32).unsqueeze(-1)\n",
        "y_test = torch.tensor(y_test, dtype=torch.float32).unsqueeze(-1)"
      ],
      "metadata": {
        "id": "8XlqwHtdHU8p"
      },
      "execution_count": null,
      "outputs": []
    },
    {
      "cell_type": "code",
      "source": [
        "# RNN 모델 정의\n",
        "class StockPriceRNN(nn.Module):\n",
        "    def __init__(self, input_size, hidden_size, output_size):\n",
        "        super(StockPriceRNN, self).__init__()\n",
        "        self.hidden_size = hidden_size\n",
        "        self.rnn = nn.RNN(input_size, hidden_size, batch_first=True)\n",
        "        self.fc = nn.Linear(hidden_size, output_size)\n",
        "\n",
        "    def forward(self, x):\n",
        "        h0 = torch.zeros(1, x.size(0), self.hidden_size).to(x.device)\n",
        "        out, _ = self.rnn(x, h0)\n",
        "        out = self.fc(out[:, -1, :])\n",
        "        return out"
      ],
      "metadata": {
        "id": "MyEnYOLzHMjE"
      },
      "execution_count": null,
      "outputs": []
    },
    {
      "cell_type": "code",
      "source": [
        "input_size = 1\n",
        "hidden_size = 20\n",
        "output_size = 1"
      ],
      "metadata": {
        "id": "rkpfgWvEHaUk"
      },
      "execution_count": null,
      "outputs": []
    },
    {
      "cell_type": "code",
      "source": [
        "model = StockPriceRNN(input_size, hidden_size, output_size)\n",
        "criterion = nn.MSELoss()\n",
        "optimizer = optim.Adam(model.parameters(), lr=0.001)"
      ],
      "metadata": {
        "id": "XHvg1UrIHcF8"
      },
      "execution_count": null,
      "outputs": []
    },
    {
      "cell_type": "code",
      "source": [
        "# 모델 학습\n",
        "num_epochs = 100\n",
        "for epoch in range(num_epochs):\n",
        "    model.train()\n",
        "    outputs = model(X_train)\n",
        "    loss = criterion(outputs, y_train)\n",
        "\n",
        "    optimizer.zero_grad()\n",
        "    loss.backward()\n",
        "    optimizer.step()\n",
        "\n",
        "    if (epoch+1) % 20 == 0:\n",
        "        print(f'Epoch [{epoch+1}/{num_epochs}], Loss: {loss.item():.4f}')"
      ],
      "metadata": {
        "colab": {
          "base_uri": "https://localhost:8080/"
        },
        "id": "MM0jCLPqHLzM",
        "outputId": "abe486ba-e4a4-4340-c984-e3d44d135af4"
      },
      "execution_count": null,
      "outputs": [
        {
          "output_type": "stream",
          "name": "stdout",
          "text": [
            "Epoch [20/100], Loss: 0.0401\n",
            "Epoch [40/100], Loss: 0.0173\n",
            "Epoch [60/100], Loss: 0.0023\n",
            "Epoch [80/100], Loss: 0.0007\n",
            "Epoch [100/100], Loss: 0.0005\n"
          ]
        }
      ]
    },
    {
      "cell_type": "code",
      "source": [
        "# 모델 평가 및 예측\n",
        "model.eval()\n",
        "with torch.no_grad():\n",
        "    test_output = model(X_test)\n",
        "    test_loss = criterion(test_output, y_test)\n",
        "    print(f'Test Loss: {test_loss.item():.4f}')\n",
        "\n",
        "    # 예측값과 실제값 비교\n",
        "    test_output = test_output.numpy()\n",
        "    y_test = y_test.numpy()\n",
        "    test_output = scaler.inverse_transform(test_output)\n",
        "    y_test = scaler.inverse_transform(y_test)"
      ],
      "metadata": {
        "colab": {
          "base_uri": "https://localhost:8080/"
        },
        "id": "bZLP_-waHeIN",
        "outputId": "bef22147-502e-4c9c-af35-f507f40454e9"
      },
      "execution_count": null,
      "outputs": [
        {
          "output_type": "stream",
          "name": "stdout",
          "text": [
            "Test Loss: 0.0102\n"
          ]
        }
      ]
    },
    {
      "cell_type": "code",
      "source": [
        "# 결과 시각화\n",
        "plt.figure(figsize=(10, 6))\n",
        "plt.plot(y_test, label='Actual Stock Price')\n",
        "plt.plot(test_output, label='Predicted Stock Price')\n",
        "plt.xlabel('Time')\n",
        "plt.ylabel('Stock Price')\n",
        "plt.legend()\n",
        "plt.show()"
      ],
      "metadata": {
        "colab": {
          "base_uri": "https://localhost:8080/",
          "height": 562
        },
        "id": "Iy1fCtrdHLLT",
        "outputId": "ed4a374b-67d1-4ac8-f2e0-bfac5142ae71"
      },
      "execution_count": null,
      "outputs": [
        {
          "output_type": "display_data",
          "data": {
            "text/plain": [
              "<Figure size 1000x600 with 1 Axes>"
            ],
            "image/png": "[encoded data removed]"
          },
          "metadata": {}
        }
      ]
    },
    {
      "cell_type": "markdown",
      "source": [
        "---"
      ],
      "metadata": {
        "id": "Lyq8NMldHgiO"
      }
    },
    {
      "cell_type": "markdown",
      "source": [
        "Transformer"
      ],
      "metadata": {
        "id": "8XeSKq62pOzW"
      }
    }
  ]
}