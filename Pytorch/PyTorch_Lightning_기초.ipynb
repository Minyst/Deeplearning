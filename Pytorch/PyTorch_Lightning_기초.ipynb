{
  "cells": [
    {
      "cell_type": "markdown",
      "metadata": {
        "id": "SN4pIC40QHdA"
      },
      "source": [
        "![KakaoTalk_20230803_163633393.png](data:image/png;base64,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)"
      ]
    },
    {
      "cell_type": "markdown",
      "metadata": {
        "id": "0BZLPJkeQNa8"
      },
      "source": [
        "<img src=\"https://upload.wikimedia.org/wikipedia/commons/e/e6/Lightning_Logo_v2.png?20211005181334\" height=\"100\">"
      ]
    },
    {
      "cell_type": "markdown",
      "metadata": {
        "id": "BtIPD4diQkG2"
      },
      "source": [
        "PyTorch 자체에는 model.fit()과 같은 고수준 API가 없지만, PyTorch와 호환되는 라이브러리인 PyTorch Lightning을 사용하면 이를 유사하게 구현할 수 있습니다.   \n",
        "PyTorch Lightning은 학습 루프와 같은 반복적인 코드를 단순화하고, 모델 훈련을 더 간단하게 만들 수 있습니다."
      ]
    },
    {
      "cell_type": "code",
      "execution_count": null,
      "metadata": {
        "colab": {
          "base_uri": "https://localhost:8080/"
        },
        "id": "10CVbx5EQwsV",
        "outputId": "619f0008-b5f5-4453-fcea-c230b50ca866"
      },
      "outputs": [
        {
          "output_type": "stream",
          "name": "stdout",
          "text": [
            "Collecting pytorch-lightning\n",
            "  Downloading pytorch_lightning-2.2.5-py3-none-any.whl (802 kB)\n",
            "\u001b[2K     \u001b[90m━━━━━━━━━━━━━━━━━━━━━━━━━━━━━━━━━━━━━━━━\u001b[0m \u001b[32m802.3/802.3 kB\u001b[0m \u001b[31m6.0 MB/s\u001b[0m eta \u001b[36m0:00:00\u001b[0m\n",
            "\u001b[?25hRequirement already satisfied: numpy>=1.17.2 in /usr/local/lib/python3.10/dist-packages (from pytorch-lightning) (1.25.2)\n",
            "Requirement already satisfied: torch>=1.13.0 in /usr/local/lib/python3.10/dist-packages (from pytorch-lightning) (2.3.0+cu121)\n",
            "Requirement already satisfied: tqdm>=4.57.0 in /usr/local/lib/python3.10/dist-packages (from pytorch-lightning) (4.66.4)\n",
            "Requirement already satisfied: PyYAML>=5.4 in /usr/local/lib/python3.10/dist-packages (from pytorch-lightning) (6.0.1)\n",
            "Requirement already satisfied: fsspec[http]>=2022.5.0 in /usr/local/lib/python3.10/dist-packages (from pytorch-lightning) (2023.6.0)\n",
            "Collecting torchmetrics>=0.7.0 (from pytorch-lightning)\n",
            "  Downloading torchmetrics-1.4.0.post0-py3-none-any.whl (868 kB)\n",
            "\u001b[2K     \u001b[90m━━━━━━━━━━━━━━━━━━━━━━━━━━━━━━━━━━━━━━━━\u001b[0m \u001b[32m868.8/868.8 kB\u001b[0m \u001b[31m27.1 MB/s\u001b[0m eta \u001b[36m0:00:00\u001b[0m\n",
            "\u001b[?25hRequirement already satisfied: packaging>=20.0 in /usr/local/lib/python3.10/dist-packages (from pytorch-lightning) (24.0)\n",
            "Requirement already satisfied: typing-extensions>=4.4.0 in /usr/local/lib/python3.10/dist-packages (from pytorch-lightning) (4.11.0)\n",
            "Collecting lightning-utilities>=0.8.0 (from pytorch-lightning)\n",
            "  Downloading lightning_utilities-0.11.2-py3-none-any.whl (26 kB)\n",
            "Requirement already satisfied: requests in /usr/local/lib/python3.10/dist-packages (from fsspec[http]>=2022.5.0->pytorch-lightning) (2.31.0)\n",
            "Requirement already satisfied: aiohttp!=4.0.0a0,!=4.0.0a1 in /usr/local/lib/python3.10/dist-packages (from fsspec[http]>=2022.5.0->pytorch-lightning) (3.9.5)\n",
            "Requirement already satisfied: setuptools in /usr/local/lib/python3.10/dist-packages (from lightning-utilities>=0.8.0->pytorch-lightning) (67.7.2)\n",
            "Requirement already satisfied: filelock in /usr/local/lib/python3.10/dist-packages (from torch>=1.13.0->pytorch-lightning) (3.14.0)\n",
            "Requirement already satisfied: sympy in /usr/local/lib/python3.10/dist-packages (from torch>=1.13.0->pytorch-lightning) (1.12)\n",
            "Requirement already satisfied: networkx in /usr/local/lib/python3.10/dist-packages (from torch>=1.13.0->pytorch-lightning) (3.3)\n",
            "Requirement already satisfied: jinja2 in /usr/local/lib/python3.10/dist-packages (from torch>=1.13.0->pytorch-lightning) (3.1.4)\n",
            "Collecting nvidia-cuda-nvrtc-cu12==12.1.105 (from torch>=1.13.0->pytorch-lightning)\n",
            "  Using cached nvidia_cuda_nvrtc_cu12-12.1.105-py3-none-manylinux1_x86_64.whl (23.7 MB)\n",
            "Collecting nvidia-cuda-runtime-cu12==12.1.105 (from torch>=1.13.0->pytorch-lightning)\n",
            "  Using cached nvidia_cuda_runtime_cu12-12.1.105-py3-none-manylinux1_x86_64.whl (823 kB)\n",
            "Collecting nvidia-cuda-cupti-cu12==12.1.105 (from torch>=1.13.0->pytorch-lightning)\n",
            "  Using cached nvidia_cuda_cupti_cu12-12.1.105-py3-none-manylinux1_x86_64.whl (14.1 MB)\n",
            "Collecting nvidia-cudnn-cu12==8.9.2.26 (from torch>=1.13.0->pytorch-lightning)\n",
            "  Using cached nvidia_cudnn_cu12-8.9.2.26-py3-none-manylinux1_x86_64.whl (731.7 MB)\n",
            "Collecting nvidia-cublas-cu12==12.1.3.1 (from torch>=1.13.0->pytorch-lightning)\n",
            "  Using cached nvidia_cublas_cu12-12.1.3.1-py3-none-manylinux1_x86_64.whl (410.6 MB)\n",
            "Collecting nvidia-cufft-cu12==11.0.2.54 (from torch>=1.13.0->pytorch-lightning)\n",
            "  Using cached nvidia_cufft_cu12-11.0.2.54-py3-none-manylinux1_x86_64.whl (121.6 MB)\n",
            "Collecting nvidia-curand-cu12==10.3.2.106 (from torch>=1.13.0->pytorch-lightning)\n",
            "  Using cached nvidia_curand_cu12-10.3.2.106-py3-none-manylinux1_x86_64.whl (56.5 MB)\n",
            "Collecting nvidia-cusolver-cu12==11.4.5.107 (from torch>=1.13.0->pytorch-lightning)\n",
            "  Using cached nvidia_cusolver_cu12-11.4.5.107-py3-none-manylinux1_x86_64.whl (124.2 MB)\n",
            "Collecting nvidia-cusparse-cu12==12.1.0.106 (from torch>=1.13.0->pytorch-lightning)\n",
            "  Using cached nvidia_cusparse_cu12-12.1.0.106-py3-none-manylinux1_x86_64.whl (196.0 MB)\n",
            "Collecting nvidia-nccl-cu12==2.20.5 (from torch>=1.13.0->pytorch-lightning)\n",
            "  Using cached nvidia_nccl_cu12-2.20.5-py3-none-manylinux2014_x86_64.whl (176.2 MB)\n",
            "Collecting nvidia-nvtx-cu12==12.1.105 (from torch>=1.13.0->pytorch-lightning)\n",
            "  Using cached nvidia_nvtx_cu12-12.1.105-py3-none-manylinux1_x86_64.whl (99 kB)\n",
            "Requirement already satisfied: triton==2.3.0 in /usr/local/lib/python3.10/dist-packages (from torch>=1.13.0->pytorch-lightning) (2.3.0)\n",
            "Collecting nvidia-nvjitlink-cu12 (from nvidia-cusolver-cu12==11.4.5.107->torch>=1.13.0->pytorch-lightning)\n",
            "  Downloading nvidia_nvjitlink_cu12-12.5.40-py3-none-manylinux2014_x86_64.whl (21.3 MB)\n",
            "\u001b[2K     \u001b[90m━━━━━━━━━━━━━━━━━━━━━━━━━━━━━━━━━━━━━━━━\u001b[0m \u001b[32m21.3/21.3 MB\u001b[0m \u001b[31m65.6 MB/s\u001b[0m eta \u001b[36m0:00:00\u001b[0m\n",
            "\u001b[?25hRequirement already satisfied: aiosignal>=1.1.2 in /usr/local/lib/python3.10/dist-packages (from aiohttp!=4.0.0a0,!=4.0.0a1->fsspec[http]>=2022.5.0->pytorch-lightning) (1.3.1)\n",
            "Requirement already satisfied: attrs>=17.3.0 in /usr/local/lib/python3.10/dist-packages (from aiohttp!=4.0.0a0,!=4.0.0a1->fsspec[http]>=2022.5.0->pytorch-lightning) (23.2.0)\n",
            "Requirement already satisfied: frozenlist>=1.1.1 in /usr/local/lib/python3.10/dist-packages (from aiohttp!=4.0.0a0,!=4.0.0a1->fsspec[http]>=2022.5.0->pytorch-lightning) (1.4.1)\n",
            "Requirement already satisfied: multidict<7.0,>=4.5 in /usr/local/lib/python3.10/dist-packages (from aiohttp!=4.0.0a0,!=4.0.0a1->fsspec[http]>=2022.5.0->pytorch-lightning) (6.0.5)\n",
            "Requirement already satisfied: yarl<2.0,>=1.0 in /usr/local/lib/python3.10/dist-packages (from aiohttp!=4.0.0a0,!=4.0.0a1->fsspec[http]>=2022.5.0->pytorch-lightning) (1.9.4)\n",
            "Requirement already satisfied: async-timeout<5.0,>=4.0 in /usr/local/lib/python3.10/dist-packages (from aiohttp!=4.0.0a0,!=4.0.0a1->fsspec[http]>=2022.5.0->pytorch-lightning) (4.0.3)\n",
            "Requirement already satisfied: MarkupSafe>=2.0 in /usr/local/lib/python3.10/dist-packages (from jinja2->torch>=1.13.0->pytorch-lightning) (2.1.5)\n",
            "Requirement already satisfied: charset-normalizer<4,>=2 in /usr/local/lib/python3.10/dist-packages (from requests->fsspec[http]>=2022.5.0->pytorch-lightning) (3.3.2)\n",
            "Requirement already satisfied: idna<4,>=2.5 in /usr/local/lib/python3.10/dist-packages (from requests->fsspec[http]>=2022.5.0->pytorch-lightning) (3.7)\n",
            "Requirement already satisfied: urllib3<3,>=1.21.1 in /usr/local/lib/python3.10/dist-packages (from requests->fsspec[http]>=2022.5.0->pytorch-lightning) (2.0.7)\n",
            "Requirement already satisfied: certifi>=2017.4.17 in /usr/local/lib/python3.10/dist-packages (from requests->fsspec[http]>=2022.5.0->pytorch-lightning) (2024.2.2)\n",
            "Requirement already satisfied: mpmath>=0.19 in /usr/local/lib/python3.10/dist-packages (from sympy->torch>=1.13.0->pytorch-lightning) (1.3.0)\n",
            "Installing collected packages: nvidia-nvtx-cu12, nvidia-nvjitlink-cu12, nvidia-nccl-cu12, nvidia-curand-cu12, nvidia-cufft-cu12, nvidia-cuda-runtime-cu12, nvidia-cuda-nvrtc-cu12, nvidia-cuda-cupti-cu12, nvidia-cublas-cu12, lightning-utilities, nvidia-cusparse-cu12, nvidia-cudnn-cu12, nvidia-cusolver-cu12, torchmetrics, pytorch-lightning\n",
            "Successfully installed lightning-utilities-0.11.2 nvidia-cublas-cu12-12.1.3.1 nvidia-cuda-cupti-cu12-12.1.105 nvidia-cuda-nvrtc-cu12-12.1.105 nvidia-cuda-runtime-cu12-12.1.105 nvidia-cudnn-cu12-8.9.2.26 nvidia-cufft-cu12-11.0.2.54 nvidia-curand-cu12-10.3.2.106 nvidia-cusolver-cu12-11.4.5.107 nvidia-cusparse-cu12-12.1.0.106 nvidia-nccl-cu12-2.20.5 nvidia-nvjitlink-cu12-12.5.40 nvidia-nvtx-cu12-12.1.105 pytorch-lightning-2.2.5 torchmetrics-1.4.0.post0\n"
          ]
        }
      ],
      "source": [
        "!pip install pytorch-lightning"
      ]
    },
    {
      "cell_type": "code",
      "execution_count": null,
      "metadata": {
        "id": "7nWWimf5QEfd"
      },
      "outputs": [],
      "source": [
        "import pytorch_lightning as pl\n",
        "\n",
        "import torch\n",
        "import torch.nn.functional as F\n",
        "from torch import nn\n",
        "from torch.optim import SGD\n",
        "from torch.utils.data import DataLoader, random_split\n",
        "import torchvision.transforms as transforms\n",
        "import torchvision.datasets as datasets"
      ]
    },
    {
      "cell_type": "markdown",
      "metadata": {
        "id": "K3XUXXflQtDL"
      },
      "source": [
        "PyTorch Lightning에서 모델을 정의하려면 LightningModule 클래스를 상속받아야 합니다.  \n",
        "\n"
      ]
    },
    {
      "cell_type": "code",
      "execution_count": null,
      "metadata": {
        "id": "fQLEqLURQq7S"
      },
      "outputs": [],
      "source": [
        "class EnhancedCNN(pl.LightningModule):\n",
        "    def __init__(self):\n",
        "        super(EnhancedCNN, self).__init__()\n",
        "        self.conv1 = nn.Conv2d(1, 32, kernel_size=3, stride=1, padding=1)\n",
        "        self.bn1 = nn.BatchNorm2d(32)\n",
        "        self.conv2 = nn.Conv2d(32, 64, kernel_size=3, stride=1, padding=1)\n",
        "        self.bn2 = nn.BatchNorm2d(64)\n",
        "        self.pool = nn.MaxPool2d(kernel_size=2, stride=2, padding=0)\n",
        "        self.dropout = nn.Dropout(0.25)\n",
        "        self.fc1 = nn.Linear(64 * 7 * 7, 128)\n",
        "        self.bn3 = nn.BatchNorm1d(128)\n",
        "        self.fc2 = nn.Linear(128, 10)\n",
        "\n",
        "    def forward(self, x):\n",
        "        x = self.pool(F.relu(self.bn1(self.conv1(x))))\n",
        "        x = self.pool(F.relu(self.bn2(self.conv2(x))))\n",
        "        x = x.view(-1, 64 * 7 * 7)  # Flatten the tensor\n",
        "        x = self.dropout(F.relu(self.bn3(self.fc1(x))))\n",
        "        x = self.fc2(x)\n",
        "        return x\n",
        "\n",
        "\n",
        "    def training_step(self, batch, batch_idx):\n",
        "        inputs, labels = batch\n",
        "        outputs = self(inputs)\n",
        "        loss = F.cross_entropy(outputs, labels)\n",
        "        self.log('train_loss', loss)\n",
        "        return loss\n",
        "\n",
        "\n",
        "    def validation_step(self, batch, batch_idx):\n",
        "        inputs, labels = batch\n",
        "        outputs = self(inputs)\n",
        "        loss = F.cross_entropy(outputs, labels)\n",
        "        self.log('val_loss', loss)\n",
        "        return loss\n",
        "\n",
        "\n",
        "    def test_step(self, batch, batch_idx):\n",
        "        inputs, labels = batch\n",
        "        outputs = self(inputs)\n",
        "        loss = F.cross_entropy(outputs, labels)\n",
        "        self.log('test_loss', loss)\n",
        "        return loss\n",
        "\n",
        "\n",
        "    def configure_optimizers(self):\n",
        "        return SGD(self.parameters(), lr=0.01, momentum=0.9)\n"
      ]
    },
    {
      "cell_type": "markdown",
      "metadata": {
        "id": "vjxZbRvMQ054"
      },
      "source": [
        "PyTorch Lightning은 데이터 준비 및 로딩을 위한 헬퍼 함수도 제공합니다.\n",
        "\n"
      ]
    },
    {
      "cell_type": "code",
      "execution_count": null,
      "metadata": {
        "id": "rVwMUug3QzVH"
      },
      "outputs": [],
      "source": [
        "class MNISTDataModule(pl.LightningDataModule):\n",
        "    def __init__(self, batch_size=32):\n",
        "        super().__init__()\n",
        "        self.batch_size = batch_size\n",
        "        self.transform = transforms.Compose([\n",
        "            transforms.ToTensor(),\n",
        "            transforms.Normalize((0.5,), (0.5,))\n",
        "        ])\n",
        "\n",
        "    def prepare_data(self):\n",
        "        datasets.MNIST(root='./data', train=True, download=True)\n",
        "        datasets.MNIST(root='./data', train=False, download=True)\n",
        "\n",
        "    def setup(self, stage=None):\n",
        "        mnist_full = datasets.MNIST(root='./data', train=True, transform=self.transform)\n",
        "        self.train_set, self.val_set = random_split(mnist_full, [55000, 5000])\n",
        "        self.test_set = datasets.MNIST(root='./data', train=False, transform=self.transform)\n",
        "\n",
        "    def train_dataloader(self):\n",
        "        return DataLoader(self.train_set, batch_size=self.batch_size)\n",
        "\n",
        "    def val_dataloader(self):\n",
        "        return DataLoader(self.val_set, batch_size=self.batch_size)\n",
        "\n",
        "    def test_dataloader(self):\n",
        "        return DataLoader(self.test_set, batch_size=self.batch_size)\n"
      ]
    },
    {
      "cell_type": "markdown",
      "metadata": {
        "id": "suoLkFwNQ4IJ"
      },
      "source": [
        "PyTorch Lightning은 Trainer 클래스를 사용하여 모델 학습을 관리합니다.\n",
        "\n"
      ]
    },
    {
      "cell_type": "code",
      "execution_count": null,
      "metadata": {
        "id": "qnWQnT8MRAHW"
      },
      "outputs": [],
      "source": [
        "# 데이터 모듈\n",
        "mnist_data = MNISTDataModule()"
      ]
    },
    {
      "cell_type": "code",
      "execution_count": null,
      "metadata": {
        "id": "DRXre4q9RCMf"
      },
      "outputs": [],
      "source": [
        "# 모델 초기화\n",
        "model = EnhancedCNN()"
      ]
    },
    {
      "cell_type": "code",
      "execution_count": null,
      "metadata": {
        "colab": {
          "base_uri": "https://localhost:8080/"
        },
        "id": "q4SWoAHxRGmC",
        "outputId": "c05e02a5-56f8-46c1-8273-6ea116cf944a"
      },
      "outputs": [
        {
          "output_type": "stream",
          "name": "stdout",
          "text": [
            "EnhancedCNN(\n",
            "  (conv1): Conv2d(1, 32, kernel_size=(3, 3), stride=(1, 1), padding=(1, 1))\n",
            "  (bn1): BatchNorm2d(32, eps=1e-05, momentum=0.1, affine=True, track_running_stats=True)\n",
            "  (conv2): Conv2d(32, 64, kernel_size=(3, 3), stride=(1, 1), padding=(1, 1))\n",
            "  (bn2): BatchNorm2d(64, eps=1e-05, momentum=0.1, affine=True, track_running_stats=True)\n",
            "  (pool): MaxPool2d(kernel_size=2, stride=2, padding=0, dilation=1, ceil_mode=False)\n",
            "  (dropout): Dropout(p=0.25, inplace=False)\n",
            "  (fc1): Linear(in_features=3136, out_features=128, bias=True)\n",
            "  (bn3): BatchNorm1d(128, eps=1e-05, momentum=0.1, affine=True, track_running_stats=True)\n",
            "  (fc2): Linear(in_features=128, out_features=10, bias=True)\n",
            ")\n"
          ]
        }
      ],
      "source": [
        "print(model)"
      ]
    },
    {
      "cell_type": "code",
      "execution_count": null,
      "metadata": {
        "colab": {
          "base_uri": "https://localhost:8080/"
        },
        "id": "sUsxqpI3Q3Mo",
        "outputId": "12ce2e19-8cc6-473e-89e7-981ca3a8ddd3"
      },
      "outputs": [
        {
          "output_type": "stream",
          "name": "stderr",
          "text": [
            "INFO:pytorch_lightning.utilities.rank_zero:GPU available: False, used: False\n",
            "INFO:pytorch_lightning.utilities.rank_zero:TPU available: False, using: 0 TPU cores\n",
            "INFO:pytorch_lightning.utilities.rank_zero:IPU available: False, using: 0 IPUs\n",
            "INFO:pytorch_lightning.utilities.rank_zero:HPU available: False, using: 0 HPUs\n"
          ]
        }
      ],
      "source": [
        "# Trainer 초기화\n",
        "trainer = pl.Trainer(max_epochs=2)"
      ]
    },
    {
      "cell_type": "code",
      "execution_count": null,
      "metadata": {
        "colab": {
          "base_uri": "https://localhost:8080/",
          "height": 1000,
          "referenced_widgets": [
            "5f9f6982e96b46e38f4bc41dd7dce382",
            "6f22fbd2d0fd4c01b2a10c5d3f1c343b",
            "b7c89816451c4090b33680f5eb6c3bc8",
            "6ca3fea4d0c9407795374006389df1f7",
            "f8b0169038954bba967aaf62d9cb1ef2",
            "7a679971426e4698aa06f959c799a5fe",
            "4d532f0fb0064e16a1f4099e2225d884",
            "71a7410721474371bbe507200827d429",
            "b5e27cc2af3c4a98ae400d44f9cea8f8",
            "b364f20792c14af0b97486068b6676ff",
            "046c8361e3904fb196d352d5e9ca0ce5",
            "7a805dbb09da499ca1d7768c15ce522f",
            "f5cf4eb6f0cc4d7badb249262fbd2cea",
            "34d5ab0bcd344c179fe6ea17838d1fab",
            "670dabcae049406c95087b3dbbce3aec",
            "5a2f3c755e3a400c840db3ed6d826642",
            "52db9923867e4787ad0e8c06a960c5f2",
            "b42fac2a54434b4b8d34c4ef8155aa68",
            "bb4df46937b541ef88490b99bb7c8499",
            "beb76ea5a6a54c799568e2fdbadcf0b8",
            "d78f4d56c9874f6986bf471c8da3b442",
            "cdd6933bd59a4047a75881cd169eb909",
            "846e5378787a4f45a39cbe93d57c58ea",
            "fbd72d5e295a4122b6fda5bfc06a563b",
            "0c6c6ea0d1dc4b61b34587c55ca48c7f",
            "61bc38518fdc4765831644d9397a80e9",
            "1ff7f88e66ba4aad94749e5af2d52b50",
            "0cf2ec0a32314d85a005197650a85fe0",
            "64dd6aa5f3ff4540b9d5ec914b751c8d",
            "1f1a1e238ed44b51924a535ee37c9207",
            "b75aebdd752640d0b498b8f69f5765fb",
            "f67ed217300d40bc80f22e9f8e8bdbb4",
            "3b7a5c878f384aebafb7c69c1bdd0474",
            "9c908c44a4a44581ae6150f677dfb1ff",
            "6a8d9d446ee046c5941f2957b4538405",
            "fc4bde67c9014cbea66f7b65ac2960f0",
            "4b364e05cabe4889a9d4b4a713b749a5",
            "663f690004e647a7b4e284c78deaef48",
            "b0d919d0ac1041cb822c0528f200ad70",
            "3f441463975543f094a56333880591f0",
            "8045a54e5e0e43028a6a97455c556429",
            "285cbf94053141fa935efd409a67e14a",
            "2886ac2f529e45d288c89e07bc5d7c5d",
            "6a8508ccd1074588ba5547898ac82077"
          ]
        },
        "id": "6wyHi3K_ROzu",
        "outputId": "1abdda6c-eb78-4c26-f106-90e2d82443b7"
      },
      "outputs": [
        {
          "output_type": "stream",
          "name": "stderr",
          "text": [
            "WARNING:pytorch_lightning.loggers.tensorboard:Missing logger folder: /content/lightning_logs\n"
          ]
        },
        {
          "output_type": "stream",
          "name": "stdout",
          "text": [
            "Downloading http://yann.lecun.com/exdb/mnist/train-images-idx3-ubyte.gz\n",
            "Failed to download (trying next):\n",
            "HTTP Error 403: Forbidden\n",
            "\n",
            "Downloading https://ossci-datasets.s3.amazonaws.com/mnist/train-images-idx3-ubyte.gz\n",
            "Downloading https://ossci-datasets.s3.amazonaws.com/mnist/train-images-idx3-ubyte.gz to ./data/MNIST/raw/train-images-idx3-ubyte.gz\n"
          ]
        },
        {
          "output_type": "stream",
          "name": "stderr",
          "text": [
            "100%|██████████| 9912422/9912422 [00:00<00:00, 87079764.84it/s]\n"
          ]
        },
        {
          "output_type": "stream",
          "name": "stdout",
          "text": [
            "Extracting ./data/MNIST/raw/train-images-idx3-ubyte.gz to ./data/MNIST/raw\n",
            "\n",
            "Downloading http://yann.lecun.com/exdb/mnist/train-labels-idx1-ubyte.gz\n",
            "Failed to download (trying next):\n",
            "HTTP Error 403: Forbidden\n",
            "\n",
            "Downloading https://ossci-datasets.s3.amazonaws.com/mnist/train-labels-idx1-ubyte.gz\n",
            "Downloading https://ossci-datasets.s3.amazonaws.com/mnist/train-labels-idx1-ubyte.gz to ./data/MNIST/raw/train-labels-idx1-ubyte.gz\n"
          ]
        },
        {
          "output_type": "stream",
          "name": "stderr",
          "text": [
            "100%|██████████| 28881/28881 [00:00<00:00, 22263498.22it/s]"
          ]
        },
        {
          "output_type": "stream",
          "name": "stdout",
          "text": [
            "Extracting ./data/MNIST/raw/train-labels-idx1-ubyte.gz to ./data/MNIST/raw\n",
            "\n",
            "Downloading http://yann.lecun.com/exdb/mnist/t10k-images-idx3-ubyte.gz\n",
            "Failed to download (trying next):\n",
            "HTTP Error 403: Forbidden\n",
            "\n",
            "Downloading https://ossci-datasets.s3.amazonaws.com/mnist/t10k-images-idx3-ubyte.gz\n",
            "Downloading https://ossci-datasets.s3.amazonaws.com/mnist/t10k-images-idx3-ubyte.gz to ./data/MNIST/raw/t10k-images-idx3-ubyte.gz\n"
          ]
        },
        {
          "output_type": "stream",
          "name": "stderr",
          "text": [
            "\n",
            "100%|██████████| 1648877/1648877 [00:00<00:00, 41693391.99it/s]\n"
          ]
        },
        {
          "output_type": "stream",
          "name": "stdout",
          "text": [
            "Extracting ./data/MNIST/raw/t10k-images-idx3-ubyte.gz to ./data/MNIST/raw\n",
            "\n",
            "Downloading http://yann.lecun.com/exdb/mnist/t10k-labels-idx1-ubyte.gz\n",
            "Failed to download (trying next):\n",
            "HTTP Error 403: Forbidden\n",
            "\n",
            "Downloading https://ossci-datasets.s3.amazonaws.com/mnist/t10k-labels-idx1-ubyte.gz\n",
            "Downloading https://ossci-datasets.s3.amazonaws.com/mnist/t10k-labels-idx1-ubyte.gz to ./data/MNIST/raw/t10k-labels-idx1-ubyte.gz\n"
          ]
        },
        {
          "output_type": "stream",
          "name": "stderr",
          "text": [
            "100%|██████████| 4542/4542 [00:00<00:00, 6919916.01it/s]\n"
          ]
        },
        {
          "output_type": "stream",
          "name": "stdout",
          "text": [
            "Extracting ./data/MNIST/raw/t10k-labels-idx1-ubyte.gz to ./data/MNIST/raw\n",
            "\n"
          ]
        },
        {
          "output_type": "stream",
          "name": "stderr",
          "text": [
            "INFO:pytorch_lightning.callbacks.model_summary:\n",
            "  | Name    | Type        | Params\n",
            "----------------------------------------\n",
            "0 | conv1   | Conv2d      | 320   \n",
            "1 | bn1     | BatchNorm2d | 64    \n",
            "2 | conv2   | Conv2d      | 18.5 K\n",
            "3 | bn2     | BatchNorm2d | 128   \n",
            "4 | pool    | MaxPool2d   | 0     \n",
            "5 | dropout | Dropout     | 0     \n",
            "6 | fc1     | Linear      | 401 K \n",
            "7 | bn3     | BatchNorm1d | 256   \n",
            "8 | fc2     | Linear      | 1.3 K \n",
            "----------------------------------------\n",
            "422 K     Trainable params\n",
            "0         Non-trainable params\n",
            "422 K     Total params\n",
            "1.688     Total estimated model params size (MB)\n"
          ]
        },
        {
          "output_type": "display_data",
          "data": {
            "text/plain": [
              "Sanity Checking: |          | 0/? [00:00<?, ?it/s]"
            ],
            "application/vnd.jupyter.widget-view+json": {
              "version_major": 2,
              "version_minor": 0,
              "model_id": "5f9f6982e96b46e38f4bc41dd7dce382"
            }
          },
          "metadata": {}
        },
        {
          "output_type": "display_data",
          "data": {
            "text/plain": [
              "Training: |          | 0/? [00:00<?, ?it/s]"
            ],
            "application/vnd.jupyter.widget-view+json": {
              "version_major": 2,
              "version_minor": 0,
              "model_id": "7a805dbb09da499ca1d7768c15ce522f"
            }
          },
          "metadata": {}
        },
        {
          "output_type": "display_data",
          "data": {
            "text/plain": [
              "Validation: |          | 0/? [00:00<?, ?it/s]"
            ],
            "application/vnd.jupyter.widget-view+json": {
              "version_major": 2,
              "version_minor": 0,
              "model_id": "846e5378787a4f45a39cbe93d57c58ea"
            }
          },
          "metadata": {}
        },
        {
          "output_type": "display_data",
          "data": {
            "text/plain": [
              "Validation: |          | 0/? [00:00<?, ?it/s]"
            ],
            "application/vnd.jupyter.widget-view+json": {
              "version_major": 2,
              "version_minor": 0,
              "model_id": "9c908c44a4a44581ae6150f677dfb1ff"
            }
          },
          "metadata": {}
        },
        {
          "output_type": "stream",
          "name": "stderr",
          "text": [
            "INFO:pytorch_lightning.utilities.rank_zero:`Trainer.fit` stopped: `max_epochs=2` reached.\n"
          ]
        }
      ],
      "source": [
        "# 모델 학습\n",
        "trainer.fit(model, mnist_data)"
      ]
    },
    {
      "cell_type": "code",
      "execution_count": null,
      "metadata": {
        "id": "FZ1poZKHRPu-",
        "colab": {
          "base_uri": "https://localhost:8080/",
          "height": 148,
          "referenced_widgets": [
            "28f68f5fced74e2e9a9a2d9387349a2f",
            "f57fbb62045e41b29ccdc1600b18542f",
            "d0a12c56e9744e72a3cd8a72d1c1a383",
            "de8ee17c18a64ec09a0e8707a83a3fdd",
            "b5e2e5b9e85c417ea748aebeded78c89",
            "4a865963b8a44861ab38f7e6e9c18b64",
            "cf9da2e03ae542558ef4c63f8abe5377",
            "62489438ec4e48519f05e78dbb0718c1",
            "5dd71e08dce04afa987f6927e5760421",
            "e4dc777b201a470289fa8554e74ffb99",
            "7a484ed1b09a4c1ea2e25526cb68f511"
          ]
        },
        "outputId": "78c19350-1ac4-439d-fd66-4351b202788c"
      },
      "outputs": [
        {
          "output_type": "display_data",
          "data": {
            "text/plain": [
              "Testing: |          | 0/? [00:00<?, ?it/s]"
            ],
            "application/vnd.jupyter.widget-view+json": {
              "version_major": 2,
              "version_minor": 0,
              "model_id": "28f68f5fced74e2e9a9a2d9387349a2f"
            }
          },
          "metadata": {}
        },
        {
          "output_type": "display_data",
          "data": {
            "text/plain": [
              "┏━━━━━━━━━━━━━━━━━━━━━━━━━━━┳━━━━━━━━━━━━━━━━━━━━━━━━━━━┓\n",
              "┃\u001b[1m \u001b[0m\u001b[1m       Test metric       \u001b[0m\u001b[1m \u001b[0m┃\u001b[1m \u001b[0m\u001b[1m      DataLoader 0       \u001b[0m\u001b[1m \u001b[0m┃\n",
              "┡━━━━━━━━━━━━━━━━━━━━━━━━━━━╇━━━━━━━━━━━━━━━━━━━━━━━━━━━┩\n",
              "│\u001b[36m \u001b[0m\u001b[36m        test_loss        \u001b[0m\u001b[36m \u001b[0m│\u001b[35m \u001b[0m\u001b[35m   0.03159676119685173   \u001b[0m\u001b[35m \u001b[0m│\n",
              "└───────────────────────────┴───────────────────────────┘\n"
            ],
            "text/html": [
              "<pre style=\"white-space:pre;overflow-x:auto;line-height:normal;font-family:Menlo,'DejaVu Sans Mono',consolas,'Courier New',monospace\">┏━━━━━━━━━━━━━━━━━━━━━━━━━━━┳━━━━━━━━━━━━━━━━━━━━━━━━━━━┓\n",
              "┃<span style=\"font-weight: bold\">        Test metric        </span>┃<span style=\"font-weight: bold\">       DataLoader 0        </span>┃\n",
              "┡━━━━━━━━━━━━━━━━━━━━━━━━━━━╇━━━━━━━━━━━━━━━━━━━━━━━━━━━┩\n",
              "│<span style=\"color: #008080; text-decoration-color: #008080\">         test_loss         </span>│<span style=\"color: #800080; text-decoration-color: #800080\">    0.03159676119685173    </span>│\n",
              "└───────────────────────────┴───────────────────────────┘\n",
              "</pre>\n"
            ]
          },
          "metadata": {}
        },
        {
          "output_type": "execute_result",
          "data": {
            "text/plain": [
              "[{'test_loss': 0.03159676119685173}]"
            ]
          },
          "metadata": {},
          "execution_count": 10
        }
      ],
      "source": [
        "# 모델 평가\n",
        "trainer.test(model, datamodule=mnist_data)"
      ]
    }
  ],
  "metadata": {
    "colab": {
      "provenance": []
    },
    "kernelspec": {
      "display_name": "Python 3",
      "name": "python3"
    },
    "language_info": {
      "name": "python"
    },
    "widgets": {
      "application/vnd.jupyter.widget-state+json": {
        "5f9f6982e96b46e38f4bc41dd7dce382": {
          "model_module": "@jupyter-widgets/controls",
          "model_name": "HBoxModel",
          "model_module_version": "1.5.0",
          "state": {
            "_dom_classes": [],
            "_model_module": "@jupyter-widgets/controls",
            "_model_module_version": "1.5.0",
            "_model_name": "HBoxModel",
            "_view_count": null,
            "_view_module": "@jupyter-widgets/controls",
            "_view_module_version": "1.5.0",
            "_view_name": "HBoxView",
            "box_style": "",
            "children": [
              "IPY_MODEL_6f22fbd2d0fd4c01b2a10c5d3f1c343b",
              "IPY_MODEL_b7c89816451c4090b33680f5eb6c3bc8",
              "IPY_MODEL_6ca3fea4d0c9407795374006389df1f7"
            ],
            "layout": "IPY_MODEL_f8b0169038954bba967aaf62d9cb1ef2"
          }
        },
        "6f22fbd2d0fd4c01b2a10c5d3f1c343b": {
          "model_module": "@jupyter-widgets/controls",
          "model_name": "HTMLModel",
          "model_module_version": "1.5.0",
          "state": {
            "_dom_classes": [],
            "_model_module": "@jupyter-widgets/controls",
            "_model_module_version": "1.5.0",
            "_model_name": "HTMLModel",
            "_view_count": null,
            "_view_module": "@jupyter-widgets/controls",
            "_view_module_version": "1.5.0",
            "_view_name": "HTMLView",
            "description": "",
            "description_tooltip": null,
            "layout": "IPY_MODEL_7a679971426e4698aa06f959c799a5fe",
            "placeholder": "​",
            "style": "IPY_MODEL_4d532f0fb0064e16a1f4099e2225d884",
            "value": "Sanity Checking DataLoader 0: 100%"
          }
        },
        "b7c89816451c4090b33680f5eb6c3bc8": {
          "model_module": "@jupyter-widgets/controls",
          "model_name": "FloatProgressModel",
          "model_module_version": "1.5.0",
          "state": {
            "_dom_classes": [],
            "_model_module": "@jupyter-widgets/controls",
            "_model_module_version": "1.5.0",
            "_model_name": "FloatProgressModel",
            "_view_count": null,
            "_view_module": "@jupyter-widgets/controls",
            "_view_module_version": "1.5.0",
            "_view_name": "ProgressView",
            "bar_style": "",
            "description": "",
            "description_tooltip": null,
            "layout": "IPY_MODEL_71a7410721474371bbe507200827d429",
            "max": 2,
            "min": 0,
            "orientation": "horizontal",
            "style": "IPY_MODEL_b5e27cc2af3c4a98ae400d44f9cea8f8",
            "value": 2
          }
        },
        "6ca3fea4d0c9407795374006389df1f7": {
          "model_module": "@jupyter-widgets/controls",
          "model_name": "HTMLModel",
          "model_module_version": "1.5.0",
          "state": {
            "_dom_classes": [],
            "_model_module": "@jupyter-widgets/controls",
            "_model_module_version": "1.5.0",
            "_model_name": "HTMLModel",
            "_view_count": null,
            "_view_module": "@jupyter-widgets/controls",
            "_view_module_version": "1.5.0",
            "_view_name": "HTMLView",
            "description": "",
            "description_tooltip": null,
            "layout": "IPY_MODEL_b364f20792c14af0b97486068b6676ff",
            "placeholder": "​",
            "style": "IPY_MODEL_046c8361e3904fb196d352d5e9ca0ce5",
            "value": " 2/2 [00:00&lt;00:00,  9.81it/s]"
          }
        },
        "f8b0169038954bba967aaf62d9cb1ef2": {
          "model_module": "@jupyter-widgets/base",
          "model_name": "LayoutModel",
          "model_module_version": "1.2.0",
          "state": {
            "_model_module": "@jupyter-widgets/base",
            "_model_module_version": "1.2.0",
            "_model_name": "LayoutModel",
            "_view_count": null,
            "_view_module": "@jupyter-widgets/base",
            "_view_module_version": "1.2.0",
            "_view_name": "LayoutView",
            "align_content": null,
            "align_items": null,
            "align_self": null,
            "border": null,
            "bottom": null,
            "display": "inline-flex",
            "flex": null,
            "flex_flow": "row wrap",
            "grid_area": null,
            "grid_auto_columns": null,
            "grid_auto_flow": null,
            "grid_auto_rows": null,
            "grid_column": null,
            "grid_gap": null,
            "grid_row": null,
            "grid_template_areas": null,
            "grid_template_columns": null,
            "grid_template_rows": null,
            "height": null,
            "justify_content": null,
            "justify_items": null,
            "left": null,
            "margin": null,
            "max_height": null,
            "max_width": null,
            "min_height": null,
            "min_width": null,
            "object_fit": null,
            "object_position": null,
            "order": null,
            "overflow": null,
            "overflow_x": null,
            "overflow_y": null,
            "padding": null,
            "right": null,
            "top": null,
            "visibility": "hidden",
            "width": "100%"
          }
        },
        "7a679971426e4698aa06f959c799a5fe": {
          "model_module": "@jupyter-widgets/base",
          "model_name": "LayoutModel",
          "model_module_version": "1.2.0",
          "state": {
            "_model_module": "@jupyter-widgets/base",
            "_model_module_version": "1.2.0",
            "_model_name": "LayoutModel",
            "_view_count": null,
            "_view_module": "@jupyter-widgets/base",
            "_view_module_version": "1.2.0",
            "_view_name": "LayoutView",
            "align_content": null,
            "align_items": null,
            "align_self": null,
            "border": null,
            "bottom": null,
            "display": null,
            "flex": null,
            "flex_flow": null,
            "grid_area": null,
            "grid_auto_columns": null,
            "grid_auto_flow": null,
            "grid_auto_rows": null,
            "grid_column": null,
            "grid_gap": null,
            "grid_row": null,
            "grid_template_areas": null,
            "grid_template_columns": null,
            "grid_template_rows": null,
            "height": null,
            "justify_content": null,
            "justify_items": null,
            "left": null,
            "margin": null,
            "max_height": null,
            "max_width": null,
            "min_height": null,
            "min_width": null,
            "object_fit": null,
            "object_position": null,
            "order": null,
            "overflow": null,
            "overflow_x": null,
            "overflow_y": null,
            "padding": null,
            "right": null,
            "top": null,
            "visibility": null,
            "width": null
          }
        },
        "4d532f0fb0064e16a1f4099e2225d884": {
          "model_module": "@jupyter-widgets/controls",
          "model_name": "DescriptionStyleModel",
          "model_module_version": "1.5.0",
          "state": {
            "_model_module": "@jupyter-widgets/controls",
            "_model_module_version": "1.5.0",
            "_model_name": "DescriptionStyleModel",
            "_view_count": null,
            "_view_module": "@jupyter-widgets/base",
            "_view_module_version": "1.2.0",
            "_view_name": "StyleView",
            "description_width": ""
          }
        },
        "71a7410721474371bbe507200827d429": {
          "model_module": "@jupyter-widgets/base",
          "model_name": "LayoutModel",
          "model_module_version": "1.2.0",
          "state": {
            "_model_module": "@jupyter-widgets/base",
            "_model_module_version": "1.2.0",
            "_model_name": "LayoutModel",
            "_view_count": null,
            "_view_module": "@jupyter-widgets/base",
            "_view_module_version": "1.2.0",
            "_view_name": "LayoutView",
            "align_content": null,
            "align_items": null,
            "align_self": null,
            "border": null,
            "bottom": null,
            "display": null,
            "flex": "2",
            "flex_flow": null,
            "grid_area": null,
            "grid_auto_columns": null,
            "grid_auto_flow": null,
            "grid_auto_rows": null,
            "grid_column": null,
            "grid_gap": null,
            "grid_row": null,
            "grid_template_areas": null,
            "grid_template_columns": null,
            "grid_template_rows": null,
            "height": null,
            "justify_content": null,
            "justify_items": null,
            "left": null,
            "margin": null,
            "max_height": null,
            "max_width": null,
            "min_height": null,
            "min_width": null,
            "object_fit": null,
            "object_position": null,
            "order": null,
            "overflow": null,
            "overflow_x": null,
            "overflow_y": null,
            "padding": null,
            "right": null,
            "top": null,
            "visibility": null,
            "width": null
          }
        },
        "b5e27cc2af3c4a98ae400d44f9cea8f8": {
          "model_module": "@jupyter-widgets/controls",
          "model_name": "ProgressStyleModel",
          "model_module_version": "1.5.0",
          "state": {
            "_model_module": "@jupyter-widgets/controls",
            "_model_module_version": "1.5.0",
            "_model_name": "ProgressStyleModel",
            "_view_count": null,
            "_view_module": "@jupyter-widgets/base",
            "_view_module_version": "1.2.0",
            "_view_name": "StyleView",
            "bar_color": null,
            "description_width": ""
          }
        },
        "b364f20792c14af0b97486068b6676ff": {
          "model_module": "@jupyter-widgets/base",
          "model_name": "LayoutModel",
          "model_module_version": "1.2.0",
          "state": {
            "_model_module": "@jupyter-widgets/base",
            "_model_module_version": "1.2.0",
            "_model_name": "LayoutModel",
            "_view_count": null,
            "_view_module": "@jupyter-widgets/base",
            "_view_module_version": "1.2.0",
            "_view_name": "LayoutView",
            "align_content": null,
            "align_items": null,
            "align_self": null,
            "border": null,
            "bottom": null,
            "display": null,
            "flex": null,
            "flex_flow": null,
            "grid_area": null,
            "grid_auto_columns": null,
            "grid_auto_flow": null,
            "grid_auto_rows": null,
            "grid_column": null,
            "grid_gap": null,
            "grid_row": null,
            "grid_template_areas": null,
            "grid_template_columns": null,
            "grid_template_rows": null,
            "height": null,
            "justify_content": null,
            "justify_items": null,
            "left": null,
            "margin": null,
            "max_height": null,
            "max_width": null,
            "min_height": null,
            "min_width": null,
            "object_fit": null,
            "object_position": null,
            "order": null,
            "overflow": null,
            "overflow_x": null,
            "overflow_y": null,
            "padding": null,
            "right": null,
            "top": null,
            "visibility": null,
            "width": null
          }
        },
        "046c8361e3904fb196d352d5e9ca0ce5": {
          "model_module": "@jupyter-widgets/controls",
          "model_name": "DescriptionStyleModel",
          "model_module_version": "1.5.0",
          "state": {
            "_model_module": "@jupyter-widgets/controls",
            "_model_module_version": "1.5.0",
            "_model_name": "DescriptionStyleModel",
            "_view_count": null,
            "_view_module": "@jupyter-widgets/base",
            "_view_module_version": "1.2.0",
            "_view_name": "StyleView",
            "description_width": ""
          }
        },
        "7a805dbb09da499ca1d7768c15ce522f": {
          "model_module": "@jupyter-widgets/controls",
          "model_name": "HBoxModel",
          "model_module_version": "1.5.0",
          "state": {
            "_dom_classes": [],
            "_model_module": "@jupyter-widgets/controls",
            "_model_module_version": "1.5.0",
            "_model_name": "HBoxModel",
            "_view_count": null,
            "_view_module": "@jupyter-widgets/controls",
            "_view_module_version": "1.5.0",
            "_view_name": "HBoxView",
            "box_style": "",
            "children": [
              "IPY_MODEL_f5cf4eb6f0cc4d7badb249262fbd2cea",
              "IPY_MODEL_34d5ab0bcd344c179fe6ea17838d1fab",
              "IPY_MODEL_670dabcae049406c95087b3dbbce3aec"
            ],
            "layout": "IPY_MODEL_5a2f3c755e3a400c840db3ed6d826642"
          }
        },
        "f5cf4eb6f0cc4d7badb249262fbd2cea": {
          "model_module": "@jupyter-widgets/controls",
          "model_name": "HTMLModel",
          "model_module_version": "1.5.0",
          "state": {
            "_dom_classes": [],
            "_model_module": "@jupyter-widgets/controls",
            "_model_module_version": "1.5.0",
            "_model_name": "HTMLModel",
            "_view_count": null,
            "_view_module": "@jupyter-widgets/controls",
            "_view_module_version": "1.5.0",
            "_view_name": "HTMLView",
            "description": "",
            "description_tooltip": null,
            "layout": "IPY_MODEL_52db9923867e4787ad0e8c06a960c5f2",
            "placeholder": "​",
            "style": "IPY_MODEL_b42fac2a54434b4b8d34c4ef8155aa68",
            "value": "Epoch 1: 100%"
          }
        },
        "34d5ab0bcd344c179fe6ea17838d1fab": {
          "model_module": "@jupyter-widgets/controls",
          "model_name": "FloatProgressModel",
          "model_module_version": "1.5.0",
          "state": {
            "_dom_classes": [],
            "_model_module": "@jupyter-widgets/controls",
            "_model_module_version": "1.5.0",
            "_model_name": "FloatProgressModel",
            "_view_count": null,
            "_view_module": "@jupyter-widgets/controls",
            "_view_module_version": "1.5.0",
            "_view_name": "ProgressView",
            "bar_style": "success",
            "description": "",
            "description_tooltip": null,
            "layout": "IPY_MODEL_bb4df46937b541ef88490b99bb7c8499",
            "max": 1719,
            "min": 0,
            "orientation": "horizontal",
            "style": "IPY_MODEL_beb76ea5a6a54c799568e2fdbadcf0b8",
            "value": 1719
          }
        },
        "670dabcae049406c95087b3dbbce3aec": {
          "model_module": "@jupyter-widgets/controls",
          "model_name": "HTMLModel",
          "model_module_version": "1.5.0",
          "state": {
            "_dom_classes": [],
            "_model_module": "@jupyter-widgets/controls",
            "_model_module_version": "1.5.0",
            "_model_name": "HTMLModel",
            "_view_count": null,
            "_view_module": "@jupyter-widgets/controls",
            "_view_module_version": "1.5.0",
            "_view_name": "HTMLView",
            "description": "",
            "description_tooltip": null,
            "layout": "IPY_MODEL_d78f4d56c9874f6986bf471c8da3b442",
            "placeholder": "​",
            "style": "IPY_MODEL_cdd6933bd59a4047a75881cd169eb909",
            "value": " 1719/1719 [02:14&lt;00:00, 12.77it/s, v_num=0]"
          }
        },
        "5a2f3c755e3a400c840db3ed6d826642": {
          "model_module": "@jupyter-widgets/base",
          "model_name": "LayoutModel",
          "model_module_version": "1.2.0",
          "state": {
            "_model_module": "@jupyter-widgets/base",
            "_model_module_version": "1.2.0",
            "_model_name": "LayoutModel",
            "_view_count": null,
            "_view_module": "@jupyter-widgets/base",
            "_view_module_version": "1.2.0",
            "_view_name": "LayoutView",
            "align_content": null,
            "align_items": null,
            "align_self": null,
            "border": null,
            "bottom": null,
            "display": "inline-flex",
            "flex": null,
            "flex_flow": "row wrap",
            "grid_area": null,
            "grid_auto_columns": null,
            "grid_auto_flow": null,
            "grid_auto_rows": null,
            "grid_column": null,
            "grid_gap": null,
            "grid_row": null,
            "grid_template_areas": null,
            "grid_template_columns": null,
            "grid_template_rows": null,
            "height": null,
            "justify_content": null,
            "justify_items": null,
            "left": null,
            "margin": null,
            "max_height": null,
            "max_width": null,
            "min_height": null,
            "min_width": null,
            "object_fit": null,
            "object_position": null,
            "order": null,
            "overflow": null,
            "overflow_x": null,
            "overflow_y": null,
            "padding": null,
            "right": null,
            "top": null,
            "visibility": null,
            "width": "100%"
          }
        },
        "52db9923867e4787ad0e8c06a960c5f2": {
          "model_module": "@jupyter-widgets/base",
          "model_name": "LayoutModel",
          "model_module_version": "1.2.0",
          "state": {
            "_model_module": "@jupyter-widgets/base",
            "_model_module_version": "1.2.0",
            "_model_name": "LayoutModel",
            "_view_count": null,
            "_view_module": "@jupyter-widgets/base",
            "_view_module_version": "1.2.0",
            "_view_name": "LayoutView",
            "align_content": null,
            "align_items": null,
            "align_self": null,
            "border": null,
            "bottom": null,
            "display": null,
            "flex": null,
            "flex_flow": null,
            "grid_area": null,
            "grid_auto_columns": null,
            "grid_auto_flow": null,
            "grid_auto_rows": null,
            "grid_column": null,
            "grid_gap": null,
            "grid_row": null,
            "grid_template_areas": null,
            "grid_template_columns": null,
            "grid_template_rows": null,
            "height": null,
            "justify_content": null,
            "justify_items": null,
            "left": null,
            "margin": null,
            "max_height": null,
            "max_width": null,
            "min_height": null,
            "min_width": null,
            "object_fit": null,
            "object_position": null,
            "order": null,
            "overflow": null,
            "overflow_x": null,
            "overflow_y": null,
            "padding": null,
            "right": null,
            "top": null,
            "visibility": null,
            "width": null
          }
        },
        "b42fac2a54434b4b8d34c4ef8155aa68": {
          "model_module": "@jupyter-widgets/controls",
          "model_name": "DescriptionStyleModel",
          "model_module_version": "1.5.0",
          "state": {
            "_model_module": "@jupyter-widgets/controls",
            "_model_module_version": "1.5.0",
            "_model_name": "DescriptionStyleModel",
            "_view_count": null,
            "_view_module": "@jupyter-widgets/base",
            "_view_module_version": "1.2.0",
            "_view_name": "StyleView",
            "description_width": ""
          }
        },
        "bb4df46937b541ef88490b99bb7c8499": {
          "model_module": "@jupyter-widgets/base",
          "model_name": "LayoutModel",
          "model_module_version": "1.2.0",
          "state": {
            "_model_module": "@jupyter-widgets/base",
            "_model_module_version": "1.2.0",
            "_model_name": "LayoutModel",
            "_view_count": null,
            "_view_module": "@jupyter-widgets/base",
            "_view_module_version": "1.2.0",
            "_view_name": "LayoutView",
            "align_content": null,
            "align_items": null,
            "align_self": null,
            "border": null,
            "bottom": null,
            "display": null,
            "flex": "2",
            "flex_flow": null,
            "grid_area": null,
            "grid_auto_columns": null,
            "grid_auto_flow": null,
            "grid_auto_rows": null,
            "grid_column": null,
            "grid_gap": null,
            "grid_row": null,
            "grid_template_areas": null,
            "grid_template_columns": null,
            "grid_template_rows": null,
            "height": null,
            "justify_content": null,
            "justify_items": null,
            "left": null,
            "margin": null,
            "max_height": null,
            "max_width": null,
            "min_height": null,
            "min_width": null,
            "object_fit": null,
            "object_position": null,
            "order": null,
            "overflow": null,
            "overflow_x": null,
            "overflow_y": null,
            "padding": null,
            "right": null,
            "top": null,
            "visibility": null,
            "width": null
          }
        },
        "beb76ea5a6a54c799568e2fdbadcf0b8": {
          "model_module": "@jupyter-widgets/controls",
          "model_name": "ProgressStyleModel",
          "model_module_version": "1.5.0",
          "state": {
            "_model_module": "@jupyter-widgets/controls",
            "_model_module_version": "1.5.0",
            "_model_name": "ProgressStyleModel",
            "_view_count": null,
            "_view_module": "@jupyter-widgets/base",
            "_view_module_version": "1.2.0",
            "_view_name": "StyleView",
            "bar_color": null,
            "description_width": ""
          }
        },
        "d78f4d56c9874f6986bf471c8da3b442": {
          "model_module": "@jupyter-widgets/base",
          "model_name": "LayoutModel",
          "model_module_version": "1.2.0",
          "state": {
            "_model_module": "@jupyter-widgets/base",
            "_model_module_version": "1.2.0",
            "_model_name": "LayoutModel",
            "_view_count": null,
            "_view_module": "@jupyter-widgets/base",
            "_view_module_version": "1.2.0",
            "_view_name": "LayoutView",
            "align_content": null,
            "align_items": null,
            "align_self": null,
            "border": null,
            "bottom": null,
            "display": null,
            "flex": null,
            "flex_flow": null,
            "grid_area": null,
            "grid_auto_columns": null,
            "grid_auto_flow": null,
            "grid_auto_rows": null,
            "grid_column": null,
            "grid_gap": null,
            "grid_row": null,
            "grid_template_areas": null,
            "grid_template_columns": null,
            "grid_template_rows": null,
            "height": null,
            "justify_content": null,
            "justify_items": null,
            "left": null,
            "margin": null,
            "max_height": null,
            "max_width": null,
            "min_height": null,
            "min_width": null,
            "object_fit": null,
            "object_position": null,
            "order": null,
            "overflow": null,
            "overflow_x": null,
            "overflow_y": null,
            "padding": null,
            "right": null,
            "top": null,
            "visibility": null,
            "width": null
          }
        },
        "cdd6933bd59a4047a75881cd169eb909": {
          "model_module": "@jupyter-widgets/controls",
          "model_name": "DescriptionStyleModel",
          "model_module_version": "1.5.0",
          "state": {
            "_model_module": "@jupyter-widgets/controls",
            "_model_module_version": "1.5.0",
            "_model_name": "DescriptionStyleModel",
            "_view_count": null,
            "_view_module": "@jupyter-widgets/base",
            "_view_module_version": "1.2.0",
            "_view_name": "StyleView",
            "description_width": ""
          }
        },
        "846e5378787a4f45a39cbe93d57c58ea": {
          "model_module": "@jupyter-widgets/controls",
          "model_name": "HBoxModel",
          "model_module_version": "1.5.0",
          "state": {
            "_dom_classes": [],
            "_model_module": "@jupyter-widgets/controls",
            "_model_module_version": "1.5.0",
            "_model_name": "HBoxModel",
            "_view_count": null,
            "_view_module": "@jupyter-widgets/controls",
            "_view_module_version": "1.5.0",
            "_view_name": "HBoxView",
            "box_style": "",
            "children": [
              "IPY_MODEL_fbd72d5e295a4122b6fda5bfc06a563b",
              "IPY_MODEL_0c6c6ea0d1dc4b61b34587c55ca48c7f",
              "IPY_MODEL_61bc38518fdc4765831644d9397a80e9"
            ],
            "layout": "IPY_MODEL_1ff7f88e66ba4aad94749e5af2d52b50"
          }
        },
        "fbd72d5e295a4122b6fda5bfc06a563b": {
          "model_module": "@jupyter-widgets/controls",
          "model_name": "HTMLModel",
          "model_module_version": "1.5.0",
          "state": {
            "_dom_classes": [],
            "_model_module": "@jupyter-widgets/controls",
            "_model_module_version": "1.5.0",
            "_model_name": "HTMLModel",
            "_view_count": null,
            "_view_module": "@jupyter-widgets/controls",
            "_view_module_version": "1.5.0",
            "_view_name": "HTMLView",
            "description": "",
            "description_tooltip": null,
            "layout": "IPY_MODEL_0cf2ec0a32314d85a005197650a85fe0",
            "placeholder": "​",
            "style": "IPY_MODEL_64dd6aa5f3ff4540b9d5ec914b751c8d",
            "value": "Validation DataLoader 0: 100%"
          }
        },
        "0c6c6ea0d1dc4b61b34587c55ca48c7f": {
          "model_module": "@jupyter-widgets/controls",
          "model_name": "FloatProgressModel",
          "model_module_version": "1.5.0",
          "state": {
            "_dom_classes": [],
            "_model_module": "@jupyter-widgets/controls",
            "_model_module_version": "1.5.0",
            "_model_name": "FloatProgressModel",
            "_view_count": null,
            "_view_module": "@jupyter-widgets/controls",
            "_view_module_version": "1.5.0",
            "_view_name": "ProgressView",
            "bar_style": "",
            "description": "",
            "description_tooltip": null,
            "layout": "IPY_MODEL_1f1a1e238ed44b51924a535ee37c9207",
            "max": 157,
            "min": 0,
            "orientation": "horizontal",
            "style": "IPY_MODEL_b75aebdd752640d0b498b8f69f5765fb",
            "value": 157
          }
        },
        "61bc38518fdc4765831644d9397a80e9": {
          "model_module": "@jupyter-widgets/controls",
          "model_name": "HTMLModel",
          "model_module_version": "1.5.0",
          "state": {
            "_dom_classes": [],
            "_model_module": "@jupyter-widgets/controls",
            "_model_module_version": "1.5.0",
            "_model_name": "HTMLModel",
            "_view_count": null,
            "_view_module": "@jupyter-widgets/controls",
            "_view_module_version": "1.5.0",
            "_view_name": "HTMLView",
            "description": "",
            "description_tooltip": null,
            "layout": "IPY_MODEL_f67ed217300d40bc80f22e9f8e8bdbb4",
            "placeholder": "​",
            "style": "IPY_MODEL_3b7a5c878f384aebafb7c69c1bdd0474",
            "value": " 157/157 [00:05&lt;00:00, 30.64it/s]"
          }
        },
        "1ff7f88e66ba4aad94749e5af2d52b50": {
          "model_module": "@jupyter-widgets/base",
          "model_name": "LayoutModel",
          "model_module_version": "1.2.0",
          "state": {
            "_model_module": "@jupyter-widgets/base",
            "_model_module_version": "1.2.0",
            "_model_name": "LayoutModel",
            "_view_count": null,
            "_view_module": "@jupyter-widgets/base",
            "_view_module_version": "1.2.0",
            "_view_name": "LayoutView",
            "align_content": null,
            "align_items": null,
            "align_self": null,
            "border": null,
            "bottom": null,
            "display": "inline-flex",
            "flex": null,
            "flex_flow": "row wrap",
            "grid_area": null,
            "grid_auto_columns": null,
            "grid_auto_flow": null,
            "grid_auto_rows": null,
            "grid_column": null,
            "grid_gap": null,
            "grid_row": null,
            "grid_template_areas": null,
            "grid_template_columns": null,
            "grid_template_rows": null,
            "height": null,
            "justify_content": null,
            "justify_items": null,
            "left": null,
            "margin": null,
            "max_height": null,
            "max_width": null,
            "min_height": null,
            "min_width": null,
            "object_fit": null,
            "object_position": null,
            "order": null,
            "overflow": null,
            "overflow_x": null,
            "overflow_y": null,
            "padding": null,
            "right": null,
            "top": null,
            "visibility": "hidden",
            "width": "100%"
          }
        },
        "0cf2ec0a32314d85a005197650a85fe0": {
          "model_module": "@jupyter-widgets/base",
          "model_name": "LayoutModel",
          "model_module_version": "1.2.0",
          "state": {
            "_model_module": "@jupyter-widgets/base",
            "_model_module_version": "1.2.0",
            "_model_name": "LayoutModel",
            "_view_count": null,
            "_view_module": "@jupyter-widgets/base",
            "_view_module_version": "1.2.0",
            "_view_name": "LayoutView",
            "align_content": null,
            "align_items": null,
            "align_self": null,
            "border": null,
            "bottom": null,
            "display": null,
            "flex": null,
            "flex_flow": null,
            "grid_area": null,
            "grid_auto_columns": null,
            "grid_auto_flow": null,
            "grid_auto_rows": null,
            "grid_column": null,
            "grid_gap": null,
            "grid_row": null,
            "grid_template_areas": null,
            "grid_template_columns": null,
            "grid_template_rows": null,
            "height": null,
            "justify_content": null,
            "justify_items": null,
            "left": null,
            "margin": null,
            "max_height": null,
            "max_width": null,
            "min_height": null,
            "min_width": null,
            "object_fit": null,
            "object_position": null,
            "order": null,
            "overflow": null,
            "overflow_x": null,
            "overflow_y": null,
            "padding": null,
            "right": null,
            "top": null,
            "visibility": null,
            "width": null
          }
        },
        "64dd6aa5f3ff4540b9d5ec914b751c8d": {
          "model_module": "@jupyter-widgets/controls",
          "model_name": "DescriptionStyleModel",
          "model_module_version": "1.5.0",
          "state": {
            "_model_module": "@jupyter-widgets/controls",
            "_model_module_version": "1.5.0",
            "_model_name": "DescriptionStyleModel",
            "_view_count": null,
            "_view_module": "@jupyter-widgets/base",
            "_view_module_version": "1.2.0",
            "_view_name": "StyleView",
            "description_width": ""
          }
        },
        "1f1a1e238ed44b51924a535ee37c9207": {
          "model_module": "@jupyter-widgets/base",
          "model_name": "LayoutModel",
          "model_module_version": "1.2.0",
          "state": {
            "_model_module": "@jupyter-widgets/base",
            "_model_module_version": "1.2.0",
            "_model_name": "LayoutModel",
            "_view_count": null,
            "_view_module": "@jupyter-widgets/base",
            "_view_module_version": "1.2.0",
            "_view_name": "LayoutView",
            "align_content": null,
            "align_items": null,
            "align_self": null,
            "border": null,
            "bottom": null,
            "display": null,
            "flex": "2",
            "flex_flow": null,
            "grid_area": null,
            "grid_auto_columns": null,
            "grid_auto_flow": null,
            "grid_auto_rows": null,
            "grid_column": null,
            "grid_gap": null,
            "grid_row": null,
            "grid_template_areas": null,
            "grid_template_columns": null,
            "grid_template_rows": null,
            "height": null,
            "justify_content": null,
            "justify_items": null,
            "left": null,
            "margin": null,
            "max_height": null,
            "max_width": null,
            "min_height": null,
            "min_width": null,
            "object_fit": null,
            "object_position": null,
            "order": null,
            "overflow": null,
            "overflow_x": null,
            "overflow_y": null,
            "padding": null,
            "right": null,
            "top": null,
            "visibility": null,
            "width": null
          }
        },
        "b75aebdd752640d0b498b8f69f5765fb": {
          "model_module": "@jupyter-widgets/controls",
          "model_name": "ProgressStyleModel",
          "model_module_version": "1.5.0",
          "state": {
            "_model_module": "@jupyter-widgets/controls",
            "_model_module_version": "1.5.0",
            "_model_name": "ProgressStyleModel",
            "_view_count": null,
            "_view_module": "@jupyter-widgets/base",
            "_view_module_version": "1.2.0",
            "_view_name": "StyleView",
            "bar_color": null,
            "description_width": ""
          }
        },
        "f67ed217300d40bc80f22e9f8e8bdbb4": {
          "model_module": "@jupyter-widgets/base",
          "model_name": "LayoutModel",
          "model_module_version": "1.2.0",
          "state": {
            "_model_module": "@jupyter-widgets/base",
            "_model_module_version": "1.2.0",
            "_model_name": "LayoutModel",
            "_view_count": null,
            "_view_module": "@jupyter-widgets/base",
            "_view_module_version": "1.2.0",
            "_view_name": "LayoutView",
            "align_content": null,
            "align_items": null,
            "align_self": null,
            "border": null,
            "bottom": null,
            "display": null,
            "flex": null,
            "flex_flow": null,
            "grid_area": null,
            "grid_auto_columns": null,
            "grid_auto_flow": null,
            "grid_auto_rows": null,
            "grid_column": null,
            "grid_gap": null,
            "grid_row": null,
            "grid_template_areas": null,
            "grid_template_columns": null,
            "grid_template_rows": null,
            "height": null,
            "justify_content": null,
            "justify_items": null,
            "left": null,
            "margin": null,
            "max_height": null,
            "max_width": null,
            "min_height": null,
            "min_width": null,
            "object_fit": null,
            "object_position": null,
            "order": null,
            "overflow": null,
            "overflow_x": null,
            "overflow_y": null,
            "padding": null,
            "right": null,
            "top": null,
            "visibility": null,
            "width": null
          }
        },
        "3b7a5c878f384aebafb7c69c1bdd0474": {
          "model_module": "@jupyter-widgets/controls",
          "model_name": "DescriptionStyleModel",
          "model_module_version": "1.5.0",
          "state": {
            "_model_module": "@jupyter-widgets/controls",
            "_model_module_version": "1.5.0",
            "_model_name": "DescriptionStyleModel",
            "_view_count": null,
            "_view_module": "@jupyter-widgets/base",
            "_view_module_version": "1.2.0",
            "_view_name": "StyleView",
            "description_width": ""
          }
        },
        "9c908c44a4a44581ae6150f677dfb1ff": {
          "model_module": "@jupyter-widgets/controls",
          "model_name": "HBoxModel",
          "model_module_version": "1.5.0",
          "state": {
            "_dom_classes": [],
            "_model_module": "@jupyter-widgets/controls",
            "_model_module_version": "1.5.0",
            "_model_name": "HBoxModel",
            "_view_count": null,
            "_view_module": "@jupyter-widgets/controls",
            "_view_module_version": "1.5.0",
            "_view_name": "HBoxView",
            "box_style": "",
            "children": [
              "IPY_MODEL_6a8d9d446ee046c5941f2957b4538405",
              "IPY_MODEL_fc4bde67c9014cbea66f7b65ac2960f0",
              "IPY_MODEL_4b364e05cabe4889a9d4b4a713b749a5"
            ],
            "layout": "IPY_MODEL_663f690004e647a7b4e284c78deaef48"
          }
        },
        "6a8d9d446ee046c5941f2957b4538405": {
          "model_module": "@jupyter-widgets/controls",
          "model_name": "HTMLModel",
          "model_module_version": "1.5.0",
          "state": {
            "_dom_classes": [],
            "_model_module": "@jupyter-widgets/controls",
            "_model_module_version": "1.5.0",
            "_model_name": "HTMLModel",
            "_view_count": null,
            "_view_module": "@jupyter-widgets/controls",
            "_view_module_version": "1.5.0",
            "_view_name": "HTMLView",
            "description": "",
            "description_tooltip": null,
            "layout": "IPY_MODEL_b0d919d0ac1041cb822c0528f200ad70",
            "placeholder": "​",
            "style": "IPY_MODEL_3f441463975543f094a56333880591f0",
            "value": "Validation DataLoader 0: 100%"
          }
        },
        "fc4bde67c9014cbea66f7b65ac2960f0": {
          "model_module": "@jupyter-widgets/controls",
          "model_name": "FloatProgressModel",
          "model_module_version": "1.5.0",
          "state": {
            "_dom_classes": [],
            "_model_module": "@jupyter-widgets/controls",
            "_model_module_version": "1.5.0",
            "_model_name": "FloatProgressModel",
            "_view_count": null,
            "_view_module": "@jupyter-widgets/controls",
            "_view_module_version": "1.5.0",
            "_view_name": "ProgressView",
            "bar_style": "",
            "description": "",
            "description_tooltip": null,
            "layout": "IPY_MODEL_8045a54e5e0e43028a6a97455c556429",
            "max": 157,
            "min": 0,
            "orientation": "horizontal",
            "style": "IPY_MODEL_285cbf94053141fa935efd409a67e14a",
            "value": 157
          }
        },
        "4b364e05cabe4889a9d4b4a713b749a5": {
          "model_module": "@jupyter-widgets/controls",
          "model_name": "HTMLModel",
          "model_module_version": "1.5.0",
          "state": {
            "_dom_classes": [],
            "_model_module": "@jupyter-widgets/controls",
            "_model_module_version": "1.5.0",
            "_model_name": "HTMLModel",
            "_view_count": null,
            "_view_module": "@jupyter-widgets/controls",
            "_view_module_version": "1.5.0",
            "_view_name": "HTMLView",
            "description": "",
            "description_tooltip": null,
            "layout": "IPY_MODEL_2886ac2f529e45d288c89e07bc5d7c5d",
            "placeholder": "​",
            "style": "IPY_MODEL_6a8508ccd1074588ba5547898ac82077",
            "value": " 157/157 [00:06&lt;00:00, 25.50it/s]"
          }
        },
        "663f690004e647a7b4e284c78deaef48": {
          "model_module": "@jupyter-widgets/base",
          "model_name": "LayoutModel",
          "model_module_version": "1.2.0",
          "state": {
            "_model_module": "@jupyter-widgets/base",
            "_model_module_version": "1.2.0",
            "_model_name": "LayoutModel",
            "_view_count": null,
            "_view_module": "@jupyter-widgets/base",
            "_view_module_version": "1.2.0",
            "_view_name": "LayoutView",
            "align_content": null,
            "align_items": null,
            "align_self": null,
            "border": null,
            "bottom": null,
            "display": "inline-flex",
            "flex": null,
            "flex_flow": "row wrap",
            "grid_area": null,
            "grid_auto_columns": null,
            "grid_auto_flow": null,
            "grid_auto_rows": null,
            "grid_column": null,
            "grid_gap": null,
            "grid_row": null,
            "grid_template_areas": null,
            "grid_template_columns": null,
            "grid_template_rows": null,
            "height": null,
            "justify_content": null,
            "justify_items": null,
            "left": null,
            "margin": null,
            "max_height": null,
            "max_width": null,
            "min_height": null,
            "min_width": null,
            "object_fit": null,
            "object_position": null,
            "order": null,
            "overflow": null,
            "overflow_x": null,
            "overflow_y": null,
            "padding": null,
            "right": null,
            "top": null,
            "visibility": "hidden",
            "width": "100%"
          }
        },
        "b0d919d0ac1041cb822c0528f200ad70": {
          "model_module": "@jupyter-widgets/base",
          "model_name": "LayoutModel",
          "model_module_version": "1.2.0",
          "state": {
            "_model_module": "@jupyter-widgets/base",
            "_model_module_version": "1.2.0",
            "_model_name": "LayoutModel",
            "_view_count": null,
            "_view_module": "@jupyter-widgets/base",
            "_view_module_version": "1.2.0",
            "_view_name": "LayoutView",
            "align_content": null,
            "align_items": null,
            "align_self": null,
            "border": null,
            "bottom": null,
            "display": null,
            "flex": null,
            "flex_flow": null,
            "grid_area": null,
            "grid_auto_columns": null,
            "grid_auto_flow": null,
            "grid_auto_rows": null,
            "grid_column": null,
            "grid_gap": null,
            "grid_row": null,
            "grid_template_areas": null,
            "grid_template_columns": null,
            "grid_template_rows": null,
            "height": null,
            "justify_content": null,
            "justify_items": null,
            "left": null,
            "margin": null,
            "max_height": null,
            "max_width": null,
            "min_height": null,
            "min_width": null,
            "object_fit": null,
            "object_position": null,
            "order": null,
            "overflow": null,
            "overflow_x": null,
            "overflow_y": null,
            "padding": null,
            "right": null,
            "top": null,
            "visibility": null,
            "width": null
          }
        },
        "3f441463975543f094a56333880591f0": {
          "model_module": "@jupyter-widgets/controls",
          "model_name": "DescriptionStyleModel",
          "model_module_version": "1.5.0",
          "state": {
            "_model_module": "@jupyter-widgets/controls",
            "_model_module_version": "1.5.0",
            "_model_name": "DescriptionStyleModel",
            "_view_count": null,
            "_view_module": "@jupyter-widgets/base",
            "_view_module_version": "1.2.0",
            "_view_name": "StyleView",
            "description_width": ""
          }
        },
        "8045a54e5e0e43028a6a97455c556429": {
          "model_module": "@jupyter-widgets/base",
          "model_name": "LayoutModel",
          "model_module_version": "1.2.0",
          "state": {
            "_model_module": "@jupyter-widgets/base",
            "_model_module_version": "1.2.0",
            "_model_name": "LayoutModel",
            "_view_count": null,
            "_view_module": "@jupyter-widgets/base",
            "_view_module_version": "1.2.0",
            "_view_name": "LayoutView",
            "align_content": null,
            "align_items": null,
            "align_self": null,
            "border": null,
            "bottom": null,
            "display": null,
            "flex": "2",
            "flex_flow": null,
            "grid_area": null,
            "grid_auto_columns": null,
            "grid_auto_flow": null,
            "grid_auto_rows": null,
            "grid_column": null,
            "grid_gap": null,
            "grid_row": null,
            "grid_template_areas": null,
            "grid_template_columns": null,
            "grid_template_rows": null,
            "height": null,
            "justify_content": null,
            "justify_items": null,
            "left": null,
            "margin": null,
            "max_height": null,
            "max_width": null,
            "min_height": null,
            "min_width": null,
            "object_fit": null,
            "object_position": null,
            "order": null,
            "overflow": null,
            "overflow_x": null,
            "overflow_y": null,
            "padding": null,
            "right": null,
            "top": null,
            "visibility": null,
            "width": null
          }
        },
        "285cbf94053141fa935efd409a67e14a": {
          "model_module": "@jupyter-widgets/controls",
          "model_name": "ProgressStyleModel",
          "model_module_version": "1.5.0",
          "state": {
            "_model_module": "@jupyter-widgets/controls",
            "_model_module_version": "1.5.0",
            "_model_name": "ProgressStyleModel",
            "_view_count": null,
            "_view_module": "@jupyter-widgets/base",
            "_view_module_version": "1.2.0",
            "_view_name": "StyleView",
            "bar_color": null,
            "description_width": ""
          }
        },
        "2886ac2f529e45d288c89e07bc5d7c5d": {
          "model_module": "@jupyter-widgets/base",
          "model_name": "LayoutModel",
          "model_module_version": "1.2.0",
          "state": {
            "_model_module": "@jupyter-widgets/base",
            "_model_module_version": "1.2.0",
            "_model_name": "LayoutModel",
            "_view_count": null,
            "_view_module": "@jupyter-widgets/base",
            "_view_module_version": "1.2.0",
            "_view_name": "LayoutView",
            "align_content": null,
            "align_items": null,
            "align_self": null,
            "border": null,
            "bottom": null,
            "display": null,
            "flex": null,
            "flex_flow": null,
            "grid_area": null,
            "grid_auto_columns": null,
            "grid_auto_flow": null,
            "grid_auto_rows": null,
            "grid_column": null,
            "grid_gap": null,
            "grid_row": null,
            "grid_template_areas": null,
            "grid_template_columns": null,
            "grid_template_rows": null,
            "height": null,
            "justify_content": null,
            "justify_items": null,
            "left": null,
            "margin": null,
            "max_height": null,
            "max_width": null,
            "min_height": null,
            "min_width": null,
            "object_fit": null,
            "object_position": null,
            "order": null,
            "overflow": null,
            "overflow_x": null,
            "overflow_y": null,
            "padding": null,
            "right": null,
            "top": null,
            "visibility": null,
            "width": null
          }
        },
        "6a8508ccd1074588ba5547898ac82077": {
          "model_module": "@jupyter-widgets/controls",
          "model_name": "DescriptionStyleModel",
          "model_module_version": "1.5.0",
          "state": {
            "_model_module": "@jupyter-widgets/controls",
            "_model_module_version": "1.5.0",
            "_model_name": "DescriptionStyleModel",
            "_view_count": null,
            "_view_module": "@jupyter-widgets/base",
            "_view_module_version": "1.2.0",
            "_view_name": "StyleView",
            "description_width": ""
          }
        },
        "28f68f5fced74e2e9a9a2d9387349a2f": {
          "model_module": "@jupyter-widgets/controls",
          "model_name": "HBoxModel",
          "model_module_version": "1.5.0",
          "state": {
            "_dom_classes": [],
            "_model_module": "@jupyter-widgets/controls",
            "_model_module_version": "1.5.0",
            "_model_name": "HBoxModel",
            "_view_count": null,
            "_view_module": "@jupyter-widgets/controls",
            "_view_module_version": "1.5.0",
            "_view_name": "HBoxView",
            "box_style": "",
            "children": [
              "IPY_MODEL_f57fbb62045e41b29ccdc1600b18542f",
              "IPY_MODEL_d0a12c56e9744e72a3cd8a72d1c1a383",
              "IPY_MODEL_de8ee17c18a64ec09a0e8707a83a3fdd"
            ],
            "layout": "IPY_MODEL_b5e2e5b9e85c417ea748aebeded78c89"
          }
        },
        "f57fbb62045e41b29ccdc1600b18542f": {
          "model_module": "@jupyter-widgets/controls",
          "model_name": "HTMLModel",
          "model_module_version": "1.5.0",
          "state": {
            "_dom_classes": [],
            "_model_module": "@jupyter-widgets/controls",
            "_model_module_version": "1.5.0",
            "_model_name": "HTMLModel",
            "_view_count": null,
            "_view_module": "@jupyter-widgets/controls",
            "_view_module_version": "1.5.0",
            "_view_name": "HTMLView",
            "description": "",
            "description_tooltip": null,
            "layout": "IPY_MODEL_4a865963b8a44861ab38f7e6e9c18b64",
            "placeholder": "​",
            "style": "IPY_MODEL_cf9da2e03ae542558ef4c63f8abe5377",
            "value": "Testing DataLoader 0: 100%"
          }
        },
        "d0a12c56e9744e72a3cd8a72d1c1a383": {
          "model_module": "@jupyter-widgets/controls",
          "model_name": "FloatProgressModel",
          "model_module_version": "1.5.0",
          "state": {
            "_dom_classes": [],
            "_model_module": "@jupyter-widgets/controls",
            "_model_module_version": "1.5.0",
            "_model_name": "FloatProgressModel",
            "_view_count": null,
            "_view_module": "@jupyter-widgets/controls",
            "_view_module_version": "1.5.0",
            "_view_name": "ProgressView",
            "bar_style": "success",
            "description": "",
            "description_tooltip": null,
            "layout": "IPY_MODEL_62489438ec4e48519f05e78dbb0718c1",
            "max": 313,
            "min": 0,
            "orientation": "horizontal",
            "style": "IPY_MODEL_5dd71e08dce04afa987f6927e5760421",
            "value": 313
          }
        },
        "de8ee17c18a64ec09a0e8707a83a3fdd": {
          "model_module": "@jupyter-widgets/controls",
          "model_name": "HTMLModel",
          "model_module_version": "1.5.0",
          "state": {
            "_dom_classes": [],
            "_model_module": "@jupyter-widgets/controls",
            "_model_module_version": "1.5.0",
            "_model_name": "HTMLModel",
            "_view_count": null,
            "_view_module": "@jupyter-widgets/controls",
            "_view_module_version": "1.5.0",
            "_view_name": "HTMLView",
            "description": "",
            "description_tooltip": null,
            "layout": "IPY_MODEL_e4dc777b201a470289fa8554e74ffb99",
            "placeholder": "​",
            "style": "IPY_MODEL_7a484ed1b09a4c1ea2e25526cb68f511",
            "value": " 313/313 [00:11&lt;00:00, 27.75it/s]"
          }
        },
        "b5e2e5b9e85c417ea748aebeded78c89": {
          "model_module": "@jupyter-widgets/base",
          "model_name": "LayoutModel",
          "model_module_version": "1.2.0",
          "state": {
            "_model_module": "@jupyter-widgets/base",
            "_model_module_version": "1.2.0",
            "_model_name": "LayoutModel",
            "_view_count": null,
            "_view_module": "@jupyter-widgets/base",
            "_view_module_version": "1.2.0",
            "_view_name": "LayoutView",
            "align_content": null,
            "align_items": null,
            "align_self": null,
            "border": null,
            "bottom": null,
            "display": "inline-flex",
            "flex": null,
            "flex_flow": "row wrap",
            "grid_area": null,
            "grid_auto_columns": null,
            "grid_auto_flow": null,
            "grid_auto_rows": null,
            "grid_column": null,
            "grid_gap": null,
            "grid_row": null,
            "grid_template_areas": null,
            "grid_template_columns": null,
            "grid_template_rows": null,
            "height": null,
            "justify_content": null,
            "justify_items": null,
            "left": null,
            "margin": null,
            "max_height": null,
            "max_width": null,
            "min_height": null,
            "min_width": null,
            "object_fit": null,
            "object_position": null,
            "order": null,
            "overflow": null,
            "overflow_x": null,
            "overflow_y": null,
            "padding": null,
            "right": null,
            "top": null,
            "visibility": null,
            "width": "100%"
          }
        },
        "4a865963b8a44861ab38f7e6e9c18b64": {
          "model_module": "@jupyter-widgets/base",
          "model_name": "LayoutModel",
          "model_module_version": "1.2.0",
          "state": {
            "_model_module": "@jupyter-widgets/base",
            "_model_module_version": "1.2.0",
            "_model_name": "LayoutModel",
            "_view_count": null,
            "_view_module": "@jupyter-widgets/base",
            "_view_module_version": "1.2.0",
            "_view_name": "LayoutView",
            "align_content": null,
            "align_items": null,
            "align_self": null,
            "border": null,
            "bottom": null,
            "display": null,
            "flex": null,
            "flex_flow": null,
            "grid_area": null,
            "grid_auto_columns": null,
            "grid_auto_flow": null,
            "grid_auto_rows": null,
            "grid_column": null,
            "grid_gap": null,
            "grid_row": null,
            "grid_template_areas": null,
            "grid_template_columns": null,
            "grid_template_rows": null,
            "height": null,
            "justify_content": null,
            "justify_items": null,
            "left": null,
            "margin": null,
            "max_height": null,
            "max_width": null,
            "min_height": null,
            "min_width": null,
            "object_fit": null,
            "object_position": null,
            "order": null,
            "overflow": null,
            "overflow_x": null,
            "overflow_y": null,
            "padding": null,
            "right": null,
            "top": null,
            "visibility": null,
            "width": null
          }
        },
        "cf9da2e03ae542558ef4c63f8abe5377": {
          "model_module": "@jupyter-widgets/controls",
          "model_name": "DescriptionStyleModel",
          "model_module_version": "1.5.0",
          "state": {
            "_model_module": "@jupyter-widgets/controls",
            "_model_module_version": "1.5.0",
            "_model_name": "DescriptionStyleModel",
            "_view_count": null,
            "_view_module": "@jupyter-widgets/base",
            "_view_module_version": "1.2.0",
            "_view_name": "StyleView",
            "description_width": ""
          }
        },
        "62489438ec4e48519f05e78dbb0718c1": {
          "model_module": "@jupyter-widgets/base",
          "model_name": "LayoutModel",
          "model_module_version": "1.2.0",
          "state": {
            "_model_module": "@jupyter-widgets/base",
            "_model_module_version": "1.2.0",
            "_model_name": "LayoutModel",
            "_view_count": null,
            "_view_module": "@jupyter-widgets/base",
            "_view_module_version": "1.2.0",
            "_view_name": "LayoutView",
            "align_content": null,
            "align_items": null,
            "align_self": null,
            "border": null,
            "bottom": null,
            "display": null,
            "flex": "2",
            "flex_flow": null,
            "grid_area": null,
            "grid_auto_columns": null,
            "grid_auto_flow": null,
            "grid_auto_rows": null,
            "grid_column": null,
            "grid_gap": null,
            "grid_row": null,
            "grid_template_areas": null,
            "grid_template_columns": null,
            "grid_template_rows": null,
            "height": null,
            "justify_content": null,
            "justify_items": null,
            "left": null,
            "margin": null,
            "max_height": null,
            "max_width": null,
            "min_height": null,
            "min_width": null,
            "object_fit": null,
            "object_position": null,
            "order": null,
            "overflow": null,
            "overflow_x": null,
            "overflow_y": null,
            "padding": null,
            "right": null,
            "top": null,
            "visibility": null,
            "width": null
          }
        },
        "5dd71e08dce04afa987f6927e5760421": {
          "model_module": "@jupyter-widgets/controls",
          "model_name": "ProgressStyleModel",
          "model_module_version": "1.5.0",
          "state": {
            "_model_module": "@jupyter-widgets/controls",
            "_model_module_version": "1.5.0",
            "_model_name": "ProgressStyleModel",
            "_view_count": null,
            "_view_module": "@jupyter-widgets/base",
            "_view_module_version": "1.2.0",
            "_view_name": "StyleView",
            "bar_color": null,
            "description_width": ""
          }
        },
        "e4dc777b201a470289fa8554e74ffb99": {
          "model_module": "@jupyter-widgets/base",
          "model_name": "LayoutModel",
          "model_module_version": "1.2.0",
          "state": {
            "_model_module": "@jupyter-widgets/base",
            "_model_module_version": "1.2.0",
            "_model_name": "LayoutModel",
            "_view_count": null,
            "_view_module": "@jupyter-widgets/base",
            "_view_module_version": "1.2.0",
            "_view_name": "LayoutView",
            "align_content": null,
            "align_items": null,
            "align_self": null,
            "border": null,
            "bottom": null,
            "display": null,
            "flex": null,
            "flex_flow": null,
            "grid_area": null,
            "grid_auto_columns": null,
            "grid_auto_flow": null,
            "grid_auto_rows": null,
            "grid_column": null,
            "grid_gap": null,
            "grid_row": null,
            "grid_template_areas": null,
            "grid_template_columns": null,
            "grid_template_rows": null,
            "height": null,
            "justify_content": null,
            "justify_items": null,
            "left": null,
            "margin": null,
            "max_height": null,
            "max_width": null,
            "min_height": null,
            "min_width": null,
            "object_fit": null,
            "object_position": null,
            "order": null,
            "overflow": null,
            "overflow_x": null,
            "overflow_y": null,
            "padding": null,
            "right": null,
            "top": null,
            "visibility": null,
            "width": null
          }
        },
        "7a484ed1b09a4c1ea2e25526cb68f511": {
          "model_module": "@jupyter-widgets/controls",
          "model_name": "DescriptionStyleModel",
          "model_module_version": "1.5.0",
          "state": {
            "_model_module": "@jupyter-widgets/controls",
            "_model_module_version": "1.5.0",
            "_model_name": "DescriptionStyleModel",
            "_view_count": null,
            "_view_module": "@jupyter-widgets/base",
            "_view_module_version": "1.2.0",
            "_view_name": "StyleView",
            "description_width": ""
          }
        }
      }
    }
  },
  "nbformat": 4,
  "nbformat_minor": 0
}